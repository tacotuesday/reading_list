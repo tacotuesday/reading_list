{
 "cells": [
  {
   "cell_type": "code",
   "execution_count": 2,
   "metadata": {},
   "outputs": [
    {
     "data": {
      "text/plain": [
       "20"
      ]
     },
     "execution_count": 2,
     "metadata": {},
     "output_type": "execute_result"
    }
   ],
   "source": [
    "using CSV\n",
    "using CategoricalArrays\n",
    "using Chain\n",
    "using DataFrames\n",
    "using GLM\n",
    "using Plots\n",
    "using Random\n",
    "using StatsPlots\n",
    "using Statistics\n",
    "\n",
    "ENV[\"LINES\"] = 20\n",
    "ENV[\"COLUMNS\"] = 20"
   ]
  },
  {
   "cell_type": "code",
   "execution_count": 5,
   "metadata": {},
   "outputs": [
    {
     "data": {
      "text/html": [
       "<div><div style = \"float: left;\"><span>920×16 DataFrame</span></div><div style = \"float: right;\"><span style = \"font-style: italic;\">895 rows omitted</span></div><div style = \"clear: both;\"></div></div><div class = \"data-frame\" style = \"overflow-x: scroll;\"><table class = \"data-frame\" style = \"margin-bottom: 6px;\"><thead><tr class = \"header\"><th class = \"rowNumber\" style = \"font-weight: bold; text-align: right;\">Row</th><th style = \"text-align: left;\">id</th><th style = \"text-align: left;\">age</th><th style = \"text-align: left;\">sex</th><th style = \"text-align: left;\">dataset</th><th style = \"text-align: left;\">cp</th><th style = \"text-align: left;\">trestbps</th><th style = \"text-align: left;\">chol</th><th style = \"text-align: left;\">fbs</th><th style = \"text-align: left;\">restecg</th><th style = \"text-align: left;\">thalch</th><th style = \"text-align: left;\">exang</th><th style = \"text-align: left;\">oldpeak</th><th style = \"text-align: left;\">slope</th><th style = \"text-align: left;\">ca</th><th style = \"text-align: left;\">thal</th><th style = \"text-align: left;\">num</th></tr><tr class = \"subheader headerLastRow\"><th class = \"rowNumber\" style = \"font-weight: bold; text-align: right;\"></th><th title = \"Int64\" style = \"text-align: left;\">Int64</th><th title = \"Int64\" style = \"text-align: left;\">Int64</th><th title = \"String7\" style = \"text-align: left;\">String7</th><th title = \"String15\" style = \"text-align: left;\">String15</th><th title = \"String15\" style = \"text-align: left;\">String15</th><th title = \"Union{Missing, Int64}\" style = \"text-align: left;\">Int64?</th><th title = \"Union{Missing, Int64}\" style = \"text-align: left;\">Int64?</th><th title = \"Union{Missing, Bool}\" style = \"text-align: left;\">Bool?</th><th title = \"Union{Missing, String31}\" style = \"text-align: left;\">String31?</th><th title = \"Union{Missing, Int64}\" style = \"text-align: left;\">Int64?</th><th title = \"Union{Missing, Bool}\" style = \"text-align: left;\">Bool?</th><th title = \"Union{Missing, Float64}\" style = \"text-align: left;\">Float64?</th><th title = \"Union{Missing, String15}\" style = \"text-align: left;\">String15?</th><th title = \"Union{Missing, Int64}\" style = \"text-align: left;\">Int64?</th><th title = \"Union{Missing, String31}\" style = \"text-align: left;\">String31?</th><th title = \"Int64\" style = \"text-align: left;\">Int64</th></tr></thead><tbody><tr><td class = \"rowNumber\" style = \"font-weight: bold; text-align: right;\">1</td><td style = \"text-align: right;\">1</td><td style = \"text-align: right;\">63</td><td style = \"text-align: left;\">Male</td><td style = \"text-align: left;\">Cleveland</td><td style = \"text-align: left;\">typical angina</td><td style = \"text-align: right;\">145</td><td style = \"text-align: right;\">233</td><td style = \"text-align: right;\">true</td><td style = \"text-align: left;\">lv hypertrophy</td><td style = \"text-align: right;\">150</td><td style = \"text-align: right;\">false</td><td style = \"text-align: right;\">2.3</td><td style = \"text-align: left;\">downsloping</td><td style = \"text-align: right;\">0</td><td style = \"text-align: left;\">fixed defect</td><td style = \"text-align: right;\">0</td></tr><tr><td class = \"rowNumber\" style = \"font-weight: bold; text-align: right;\">2</td><td style = \"text-align: right;\">2</td><td style = \"text-align: right;\">67</td><td style = \"text-align: left;\">Male</td><td style = \"text-align: left;\">Cleveland</td><td style = \"text-align: left;\">asymptomatic</td><td style = \"text-align: right;\">160</td><td style = \"text-align: right;\">286</td><td style = \"text-align: right;\">false</td><td style = \"text-align: left;\">lv hypertrophy</td><td style = \"text-align: right;\">108</td><td style = \"text-align: right;\">true</td><td style = \"text-align: right;\">1.5</td><td style = \"text-align: left;\">flat</td><td style = \"text-align: right;\">3</td><td style = \"text-align: left;\">normal</td><td style = \"text-align: right;\">2</td></tr><tr><td class = \"rowNumber\" style = \"font-weight: bold; text-align: right;\">3</td><td style = \"text-align: right;\">3</td><td style = \"text-align: right;\">67</td><td style = \"text-align: left;\">Male</td><td style = \"text-align: left;\">Cleveland</td><td style = \"text-align: left;\">asymptomatic</td><td style = \"text-align: right;\">120</td><td style = \"text-align: right;\">229</td><td style = \"text-align: right;\">false</td><td style = \"text-align: left;\">lv hypertrophy</td><td style = \"text-align: right;\">129</td><td style = \"text-align: right;\">true</td><td style = \"text-align: right;\">2.6</td><td style = \"text-align: left;\">flat</td><td style = \"text-align: right;\">2</td><td style = \"text-align: left;\">reversable defect</td><td style = \"text-align: right;\">1</td></tr><tr><td class = \"rowNumber\" style = \"font-weight: bold; text-align: right;\">4</td><td style = \"text-align: right;\">4</td><td style = \"text-align: right;\">37</td><td style = \"text-align: left;\">Male</td><td style = \"text-align: left;\">Cleveland</td><td style = \"text-align: left;\">non-anginal</td><td style = \"text-align: right;\">130</td><td style = \"text-align: right;\">250</td><td style = \"text-align: right;\">false</td><td style = \"text-align: left;\">normal</td><td style = \"text-align: right;\">187</td><td style = \"text-align: right;\">false</td><td style = \"text-align: right;\">3.5</td><td style = \"text-align: left;\">downsloping</td><td style = \"text-align: right;\">0</td><td style = \"text-align: left;\">normal</td><td style = \"text-align: right;\">0</td></tr><tr><td class = \"rowNumber\" style = \"font-weight: bold; text-align: right;\">5</td><td style = \"text-align: right;\">5</td><td style = \"text-align: right;\">41</td><td style = \"text-align: left;\">Female</td><td style = \"text-align: left;\">Cleveland</td><td style = \"text-align: left;\">atypical angina</td><td style = \"text-align: right;\">130</td><td style = \"text-align: right;\">204</td><td style = \"text-align: right;\">false</td><td style = \"text-align: left;\">lv hypertrophy</td><td style = \"text-align: right;\">172</td><td style = \"text-align: right;\">false</td><td style = \"text-align: right;\">1.4</td><td style = \"text-align: left;\">upsloping</td><td style = \"text-align: right;\">0</td><td style = \"text-align: left;\">normal</td><td style = \"text-align: right;\">0</td></tr><tr><td class = \"rowNumber\" style = \"font-weight: bold; text-align: right;\">6</td><td style = \"text-align: right;\">6</td><td style = \"text-align: right;\">56</td><td style = \"text-align: left;\">Male</td><td style = \"text-align: left;\">Cleveland</td><td style = \"text-align: left;\">atypical angina</td><td style = \"text-align: right;\">120</td><td style = \"text-align: right;\">236</td><td style = \"text-align: right;\">false</td><td style = \"text-align: left;\">normal</td><td style = \"text-align: right;\">178</td><td style = \"text-align: right;\">false</td><td style = \"text-align: right;\">0.8</td><td style = \"text-align: left;\">upsloping</td><td style = \"text-align: right;\">0</td><td style = \"text-align: left;\">normal</td><td style = \"text-align: right;\">0</td></tr><tr><td class = \"rowNumber\" style = \"font-weight: bold; text-align: right;\">7</td><td style = \"text-align: right;\">7</td><td style = \"text-align: right;\">62</td><td style = \"text-align: left;\">Female</td><td style = \"text-align: left;\">Cleveland</td><td style = \"text-align: left;\">asymptomatic</td><td style = \"text-align: right;\">140</td><td style = \"text-align: right;\">268</td><td style = \"text-align: right;\">false</td><td style = \"text-align: left;\">lv hypertrophy</td><td style = \"text-align: right;\">160</td><td style = \"text-align: right;\">false</td><td style = \"text-align: right;\">3.6</td><td style = \"text-align: left;\">downsloping</td><td style = \"text-align: right;\">2</td><td style = \"text-align: left;\">normal</td><td style = \"text-align: right;\">3</td></tr><tr><td class = \"rowNumber\" style = \"font-weight: bold; text-align: right;\">8</td><td style = \"text-align: right;\">8</td><td style = \"text-align: right;\">57</td><td style = \"text-align: left;\">Female</td><td style = \"text-align: left;\">Cleveland</td><td style = \"text-align: left;\">asymptomatic</td><td style = \"text-align: right;\">120</td><td style = \"text-align: right;\">354</td><td style = \"text-align: right;\">false</td><td style = \"text-align: left;\">normal</td><td style = \"text-align: right;\">163</td><td style = \"text-align: right;\">true</td><td style = \"text-align: right;\">0.6</td><td style = \"text-align: left;\">upsloping</td><td style = \"text-align: right;\">0</td><td style = \"text-align: left;\">normal</td><td style = \"text-align: right;\">0</td></tr><tr><td class = \"rowNumber\" style = \"font-weight: bold; text-align: right;\">9</td><td style = \"text-align: right;\">9</td><td style = \"text-align: right;\">63</td><td style = \"text-align: left;\">Male</td><td style = \"text-align: left;\">Cleveland</td><td style = \"text-align: left;\">asymptomatic</td><td style = \"text-align: right;\">130</td><td style = \"text-align: right;\">254</td><td style = \"text-align: right;\">false</td><td style = \"text-align: left;\">lv hypertrophy</td><td style = \"text-align: right;\">147</td><td style = \"text-align: right;\">false</td><td style = \"text-align: right;\">1.4</td><td style = \"text-align: left;\">flat</td><td style = \"text-align: right;\">1</td><td style = \"text-align: left;\">reversable defect</td><td style = \"text-align: right;\">2</td></tr><tr><td class = \"rowNumber\" style = \"font-weight: bold; text-align: right;\">10</td><td style = \"text-align: right;\">10</td><td style = \"text-align: right;\">53</td><td style = \"text-align: left;\">Male</td><td style = \"text-align: left;\">Cleveland</td><td style = \"text-align: left;\">asymptomatic</td><td style = \"text-align: right;\">140</td><td style = \"text-align: right;\">203</td><td style = \"text-align: right;\">true</td><td style = \"text-align: left;\">lv hypertrophy</td><td style = \"text-align: right;\">155</td><td style = \"text-align: right;\">true</td><td style = \"text-align: right;\">3.1</td><td style = \"text-align: left;\">downsloping</td><td style = \"text-align: right;\">0</td><td style = \"text-align: left;\">reversable defect</td><td style = \"text-align: right;\">1</td></tr><tr><td class = \"rowNumber\" style = \"font-weight: bold; text-align: right;\">11</td><td style = \"text-align: right;\">11</td><td style = \"text-align: right;\">57</td><td style = \"text-align: left;\">Male</td><td style = \"text-align: left;\">Cleveland</td><td style = \"text-align: left;\">asymptomatic</td><td style = \"text-align: right;\">140</td><td style = \"text-align: right;\">192</td><td style = \"text-align: right;\">false</td><td style = \"text-align: left;\">normal</td><td style = \"text-align: right;\">148</td><td style = \"text-align: right;\">false</td><td style = \"text-align: right;\">0.4</td><td style = \"text-align: left;\">flat</td><td style = \"text-align: right;\">0</td><td style = \"text-align: left;\">fixed defect</td><td style = \"text-align: right;\">0</td></tr><tr><td class = \"rowNumber\" style = \"font-weight: bold; text-align: right;\">12</td><td style = \"text-align: right;\">12</td><td style = \"text-align: right;\">56</td><td style = \"text-align: left;\">Female</td><td style = \"text-align: left;\">Cleveland</td><td style = \"text-align: left;\">atypical angina</td><td style = \"text-align: right;\">140</td><td style = \"text-align: right;\">294</td><td style = \"text-align: right;\">false</td><td style = \"text-align: left;\">lv hypertrophy</td><td style = \"text-align: right;\">153</td><td style = \"text-align: right;\">false</td><td style = \"text-align: right;\">1.3</td><td style = \"text-align: left;\">flat</td><td style = \"text-align: right;\">0</td><td style = \"text-align: left;\">normal</td><td style = \"text-align: right;\">0</td></tr><tr><td class = \"rowNumber\" style = \"font-weight: bold; text-align: right;\">13</td><td style = \"text-align: right;\">13</td><td style = \"text-align: right;\">56</td><td style = \"text-align: left;\">Male</td><td style = \"text-align: left;\">Cleveland</td><td style = \"text-align: left;\">non-anginal</td><td style = \"text-align: right;\">130</td><td style = \"text-align: right;\">256</td><td style = \"text-align: right;\">true</td><td style = \"text-align: left;\">lv hypertrophy</td><td style = \"text-align: right;\">142</td><td style = \"text-align: right;\">true</td><td style = \"text-align: right;\">0.6</td><td style = \"text-align: left;\">flat</td><td style = \"text-align: right;\">1</td><td style = \"text-align: left;\">fixed defect</td><td style = \"text-align: right;\">2</td></tr><tr><td style = \"text-align: right;\">&vellip;</td><td style = \"text-align: right;\">&vellip;</td><td style = \"text-align: right;\">&vellip;</td><td style = \"text-align: right;\">&vellip;</td><td style = \"text-align: right;\">&vellip;</td><td style = \"text-align: right;\">&vellip;</td><td style = \"text-align: right;\">&vellip;</td><td style = \"text-align: right;\">&vellip;</td><td style = \"text-align: right;\">&vellip;</td><td style = \"text-align: right;\">&vellip;</td><td style = \"text-align: right;\">&vellip;</td><td style = \"text-align: right;\">&vellip;</td><td style = \"text-align: right;\">&vellip;</td><td style = \"text-align: right;\">&vellip;</td><td style = \"text-align: right;\">&vellip;</td><td style = \"text-align: right;\">&vellip;</td><td style = \"text-align: right;\">&vellip;</td></tr><tr><td class = \"rowNumber\" style = \"font-weight: bold; text-align: right;\">909</td><td style = \"text-align: right;\">909</td><td style = \"text-align: right;\">74</td><td style = \"text-align: left;\">Male</td><td style = \"text-align: left;\">VA Long Beach</td><td style = \"text-align: left;\">asymptomatic</td><td style = \"text-align: right;\">155</td><td style = \"text-align: right;\">310</td><td style = \"text-align: right;\">false</td><td style = \"text-align: left;\">normal</td><td style = \"text-align: right;\">112</td><td style = \"text-align: right;\">true</td><td style = \"text-align: right;\">1.5</td><td style = \"text-align: left;\">downsloping</td><td style = \"text-align: right;\">missing</td><td style = \"text-align: left;\">missing</td><td style = \"text-align: right;\">2</td></tr><tr><td class = \"rowNumber\" style = \"font-weight: bold; text-align: right;\">910</td><td style = \"text-align: right;\">910</td><td style = \"text-align: right;\">68</td><td style = \"text-align: left;\">Male</td><td style = \"text-align: left;\">VA Long Beach</td><td style = \"text-align: left;\">non-anginal</td><td style = \"text-align: right;\">134</td><td style = \"text-align: right;\">254</td><td style = \"text-align: right;\">true</td><td style = \"text-align: left;\">normal</td><td style = \"text-align: right;\">151</td><td style = \"text-align: right;\">true</td><td style = \"text-align: right;\">0.0</td><td style = \"text-align: left;\">missing</td><td style = \"text-align: right;\">missing</td><td style = \"text-align: left;\">normal</td><td style = \"text-align: right;\">0</td></tr><tr><td class = \"rowNumber\" style = \"font-weight: bold; text-align: right;\">911</td><td style = \"text-align: right;\">911</td><td style = \"text-align: right;\">51</td><td style = \"text-align: left;\">Female</td><td style = \"text-align: left;\">VA Long Beach</td><td style = \"text-align: left;\">asymptomatic</td><td style = \"text-align: right;\">114</td><td style = \"text-align: right;\">258</td><td style = \"text-align: right;\">true</td><td style = \"text-align: left;\">lv hypertrophy</td><td style = \"text-align: right;\">96</td><td style = \"text-align: right;\">false</td><td style = \"text-align: right;\">1.0</td><td style = \"text-align: left;\">upsloping</td><td style = \"text-align: right;\">missing</td><td style = \"text-align: left;\">missing</td><td style = \"text-align: right;\">0</td></tr><tr><td class = \"rowNumber\" style = \"font-weight: bold; text-align: right;\">912</td><td style = \"text-align: right;\">912</td><td style = \"text-align: right;\">62</td><td style = \"text-align: left;\">Male</td><td style = \"text-align: left;\">VA Long Beach</td><td style = \"text-align: left;\">asymptomatic</td><td style = \"text-align: right;\">160</td><td style = \"text-align: right;\">254</td><td style = \"text-align: right;\">true</td><td style = \"text-align: left;\">st-t abnormality</td><td style = \"text-align: right;\">108</td><td style = \"text-align: right;\">true</td><td style = \"text-align: right;\">3.0</td><td style = \"text-align: left;\">flat</td><td style = \"text-align: right;\">missing</td><td style = \"text-align: left;\">missing</td><td style = \"text-align: right;\">4</td></tr><tr><td class = \"rowNumber\" style = \"font-weight: bold; text-align: right;\">913</td><td style = \"text-align: right;\">913</td><td style = \"text-align: right;\">53</td><td style = \"text-align: left;\">Male</td><td style = \"text-align: left;\">VA Long Beach</td><td style = \"text-align: left;\">asymptomatic</td><td style = \"text-align: right;\">144</td><td style = \"text-align: right;\">300</td><td style = \"text-align: right;\">true</td><td style = \"text-align: left;\">st-t abnormality</td><td style = \"text-align: right;\">128</td><td style = \"text-align: right;\">true</td><td style = \"text-align: right;\">1.5</td><td style = \"text-align: left;\">flat</td><td style = \"text-align: right;\">missing</td><td style = \"text-align: left;\">missing</td><td style = \"text-align: right;\">3</td></tr><tr><td class = \"rowNumber\" style = \"font-weight: bold; text-align: right;\">914</td><td style = \"text-align: right;\">914</td><td style = \"text-align: right;\">62</td><td style = \"text-align: left;\">Male</td><td style = \"text-align: left;\">VA Long Beach</td><td style = \"text-align: left;\">asymptomatic</td><td style = \"text-align: right;\">158</td><td style = \"text-align: right;\">170</td><td style = \"text-align: right;\">false</td><td style = \"text-align: left;\">st-t abnormality</td><td style = \"text-align: right;\">138</td><td style = \"text-align: right;\">true</td><td style = \"text-align: right;\">0.0</td><td style = \"text-align: left;\">missing</td><td style = \"text-align: right;\">missing</td><td style = \"text-align: left;\">missing</td><td style = \"text-align: right;\">1</td></tr><tr><td class = \"rowNumber\" style = \"font-weight: bold; text-align: right;\">915</td><td style = \"text-align: right;\">915</td><td style = \"text-align: right;\">46</td><td style = \"text-align: left;\">Male</td><td style = \"text-align: left;\">VA Long Beach</td><td style = \"text-align: left;\">asymptomatic</td><td style = \"text-align: right;\">134</td><td style = \"text-align: right;\">310</td><td style = \"text-align: right;\">false</td><td style = \"text-align: left;\">normal</td><td style = \"text-align: right;\">126</td><td style = \"text-align: right;\">false</td><td style = \"text-align: right;\">0.0</td><td style = \"text-align: left;\">missing</td><td style = \"text-align: right;\">missing</td><td style = \"text-align: left;\">normal</td><td style = \"text-align: right;\">2</td></tr><tr><td class = \"rowNumber\" style = \"font-weight: bold; text-align: right;\">916</td><td style = \"text-align: right;\">916</td><td style = \"text-align: right;\">54</td><td style = \"text-align: left;\">Female</td><td style = \"text-align: left;\">VA Long Beach</td><td style = \"text-align: left;\">asymptomatic</td><td style = \"text-align: right;\">127</td><td style = \"text-align: right;\">333</td><td style = \"text-align: right;\">true</td><td style = \"text-align: left;\">st-t abnormality</td><td style = \"text-align: right;\">154</td><td style = \"text-align: right;\">false</td><td style = \"text-align: right;\">0.0</td><td style = \"text-align: left;\">missing</td><td style = \"text-align: right;\">missing</td><td style = \"text-align: left;\">missing</td><td style = \"text-align: right;\">1</td></tr><tr><td class = \"rowNumber\" style = \"font-weight: bold; text-align: right;\">917</td><td style = \"text-align: right;\">917</td><td style = \"text-align: right;\">62</td><td style = \"text-align: left;\">Male</td><td style = \"text-align: left;\">VA Long Beach</td><td style = \"text-align: left;\">typical angina</td><td style = \"text-align: right;\">missing</td><td style = \"text-align: right;\">139</td><td style = \"text-align: right;\">false</td><td style = \"text-align: left;\">st-t abnormality</td><td style = \"text-align: right;\">missing</td><td style = \"text-align: right;\">missing</td><td style = \"text-align: right;\">missing</td><td style = \"text-align: left;\">missing</td><td style = \"text-align: right;\">missing</td><td style = \"text-align: left;\">missing</td><td style = \"text-align: right;\">0</td></tr><tr><td class = \"rowNumber\" style = \"font-weight: bold; text-align: right;\">918</td><td style = \"text-align: right;\">918</td><td style = \"text-align: right;\">55</td><td style = \"text-align: left;\">Male</td><td style = \"text-align: left;\">VA Long Beach</td><td style = \"text-align: left;\">asymptomatic</td><td style = \"text-align: right;\">122</td><td style = \"text-align: right;\">223</td><td style = \"text-align: right;\">true</td><td style = \"text-align: left;\">st-t abnormality</td><td style = \"text-align: right;\">100</td><td style = \"text-align: right;\">false</td><td style = \"text-align: right;\">0.0</td><td style = \"text-align: left;\">missing</td><td style = \"text-align: right;\">missing</td><td style = \"text-align: left;\">fixed defect</td><td style = \"text-align: right;\">2</td></tr><tr><td class = \"rowNumber\" style = \"font-weight: bold; text-align: right;\">919</td><td style = \"text-align: right;\">919</td><td style = \"text-align: right;\">58</td><td style = \"text-align: left;\">Male</td><td style = \"text-align: left;\">VA Long Beach</td><td style = \"text-align: left;\">asymptomatic</td><td style = \"text-align: right;\">missing</td><td style = \"text-align: right;\">385</td><td style = \"text-align: right;\">true</td><td style = \"text-align: left;\">lv hypertrophy</td><td style = \"text-align: right;\">missing</td><td style = \"text-align: right;\">missing</td><td style = \"text-align: right;\">missing</td><td style = \"text-align: left;\">missing</td><td style = \"text-align: right;\">missing</td><td style = \"text-align: left;\">missing</td><td style = \"text-align: right;\">0</td></tr><tr><td class = \"rowNumber\" style = \"font-weight: bold; text-align: right;\">920</td><td style = \"text-align: right;\">920</td><td style = \"text-align: right;\">62</td><td style = \"text-align: left;\">Male</td><td style = \"text-align: left;\">VA Long Beach</td><td style = \"text-align: left;\">atypical angina</td><td style = \"text-align: right;\">120</td><td style = \"text-align: right;\">254</td><td style = \"text-align: right;\">false</td><td style = \"text-align: left;\">lv hypertrophy</td><td style = \"text-align: right;\">93</td><td style = \"text-align: right;\">true</td><td style = \"text-align: right;\">0.0</td><td style = \"text-align: left;\">missing</td><td style = \"text-align: right;\">missing</td><td style = \"text-align: left;\">missing</td><td style = \"text-align: right;\">1</td></tr></tbody></table></div>"
      ],
      "text/latex": [
       "\\begin{tabular}{r|cccc}\n",
       "\t& id & age & sex & \\\\\n",
       "\t\\hline\n",
       "\t& Int64 & Int64 & String7 & \\\\\n",
       "\t\\hline\n",
       "\t1 & 1 & 63 & Male & $\\dots$ \\\\\n",
       "\t2 & 2 & 67 & Male & $\\dots$ \\\\\n",
       "\t3 & 3 & 67 & Male & $\\dots$ \\\\\n",
       "\t4 & 4 & 37 & Male & $\\dots$ \\\\\n",
       "\t5 & 5 & 41 & Female & $\\dots$ \\\\\n",
       "\t6 & 6 & 56 & Male & $\\dots$ \\\\\n",
       "\t7 & 7 & 62 & Female & $\\dots$ \\\\\n",
       "\t8 & 8 & 57 & Female & $\\dots$ \\\\\n",
       "\t9 & 9 & 63 & Male & $\\dots$ \\\\\n",
       "\t10 & 10 & 53 & Male & $\\dots$ \\\\\n",
       "\t11 & 11 & 57 & Male & $\\dots$ \\\\\n",
       "\t12 & 12 & 56 & Female & $\\dots$ \\\\\n",
       "\t13 & 13 & 56 & Male & $\\dots$ \\\\\n",
       "\t14 & 14 & 44 & Male & $\\dots$ \\\\\n",
       "\t15 & 15 & 52 & Male & $\\dots$ \\\\\n",
       "\t16 & 16 & 57 & Male & $\\dots$ \\\\\n",
       "\t17 & 17 & 48 & Male & $\\dots$ \\\\\n",
       "\t18 & 18 & 54 & Male & $\\dots$ \\\\\n",
       "\t19 & 19 & 48 & Female & $\\dots$ \\\\\n",
       "\t20 & 20 & 49 & Male & $\\dots$ \\\\\n",
       "\t$\\dots$ & $\\dots$ & $\\dots$ & $\\dots$ &  \\\\\n",
       "\\end{tabular}\n"
      ],
      "text/plain": [
       "\u001b[1m920×16 DataFrame\u001b[0m\n",
       "\u001b[1m Row \u001b[0m│\u001b[1m id    \u001b[0m\u001b[1m age \u001b[0m ⋯\n",
       "     │\u001b[90m Int64 \u001b[0m\u001b[90m Int6\u001b[0m ⋯\n",
       "─────┼──────────────\n",
       "   1 │     1     6 ⋯\n",
       "   2 │     2     6\n",
       "   3 │     3     6\n",
       "   4 │     4     3\n",
       "   5 │     5     4 ⋯\n",
       "   6 │     6     5\n",
       "  ⋮  │   ⋮      ⋮  ⋱\n",
       " 916 │   916     5\n",
       " 917 │   917     6\n",
       " 918 │   918     5 ⋯\n",
       " 919 │   919     5\n",
       " 920 │   920     6\n",
       "\u001b[36m15 columns and 909 rows omitted\u001b[0m"
      ]
     },
     "execution_count": 5,
     "metadata": {},
     "output_type": "execute_result"
    }
   ],
   "source": [
    "df_raw = CSV.read(\"heart_disease_uci.csv\", DataFrame)"
   ]
  },
  {
   "cell_type": "code",
   "execution_count": 6,
   "metadata": {},
   "outputs": [
    {
     "data": {
      "text/plain": [
       "(920, 16)"
      ]
     },
     "execution_count": 6,
     "metadata": {},
     "output_type": "execute_result"
    }
   ],
   "source": [
    "size(df_raw)"
   ]
  },
  {
   "cell_type": "code",
   "execution_count": 9,
   "metadata": {},
   "outputs": [
    {
     "data": {
      "text/html": [
       "<div><div style = \"float: left;\"><span>16×7 DataFrame</span></div><div style = \"clear: both;\"></div></div><div class = \"data-frame\" style = \"overflow-x: scroll;\"><table class = \"data-frame\" style = \"margin-bottom: 6px;\"><thead><tr class = \"header\"><th class = \"rowNumber\" style = \"font-weight: bold; text-align: right;\">Row</th><th style = \"text-align: left;\">variable</th><th style = \"text-align: left;\">mean</th><th style = \"text-align: left;\">min</th><th style = \"text-align: left;\">median</th><th style = \"text-align: left;\">max</th><th style = \"text-align: left;\">nmissing</th><th style = \"text-align: left;\">eltype</th></tr><tr class = \"subheader headerLastRow\"><th class = \"rowNumber\" style = \"font-weight: bold; text-align: right;\"></th><th title = \"Symbol\" style = \"text-align: left;\">Symbol</th><th title = \"Union{Nothing, Float64}\" style = \"text-align: left;\">Union…</th><th title = \"Any\" style = \"text-align: left;\">Any</th><th title = \"Union{Nothing, Float64}\" style = \"text-align: left;\">Union…</th><th title = \"Any\" style = \"text-align: left;\">Any</th><th title = \"Int64\" style = \"text-align: left;\">Int64</th><th title = \"Type\" style = \"text-align: left;\">Type</th></tr></thead><tbody><tr><td class = \"rowNumber\" style = \"font-weight: bold; text-align: right;\">1</td><td style = \"text-align: left;\">id</td><td style = \"text-align: left;\">460.5</td><td style = \"text-align: left;\">1</td><td style = \"text-align: left;\">460.5</td><td style = \"text-align: left;\">920</td><td style = \"text-align: right;\">0</td><td style = \"text-align: left;\">Int64</td></tr><tr><td class = \"rowNumber\" style = \"font-weight: bold; text-align: right;\">2</td><td style = \"text-align: left;\">age</td><td style = \"text-align: left;\">53.5109</td><td style = \"text-align: left;\">28</td><td style = \"text-align: left;\">54.0</td><td style = \"text-align: left;\">77</td><td style = \"text-align: right;\">0</td><td style = \"text-align: left;\">Int64</td></tr><tr><td class = \"rowNumber\" style = \"font-weight: bold; text-align: right;\">3</td><td style = \"text-align: left;\">sex</td><td style = \"font-style: italic; text-align: left;\"></td><td style = \"text-align: left;\">Female</td><td style = \"font-style: italic; text-align: left;\"></td><td style = \"text-align: left;\">Male</td><td style = \"text-align: right;\">0</td><td style = \"text-align: left;\">String7</td></tr><tr><td class = \"rowNumber\" style = \"font-weight: bold; text-align: right;\">4</td><td style = \"text-align: left;\">dataset</td><td style = \"font-style: italic; text-align: left;\"></td><td style = \"text-align: left;\">Cleveland</td><td style = \"font-style: italic; text-align: left;\"></td><td style = \"text-align: left;\">VA Long Beach</td><td style = \"text-align: right;\">0</td><td style = \"text-align: left;\">String15</td></tr><tr><td class = \"rowNumber\" style = \"font-weight: bold; text-align: right;\">5</td><td style = \"text-align: left;\">cp</td><td style = \"font-style: italic; text-align: left;\"></td><td style = \"text-align: left;\">asymptomatic</td><td style = \"font-style: italic; text-align: left;\"></td><td style = \"text-align: left;\">typical angina</td><td style = \"text-align: right;\">0</td><td style = \"text-align: left;\">String15</td></tr><tr><td class = \"rowNumber\" style = \"font-weight: bold; text-align: right;\">6</td><td style = \"text-align: left;\">trestbps</td><td style = \"text-align: left;\">132.132</td><td style = \"text-align: left;\">0</td><td style = \"text-align: left;\">130.0</td><td style = \"text-align: left;\">200</td><td style = \"text-align: right;\">59</td><td style = \"text-align: left;\">Union{Missing, Int64}</td></tr><tr><td class = \"rowNumber\" style = \"font-weight: bold; text-align: right;\">7</td><td style = \"text-align: left;\">chol</td><td style = \"text-align: left;\">199.13</td><td style = \"text-align: left;\">0</td><td style = \"text-align: left;\">223.0</td><td style = \"text-align: left;\">603</td><td style = \"text-align: right;\">30</td><td style = \"text-align: left;\">Union{Missing, Int64}</td></tr><tr><td class = \"rowNumber\" style = \"font-weight: bold; text-align: right;\">8</td><td style = \"text-align: left;\">fbs</td><td style = \"text-align: left;\">0.166265</td><td style = \"text-align: left;\">false</td><td style = \"text-align: left;\">0.0</td><td style = \"text-align: left;\">true</td><td style = \"text-align: right;\">90</td><td style = \"text-align: left;\">Union{Missing, Bool}</td></tr><tr><td class = \"rowNumber\" style = \"font-weight: bold; text-align: right;\">9</td><td style = \"text-align: left;\">restecg</td><td style = \"font-style: italic; text-align: left;\"></td><td style = \"text-align: left;\">lv hypertrophy</td><td style = \"font-style: italic; text-align: left;\"></td><td style = \"text-align: left;\">st-t abnormality</td><td style = \"text-align: right;\">2</td><td style = \"text-align: left;\">Union{Missing, String31}</td></tr><tr><td class = \"rowNumber\" style = \"font-weight: bold; text-align: right;\">10</td><td style = \"text-align: left;\">thalch</td><td style = \"text-align: left;\">137.546</td><td style = \"text-align: left;\">60</td><td style = \"text-align: left;\">140.0</td><td style = \"text-align: left;\">202</td><td style = \"text-align: right;\">55</td><td style = \"text-align: left;\">Union{Missing, Int64}</td></tr><tr><td class = \"rowNumber\" style = \"font-weight: bold; text-align: right;\">11</td><td style = \"text-align: left;\">exang</td><td style = \"text-align: left;\">0.389595</td><td style = \"text-align: left;\">false</td><td style = \"text-align: left;\">0.0</td><td style = \"text-align: left;\">true</td><td style = \"text-align: right;\">55</td><td style = \"text-align: left;\">Union{Missing, Bool}</td></tr><tr><td class = \"rowNumber\" style = \"font-weight: bold; text-align: right;\">12</td><td style = \"text-align: left;\">oldpeak</td><td style = \"text-align: left;\">0.878788</td><td style = \"text-align: left;\">-2.6</td><td style = \"text-align: left;\">0.5</td><td style = \"text-align: left;\">6.2</td><td style = \"text-align: right;\">62</td><td style = \"text-align: left;\">Union{Missing, Float64}</td></tr><tr><td class = \"rowNumber\" style = \"font-weight: bold; text-align: right;\">13</td><td style = \"text-align: left;\">slope</td><td style = \"font-style: italic; text-align: left;\"></td><td style = \"text-align: left;\">downsloping</td><td style = \"font-style: italic; text-align: left;\"></td><td style = \"text-align: left;\">upsloping</td><td style = \"text-align: right;\">309</td><td style = \"text-align: left;\">Union{Missing, String15}</td></tr><tr><td class = \"rowNumber\" style = \"font-weight: bold; text-align: right;\">14</td><td style = \"text-align: left;\">ca</td><td style = \"text-align: left;\">0.676375</td><td style = \"text-align: left;\">0</td><td style = \"text-align: left;\">0.0</td><td style = \"text-align: left;\">3</td><td style = \"text-align: right;\">611</td><td style = \"text-align: left;\">Union{Missing, Int64}</td></tr><tr><td class = \"rowNumber\" style = \"font-weight: bold; text-align: right;\">15</td><td style = \"text-align: left;\">thal</td><td style = \"font-style: italic; text-align: left;\"></td><td style = \"text-align: left;\">fixed defect</td><td style = \"font-style: italic; text-align: left;\"></td><td style = \"text-align: left;\">reversable defect</td><td style = \"text-align: right;\">486</td><td style = \"text-align: left;\">Union{Missing, String31}</td></tr><tr><td class = \"rowNumber\" style = \"font-weight: bold; text-align: right;\">16</td><td style = \"text-align: left;\">num</td><td style = \"text-align: left;\">0.995652</td><td style = \"text-align: left;\">0</td><td style = \"text-align: left;\">1.0</td><td style = \"text-align: left;\">4</td><td style = \"text-align: right;\">0</td><td style = \"text-align: left;\">Int64</td></tr></tbody></table></div>"
      ],
      "text/latex": [
       "\\begin{tabular}{r|ccc}\n",
       "\t& variable & mean & \\\\\n",
       "\t\\hline\n",
       "\t& Symbol & Union… & \\\\\n",
       "\t\\hline\n",
       "\t1 & id & 460.5 & $\\dots$ \\\\\n",
       "\t2 & age & 53.5109 & $\\dots$ \\\\\n",
       "\t3 & sex &  & $\\dots$ \\\\\n",
       "\t4 & dataset &  & $\\dots$ \\\\\n",
       "\t5 & cp &  & $\\dots$ \\\\\n",
       "\t6 & trestbps & 132.132 & $\\dots$ \\\\\n",
       "\t7 & chol & 199.13 & $\\dots$ \\\\\n",
       "\t8 & fbs & 0.166265 & $\\dots$ \\\\\n",
       "\t9 & restecg &  & $\\dots$ \\\\\n",
       "\t10 & thalch & 137.546 & $\\dots$ \\\\\n",
       "\t11 & exang & 0.389595 & $\\dots$ \\\\\n",
       "\t12 & oldpeak & 0.878788 & $\\dots$ \\\\\n",
       "\t13 & slope &  & $\\dots$ \\\\\n",
       "\t14 & ca & 0.676375 & $\\dots$ \\\\\n",
       "\t15 & thal &  & $\\dots$ \\\\\n",
       "\t16 & num & 0.995652 & $\\dots$ \\\\\n",
       "\\end{tabular}\n"
      ],
      "text/plain": [
       "\u001b[1m16×7 DataFrame\u001b[0m\n",
       "\u001b[1m Row \u001b[0m│\u001b[1m variable \u001b[0m\u001b[1m m\u001b[0m ⋯\n",
       "     │\u001b[90m Symbol   \u001b[0m\u001b[90m U\u001b[0m ⋯\n",
       "─────┼──────────────\n",
       "   1 │ id        4 ⋯\n",
       "   2 │ age       5\n",
       "   3 │ sex      \u001b[90m  \u001b[0m\n",
       "   4 │ dataset  \u001b[90m  \u001b[0m\n",
       "   5 │ cp       \u001b[90m  \u001b[0m ⋯\n",
       "   6 │ trestbps  1\n",
       "  ⋮  │    ⋮        ⋱\n",
       "  12 │ oldpeak   0\n",
       "  13 │ slope    \u001b[90m  \u001b[0m\n",
       "  14 │ ca        0 ⋯\n",
       "  15 │ thal     \u001b[90m  \u001b[0m\n",
       "  16 │ num       0\n",
       "\u001b[36m6 columns and 5 rows omitted\u001b[0m"
      ]
     },
     "execution_count": 9,
     "metadata": {},
     "output_type": "execute_result"
    }
   ],
   "source": [
    "describe(df_raw)"
   ]
  },
  {
   "cell_type": "code",
   "execution_count": 15,
   "metadata": {},
   "outputs": [
    {
     "ename": "LoadError",
     "evalue": "syntax: unexpected \",\"",
     "output_type": "error",
     "traceback": [
      "syntax: unexpected \",\"",
      "",
      "Stacktrace:",
      " [1] top-level scope",
      "   @ In[15]:2",
      " [2] eval",
      "   @ ./boot.jl:368 [inlined]",
      " [3] include_string(mapexpr::typeof(REPL.softscope), mod::Module, code::String, filename::String)",
      "   @ Base ./loading.jl:1428"
     ]
    }
   ],
   "source": [
    "df = select(df_raw,:age,:sex => categorical => :sex,:dataset => categorical => :dataset,:cp => categorical => :cp, Between(:trestbps, :chol),\n",
    ":restecg => categorical =>, :thalch,:exang => categorical => :exang,:oldpeak,:slope => categorical => :slope,:ca => categorical => :ca,\n",
    ":thal => categorical => :thal,:num)"
   ]
  }
 ],
 "metadata": {
  "kernelspec": {
   "display_name": "Julia 1.8.2",
   "language": "julia",
   "name": "julia-1.8"
  },
  "language_info": {
   "file_extension": ".jl",
   "mimetype": "application/julia",
   "name": "julia",
   "version": "1.8.2"
  },
  "orig_nbformat": 4
 },
 "nbformat": 4,
 "nbformat_minor": 2
}
