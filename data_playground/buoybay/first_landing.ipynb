{
 "cells": [
  {
   "cell_type": "code",
   "execution_count": 1,
   "metadata": {},
   "outputs": [],
   "source": [
    "import pandas as pd\n",
    "import numpy as np\n",
    "import seaborn as sns\n",
    "import matplotlib.pyplot as plt\n",
    "from matplotlib import rcParams\n",
    "%matplotlib inline\n",
    "plt.style.use('ggplot')\n",
    "rcParams['figure.figsize'] = (12,6)"
   ]
  },
  {
   "cell_type": "code",
   "execution_count": 2,
   "metadata": {},
   "outputs": [
    {
     "data": {
      "text/plain": "      Time (UTC)  Latitude  Longitude  Temperature QC  Temperature  \\\n0  5/17/22 15:30  36.99836  -76.08920               2          NaN   \n1  5/17/22 15:36  36.99836  -76.08920               2          NaN   \n2  5/17/22 15:42  36.99836  -76.08902               2          NaN   \n3  5/17/22 15:48  36.99836  -76.08907               2          NaN   \n4  5/17/22 15:54  36.99833  -76.08920               2          NaN   \n\n   Salinity QC  Salinity  Chlorophyll QC  Chlorophyll  Turbidity QC  ...  \\\n0            2       NaN             2.0          NaN           2.0  ...   \n1            2       NaN             2.0          NaN           2.0  ...   \n2            2       NaN             2.0          NaN           2.0  ...   \n3            2       NaN             2.0          NaN           2.0  ...   \n4            2       NaN             2.0          NaN           2.0  ...   \n\n   Oxygen QC  Oxygen  Waves QC  Significant wave height  Wave from direction  \\\n0        2.0     NaN         2                      NaN                    2   \n1        2.0     NaN         2                      NaN                    2   \n2        2.0     NaN         2                      NaN                    2   \n3        2.0     NaN         2                      NaN                    2   \n4        2.0     NaN         2                      NaN                    2   \n\n   Wave period  North surface currents  East surface currents  Unnamed: 19  \\\n0          NaN                       2                    NaN       234.22   \n1          NaN                       2                    NaN       229.55   \n2          NaN                       2                    NaN       220.34   \n3          NaN                       2                    NaN       215.45   \n4          NaN                       2                    NaN       241.88   \n\n   Unnamed: 20  \n0      -217.71  \n1      -186.16  \n2      -148.13  \n3      -107.26  \n4       -25.38  \n\n[5 rows x 21 columns]",
      "text/html": "<div>\n<style scoped>\n    .dataframe tbody tr th:only-of-type {\n        vertical-align: middle;\n    }\n\n    .dataframe tbody tr th {\n        vertical-align: top;\n    }\n\n    .dataframe thead th {\n        text-align: right;\n    }\n</style>\n<table border=\"1\" class=\"dataframe\">\n  <thead>\n    <tr style=\"text-align: right;\">\n      <th></th>\n      <th>Time (UTC)</th>\n      <th>Latitude</th>\n      <th>Longitude</th>\n      <th>Temperature QC</th>\n      <th>Temperature</th>\n      <th>Salinity QC</th>\n      <th>Salinity</th>\n      <th>Chlorophyll QC</th>\n      <th>Chlorophyll</th>\n      <th>Turbidity QC</th>\n      <th>...</th>\n      <th>Oxygen QC</th>\n      <th>Oxygen</th>\n      <th>Waves QC</th>\n      <th>Significant wave height</th>\n      <th>Wave from direction</th>\n      <th>Wave period</th>\n      <th>North surface currents</th>\n      <th>East surface currents</th>\n      <th>Unnamed: 19</th>\n      <th>Unnamed: 20</th>\n    </tr>\n  </thead>\n  <tbody>\n    <tr>\n      <th>0</th>\n      <td>5/17/22 15:30</td>\n      <td>36.99836</td>\n      <td>-76.08920</td>\n      <td>2</td>\n      <td>NaN</td>\n      <td>2</td>\n      <td>NaN</td>\n      <td>2.0</td>\n      <td>NaN</td>\n      <td>2.0</td>\n      <td>...</td>\n      <td>2.0</td>\n      <td>NaN</td>\n      <td>2</td>\n      <td>NaN</td>\n      <td>2</td>\n      <td>NaN</td>\n      <td>2</td>\n      <td>NaN</td>\n      <td>234.22</td>\n      <td>-217.71</td>\n    </tr>\n    <tr>\n      <th>1</th>\n      <td>5/17/22 15:36</td>\n      <td>36.99836</td>\n      <td>-76.08920</td>\n      <td>2</td>\n      <td>NaN</td>\n      <td>2</td>\n      <td>NaN</td>\n      <td>2.0</td>\n      <td>NaN</td>\n      <td>2.0</td>\n      <td>...</td>\n      <td>2.0</td>\n      <td>NaN</td>\n      <td>2</td>\n      <td>NaN</td>\n      <td>2</td>\n      <td>NaN</td>\n      <td>2</td>\n      <td>NaN</td>\n      <td>229.55</td>\n      <td>-186.16</td>\n    </tr>\n    <tr>\n      <th>2</th>\n      <td>5/17/22 15:42</td>\n      <td>36.99836</td>\n      <td>-76.08902</td>\n      <td>2</td>\n      <td>NaN</td>\n      <td>2</td>\n      <td>NaN</td>\n      <td>2.0</td>\n      <td>NaN</td>\n      <td>2.0</td>\n      <td>...</td>\n      <td>2.0</td>\n      <td>NaN</td>\n      <td>2</td>\n      <td>NaN</td>\n      <td>2</td>\n      <td>NaN</td>\n      <td>2</td>\n      <td>NaN</td>\n      <td>220.34</td>\n      <td>-148.13</td>\n    </tr>\n    <tr>\n      <th>3</th>\n      <td>5/17/22 15:48</td>\n      <td>36.99836</td>\n      <td>-76.08907</td>\n      <td>2</td>\n      <td>NaN</td>\n      <td>2</td>\n      <td>NaN</td>\n      <td>2.0</td>\n      <td>NaN</td>\n      <td>2.0</td>\n      <td>...</td>\n      <td>2.0</td>\n      <td>NaN</td>\n      <td>2</td>\n      <td>NaN</td>\n      <td>2</td>\n      <td>NaN</td>\n      <td>2</td>\n      <td>NaN</td>\n      <td>215.45</td>\n      <td>-107.26</td>\n    </tr>\n    <tr>\n      <th>4</th>\n      <td>5/17/22 15:54</td>\n      <td>36.99833</td>\n      <td>-76.08920</td>\n      <td>2</td>\n      <td>NaN</td>\n      <td>2</td>\n      <td>NaN</td>\n      <td>2.0</td>\n      <td>NaN</td>\n      <td>2.0</td>\n      <td>...</td>\n      <td>2.0</td>\n      <td>NaN</td>\n      <td>2</td>\n      <td>NaN</td>\n      <td>2</td>\n      <td>NaN</td>\n      <td>2</td>\n      <td>NaN</td>\n      <td>241.88</td>\n      <td>-25.38</td>\n    </tr>\n  </tbody>\n</table>\n<p>5 rows × 21 columns</p>\n</div>"
     },
     "execution_count": 2,
     "metadata": {},
     "output_type": "execute_result"
    }
   ],
   "source": [
    "flOcean = pd.read_csv('FL_OCEAN_2022.csv')\n",
    "flOcean.head()"
   ]
  },
  {
   "cell_type": "code",
   "execution_count": 3,
   "metadata": {},
   "outputs": [],
   "source": [
    "flOcean.drop(list(flOcean.filter(regex = 'QC')), axis = 1, inplace = True)"
   ]
  },
  {
   "cell_type": "code",
   "execution_count": 4,
   "metadata": {},
   "outputs": [
    {
     "data": {
      "text/plain": "           Latitude     Longitude  Temperature     Salinity  Chlorophyll  \\\ncount  33398.000000  33398.000000  3126.000000  3126.000000          0.0   \nmean      36.998019    -76.088373    22.894878    27.779277          NaN   \nstd        0.047379      0.097375     1.569828     1.758980          NaN   \nmin       28.345460    -76.204190    19.430000    24.830000          NaN   \n25%       36.998250    -76.089200    21.570000    26.610000          NaN   \n50%       36.998260    -76.088970    22.990000    27.300000          NaN   \n75%       36.998320    -76.088970    23.907500    28.530000          NaN   \nmax       37.277080    -58.294170    26.270000    32.610000          NaN   \n\n       Turbidity  Oxygen  Significant wave height  Wave from direction  \\\ncount        0.0     0.0              9354.000000         33398.000000   \nmean         NaN     NaN                 0.574346             1.755734   \nstd          NaN     NaN                 0.347572             0.429658   \nmin          NaN     NaN                 0.000000             1.000000   \n25%          NaN     NaN                 0.330000             2.000000   \n50%          NaN     NaN                 0.450000             2.000000   \n75%          NaN     NaN                 0.710000             2.000000   \nmax          NaN     NaN                 2.100000             2.000000   \n\n       Wave period  North surface currents  East surface currents  \\\ncount  9354.000000            33398.000000            9354.000000   \nmean    156.147915                1.755734               7.959971   \nstd     111.372439                0.429658               4.136855   \nmin       0.000000                1.000000               0.000000   \n25%      63.900000                2.000000               4.140000   \n50%     119.900000                2.000000               7.550000   \n75%     260.700000                2.000000              11.430000   \nmax     359.900000                2.000000              17.910000   \n\n       Unnamed: 19  Unnamed: 20  \ncount  1747.000000  1747.000000  \nmean    -20.202284    56.364493  \nstd     250.262544   298.943126  \nmin    -657.360000  -629.410000  \n25%    -226.860000  -197.825000  \n50%     -22.100000    64.580000  \n75%     202.110000   314.890000  \nmax     644.970000   608.600000  ",
      "text/html": "<div>\n<style scoped>\n    .dataframe tbody tr th:only-of-type {\n        vertical-align: middle;\n    }\n\n    .dataframe tbody tr th {\n        vertical-align: top;\n    }\n\n    .dataframe thead th {\n        text-align: right;\n    }\n</style>\n<table border=\"1\" class=\"dataframe\">\n  <thead>\n    <tr style=\"text-align: right;\">\n      <th></th>\n      <th>Latitude</th>\n      <th>Longitude</th>\n      <th>Temperature</th>\n      <th>Salinity</th>\n      <th>Chlorophyll</th>\n      <th>Turbidity</th>\n      <th>Oxygen</th>\n      <th>Significant wave height</th>\n      <th>Wave from direction</th>\n      <th>Wave period</th>\n      <th>North surface currents</th>\n      <th>East surface currents</th>\n      <th>Unnamed: 19</th>\n      <th>Unnamed: 20</th>\n    </tr>\n  </thead>\n  <tbody>\n    <tr>\n      <th>count</th>\n      <td>33398.000000</td>\n      <td>33398.000000</td>\n      <td>3126.000000</td>\n      <td>3126.000000</td>\n      <td>0.0</td>\n      <td>0.0</td>\n      <td>0.0</td>\n      <td>9354.000000</td>\n      <td>33398.000000</td>\n      <td>9354.000000</td>\n      <td>33398.000000</td>\n      <td>9354.000000</td>\n      <td>1747.000000</td>\n      <td>1747.000000</td>\n    </tr>\n    <tr>\n      <th>mean</th>\n      <td>36.998019</td>\n      <td>-76.088373</td>\n      <td>22.894878</td>\n      <td>27.779277</td>\n      <td>NaN</td>\n      <td>NaN</td>\n      <td>NaN</td>\n      <td>0.574346</td>\n      <td>1.755734</td>\n      <td>156.147915</td>\n      <td>1.755734</td>\n      <td>7.959971</td>\n      <td>-20.202284</td>\n      <td>56.364493</td>\n    </tr>\n    <tr>\n      <th>std</th>\n      <td>0.047379</td>\n      <td>0.097375</td>\n      <td>1.569828</td>\n      <td>1.758980</td>\n      <td>NaN</td>\n      <td>NaN</td>\n      <td>NaN</td>\n      <td>0.347572</td>\n      <td>0.429658</td>\n      <td>111.372439</td>\n      <td>0.429658</td>\n      <td>4.136855</td>\n      <td>250.262544</td>\n      <td>298.943126</td>\n    </tr>\n    <tr>\n      <th>min</th>\n      <td>28.345460</td>\n      <td>-76.204190</td>\n      <td>19.430000</td>\n      <td>24.830000</td>\n      <td>NaN</td>\n      <td>NaN</td>\n      <td>NaN</td>\n      <td>0.000000</td>\n      <td>1.000000</td>\n      <td>0.000000</td>\n      <td>1.000000</td>\n      <td>0.000000</td>\n      <td>-657.360000</td>\n      <td>-629.410000</td>\n    </tr>\n    <tr>\n      <th>25%</th>\n      <td>36.998250</td>\n      <td>-76.089200</td>\n      <td>21.570000</td>\n      <td>26.610000</td>\n      <td>NaN</td>\n      <td>NaN</td>\n      <td>NaN</td>\n      <td>0.330000</td>\n      <td>2.000000</td>\n      <td>63.900000</td>\n      <td>2.000000</td>\n      <td>4.140000</td>\n      <td>-226.860000</td>\n      <td>-197.825000</td>\n    </tr>\n    <tr>\n      <th>50%</th>\n      <td>36.998260</td>\n      <td>-76.088970</td>\n      <td>22.990000</td>\n      <td>27.300000</td>\n      <td>NaN</td>\n      <td>NaN</td>\n      <td>NaN</td>\n      <td>0.450000</td>\n      <td>2.000000</td>\n      <td>119.900000</td>\n      <td>2.000000</td>\n      <td>7.550000</td>\n      <td>-22.100000</td>\n      <td>64.580000</td>\n    </tr>\n    <tr>\n      <th>75%</th>\n      <td>36.998320</td>\n      <td>-76.088970</td>\n      <td>23.907500</td>\n      <td>28.530000</td>\n      <td>NaN</td>\n      <td>NaN</td>\n      <td>NaN</td>\n      <td>0.710000</td>\n      <td>2.000000</td>\n      <td>260.700000</td>\n      <td>2.000000</td>\n      <td>11.430000</td>\n      <td>202.110000</td>\n      <td>314.890000</td>\n    </tr>\n    <tr>\n      <th>max</th>\n      <td>37.277080</td>\n      <td>-58.294170</td>\n      <td>26.270000</td>\n      <td>32.610000</td>\n      <td>NaN</td>\n      <td>NaN</td>\n      <td>NaN</td>\n      <td>2.100000</td>\n      <td>2.000000</td>\n      <td>359.900000</td>\n      <td>2.000000</td>\n      <td>17.910000</td>\n      <td>644.970000</td>\n      <td>608.600000</td>\n    </tr>\n  </tbody>\n</table>\n</div>"
     },
     "execution_count": 4,
     "metadata": {},
     "output_type": "execute_result"
    }
   ],
   "source": [
    "flOcean.describe()"
   ]
  },
  {
   "cell_type": "code",
   "execution_count": 47,
   "metadata": {},
   "outputs": [
    {
     "ename": "TypeError",
     "evalue": "'str' object is not callable",
     "output_type": "error",
     "traceback": [
      "\u001B[0;31m---------------------------------------------------------------------------\u001B[0m",
      "\u001B[0;31mTypeError\u001B[0m                                 Traceback (most recent call last)",
      "\u001B[0;32m/var/folders/rk/qwqd81bx00b1rl2fj8gy_vnc0000gn/T/ipykernel_50525/2593451651.py\u001B[0m in \u001B[0;36m<module>\u001B[0;34m\u001B[0m\n\u001B[1;32m      1\u001B[0m \u001B[0msns\u001B[0m\u001B[0;34m.\u001B[0m\u001B[0mboxplot\u001B[0m\u001B[0;34m(\u001B[0m\u001B[0mdata\u001B[0m\u001B[0;34m=\u001B[0m\u001B[0mflOcean\u001B[0m\u001B[0;34m[\u001B[0m\u001B[0;34m'Temperature'\u001B[0m\u001B[0;34m]\u001B[0m\u001B[0;34m)\u001B[0m\u001B[0;34m\u001B[0m\u001B[0;34m\u001B[0m\u001B[0m\n\u001B[0;32m----> 2\u001B[0;31m \u001B[0mplt\u001B[0m\u001B[0;34m.\u001B[0m\u001B[0mylabel\u001B[0m\u001B[0;34m(\u001B[0m\u001B[0;34m'Temp'\u001B[0m\u001B[0;34m)\u001B[0m\u001B[0;34m\u001B[0m\u001B[0;34m\u001B[0m\u001B[0m\n\u001B[0m",
      "\u001B[0;31mTypeError\u001B[0m: 'str' object is not callable"
     ]
    },
    {
     "data": {
      "text/plain": "<Figure size 864x432 with 1 Axes>",
      "image/png": "[encoded data removed]"
     },
     "metadata": {},
     "output_type": "display_data"
    }
   ],
   "source": [
    "sns.boxplot(data=flOcean['Temperature'])\n",
    "plt.ylabel('Temp')"
   ]
  }
 ],
 "metadata": {
  "kernelspec": {
   "display_name": "Python 3.10.5 64-bit",
   "language": "python",
   "name": "python3"
  },
  "language_info": {
   "codemirror_mode": {
    "name": "ipython",
    "version": 3
   },
   "file_extension": ".py",
   "mimetype": "text/x-python",
   "name": "python",
   "nbconvert_exporter": "python",
   "pygments_lexer": "ipython3",
   "version": "3.10.5"
  },
  "orig_nbformat": 4,
  "vscode": {
   "interpreter": {
    "hash": "aee8b7b246df8f9039afb4144a1f6fd8d2ca17a180786b69acc140d282b71a49"
   }
  }
 },
 "nbformat": 4,
 "nbformat_minor": 2
}
