{
 "cells": [
  {
   "cell_type": "markdown",
   "metadata": {},
   "source": [
    "# Chapter 1: Foundations\n",
    "This chapter aims to explain *nested mathematical functions and their derivatives*. These mental models are essential for understanding neural network function. \n",
    "\n",
    "## Functions\n",
    "Functions describe mathematically the transformation between an input and its output. For example, the equation $f_1(x) = x^2$ transforms any arbitrary $x$ into $x^2$. \n",
    "\n",
    "Another way to think of them are in terms of black boxes with internal logic. The `Square` box takes $n$ as an input and turns it into $n^2$. The `ReLU` box takes $n$ as an input and turns it into $max(x,0)$ as output.\n",
    "\n",
    "### Code\n",
    "#### NumPy\n",
    "> The data we deal with in neural networks will always be held in a multidimensional array that is almost always either one-, two-, three-, or four-dimensional, but especially two- and three-dimensional.\n",
    "NumPy's `ndarray` class allows us to operate on these arrays in quick and intuitive ways."
   ]
  },
  {
   "cell_type": "code",
   "execution_count": 24,
   "metadata": {},
   "outputs": [
    {
     "name": "stdout",
     "output_type": "stream",
     "text": [
      "Python list operations:\n",
      "a+b: [1, 2, 3, 4, 5, 6]\n",
      "a*b has no meaning for Python lists.\n",
      "\n",
      "numpy array operations:\n",
      "a+b: [5 7 9]\n",
      "a*b: [ 4 10 18]\n"
     ]
    }
   ],
   "source": [
    "import numpy as np\n",
    "\n",
    "print(\"Python list operations:\")\n",
    "a = [1, 2, 3]\n",
    "b = [4, 5, 6]\n",
    "print(\"a+b:\", a+b)\n",
    "try:\n",
    "    print(a*b)\n",
    "except TypeError:\n",
    "    print(\"a*b has no meaning for Python lists.\")\n",
    "print()\n",
    "print(\"numpy array operations:\")\n",
    "a = np.array([1, 2, 3])\n",
    "b = np.array([4, 5, 6])\n",
    "print(\"a+b:\", a+b)\n",
    "print(\"a*b:\", a*b) "
   ]
  },
  {
   "cell_type": "markdown",
   "metadata": {},
   "source": [
    "`ndarrays` are zero-indexed `n`-dimensional arrays. 2D arrays are a common feature in deep learning, so we can quickly visualize a 2D `ndarray` as `axis = 0` as the rows and `axis = 1` as the columns. `ndarrays` makes it easy to intuitively apply functions along these axes."
   ]
  },
  {
   "cell_type": "code",
   "execution_count": 10,
   "metadata": {},
   "outputs": [
    {
     "name": "stdout",
     "output_type": "stream",
     "text": [
      "a: [[1 2]\n",
      " [3 4]]\n",
      "a.sum(axis=0): [4 6]\n",
      "a.sum(axis=1): [3 7]\n"
     ]
    }
   ],
   "source": [
    "a = np.array([[1, 2], [3, 4]])\n",
    "print('a:', a)\n",
    "print('a.sum(axis=0):', a.sum(axis=0))\n",
    "print('a.sum(axis=1):', a.sum(axis=1))"
   ]
  },
  {
   "cell_type": "markdown",
   "metadata": {},
   "source": [
    "`ndarrays` supports adding a 1D array to the last axis. For a 2D array with `R` rows and `C` columns, we can add a 1D array `b` of length `C`, adding elements to each row of `a`."
   ]
  },
  {
   "cell_type": "code",
   "execution_count": 23,
   "metadata": {},
   "outputs": [
    {
     "name": "stdout",
     "output_type": "stream",
     "text": [
      "a+b:\n",
      " [[11 22 33]\n",
      " [14 25 36]]\n"
     ]
    }
   ],
   "source": [
    "a = np.array([[1,2,3], [4,5,6]])\n",
    "b = np.array([10, 20, 30])\n",
    "print(\"a+b:\\n\", a+b)"
   ]
  },
  {
   "cell_type": "markdown",
   "metadata": {},
   "source": [
    "#### Type-checked functions\n",
    "We will need informative type signatures to convey what functions actually do. Compare the transparency of the type signature \n",
    "```\n",
    "def __init__(self,\n",
    "            layers: List[Layer],\n",
    "            loss: Loss,\n",
    "            learning_rate: float = 0.01) -> None:\n",
    "```\n",
    "\n",
    "to a more succinct type signature to define the operation: `def operation(x1,x2)`. Modifying it to `def operation(x1: ndarray, x2: ndarray) -> ndarray:` gives you an idea that the function takes in two `ndarray`s. This book uses type-checked functions to increase clarity.\n",
    "\n",
    "### Basic Functions in NumPy\n",
    "Revisting the `square` and `relu` functions discussed earlier..."
   ]
  },
  {
   "cell_type": "code",
   "execution_count": 29,
   "metadata": {},
   "outputs": [
    {
     "name": "stdout",
     "output_type": "stream",
     "text": [
      "square(a):  [1 4 9]\n",
      "leaky_relu(b):  [4. 5. 6.]\n"
     ]
    }
   ],
   "source": [
    "from numpy import ndarray\n",
    "def square(x: ndarray) -> ndarray:\n",
    "    '''Square each element in the input ndarray.'''\n",
    "    return np.power(x,2)\n",
    "\n",
    "def leaky_relu(x:ndarray) -> ndarray:\n",
    "    '''Apply \"Leaky ReLU\" function to each element in ndarray.'''\n",
    "    return np.maximum(0.2*x, x)\n",
    "    \n",
    "a = np.array([1, 2, 3])\n",
    "b = np.array([4, 5, 6])\n",
    "print(\"square(a): \", square(a))\n",
    "print(\"leaky_relu(b): \", leaky_relu(b))"
   ]
  },
  {
   "cell_type": "markdown",
   "metadata": {},
   "source": [
    "## Derivatives\n",
    "The rate of change of the output of a function. Remember localized slopes. Here's how to approximate a derivative using code."
   ]
  },
  {
   "cell_type": "code",
   "execution_count": 35,
   "metadata": {},
   "outputs": [
    {
     "data": {
      "text/plain": [
       "27.000000999995777"
      ]
     },
     "execution_count": 35,
     "metadata": {},
     "output_type": "execute_result"
    }
   ],
   "source": [
    "import numpy as np\n",
    "from typing import Callable\n",
    "import scipy.special\n",
    "\n",
    "def deriv(func: Callable[[ndarray], ndarray],\n",
    "        input_: ndarray,\n",
    "        delta: float = 0.001) ->ndarray:\n",
    "        '''Evaluates the derivative of a function \"func\" at every element in the \"input_\" array.'''\n",
    "        return (func(input_ + delta) - func(input_ - delta)) / (2 * delta)\n",
    "\n",
    "def f(input_: ndarray) -> ndarray:\n",
    "        a = np.power(input_, 3)\n",
    "        return a\n",
    "\n",
    "deriv(f,3)"
   ]
  },
  {
   "cell_type": "markdown",
   "metadata": {},
   "source": [
    "## Nested Functions\n",
    "For any functions $f_1, f_2, ... f_n$, a nested function is one where the output of one function becomes the input of another. E.g., $f_2(f_1(x)) = y$."
   ]
  },
  {
   "cell_type": "code",
   "execution_count": null,
   "metadata": {},
   "outputs": [],
   "source": [
    "from typing import List\n",
    "\n",
    "# A function takes in an ndarray as an argument and produces an ndarray\n",
    "Array_Function = Callable[[ndarray], ndarray]\n",
    "\n",
    "# A Chain is a list of functions\n",
    "Chain = List[Array_Function]\n",
    "\n",
    "def chain_length_2(chain: Chain,\n",
    "                a: ndarray) -> ndarray:\n",
    "    '''Evaluates two functions in a row, in a \"Chain\".'''\n",
    "    assert len(chain) == 2, \\\n",
    "    \"Length of input 'chain' should be 2\"\n",
    "    \n",
    "    f1 = chain[0]\n",
    "    f2 = chain[1]\n",
    "    return f2(f1(x))"
   ]
  }
 ],
 "metadata": {
  "interpreter": {
   "hash": "b0fa6594d8f4cbf19f97940f81e996739fb7646882a419484c72d19e05852a7e"
  },
  "kernelspec": {
   "display_name": "Python 3.9.10 64-bit",
   "language": "python",
   "name": "python3"
  },
  "language_info": {
   "codemirror_mode": {
    "name": "ipython",
    "version": 3
   },
   "file_extension": ".py",
   "mimetype": "text/x-python",
   "name": "python",
   "nbconvert_exporter": "python",
   "pygments_lexer": "ipython3",
   "version": "3.9.12"
  },
  "orig_nbformat": 4
 },
 "nbformat": 4,
 "nbformat_minor": 2
}
