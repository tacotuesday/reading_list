{
 "cells": [
  {
   "cell_type": "markdown",
   "source": [
    "## Merging DataFrames"
   ],
   "metadata": {
    "collapsed": false
   }
  },
  {
   "cell_type": "code",
   "execution_count": 178,
   "outputs": [
    {
     "data": {
      "text/plain": "  attributes datatype       date            station  value\n0       ,,N,     PRCP 2018-01-01  GHCND:US1CTFR0039   0.00\n1       ,,N,     PRCP 2018-01-01  GHCND:US1NJBG0015   0.00\n2       ,,N,     SNOW 2018-01-01  GHCND:US1NJBG0015   0.00\n3       ,,N,     PRCP 2018-01-01  GHCND:US1NJBG0017   0.00\n4       ,,N,     SNOW 2018-01-01  GHCND:US1NJBG0017   0.00",
      "text/html": "<div>\n<style scoped>\n    .dataframe tbody tr th:only-of-type {\n        vertical-align: middle;\n    }\n\n    .dataframe tbody tr th {\n        vertical-align: top;\n    }\n\n    .dataframe thead th {\n        text-align: right;\n    }\n</style>\n<table border=\"1\" class=\"dataframe\">\n  <thead>\n    <tr style=\"text-align: right;\">\n      <th></th>\n      <th>attributes</th>\n      <th>datatype</th>\n      <th>date</th>\n      <th>station</th>\n      <th>value</th>\n    </tr>\n  </thead>\n  <tbody>\n    <tr>\n      <th>0</th>\n      <td>,,N,</td>\n      <td>PRCP</td>\n      <td>2018-01-01</td>\n      <td>GHCND:US1CTFR0039</td>\n      <td>0.00</td>\n    </tr>\n    <tr>\n      <th>1</th>\n      <td>,,N,</td>\n      <td>PRCP</td>\n      <td>2018-01-01</td>\n      <td>GHCND:US1NJBG0015</td>\n      <td>0.00</td>\n    </tr>\n    <tr>\n      <th>2</th>\n      <td>,,N,</td>\n      <td>SNOW</td>\n      <td>2018-01-01</td>\n      <td>GHCND:US1NJBG0015</td>\n      <td>0.00</td>\n    </tr>\n    <tr>\n      <th>3</th>\n      <td>,,N,</td>\n      <td>PRCP</td>\n      <td>2018-01-01</td>\n      <td>GHCND:US1NJBG0017</td>\n      <td>0.00</td>\n    </tr>\n    <tr>\n      <th>4</th>\n      <td>,,N,</td>\n      <td>SNOW</td>\n      <td>2018-01-01</td>\n      <td>GHCND:US1NJBG0017</td>\n      <td>0.00</td>\n    </tr>\n  </tbody>\n</table>\n</div>"
     },
     "execution_count": 178,
     "metadata": {},
     "output_type": "execute_result"
    }
   ],
   "source": [
    "import pandas as pd\n",
    "weather = pd.read_csv('book_code/ch_04/data/nyc_weather_2018.csv', parse_dates=['date'])\n",
    "weather.head()"
   ],
   "metadata": {
    "collapsed": false
   }
  },
  {
   "cell_type": "code",
   "execution_count": 179,
   "outputs": [
    {
     "data": {
      "text/plain": "    attributes datatype       date            station  value\n124       ,,N,     SNOW 2018-01-01  GHCND:US1NYWC0019  25.00\n723       ,,N,     SNOW 2018-01-04  GHCND:US1NJBG0015 229.00\n726       ,,N,     SNOW 2018-01-04  GHCND:US1NJBG0017  10.00\n730       ,,N,     SNOW 2018-01-04  GHCND:US1NJBG0018  46.00\n737       ,,N,     SNOW 2018-01-04  GHCND:US1NJES0018  10.00",
      "text/html": "<div>\n<style scoped>\n    .dataframe tbody tr th:only-of-type {\n        vertical-align: middle;\n    }\n\n    .dataframe tbody tr th {\n        vertical-align: top;\n    }\n\n    .dataframe thead th {\n        text-align: right;\n    }\n</style>\n<table border=\"1\" class=\"dataframe\">\n  <thead>\n    <tr style=\"text-align: right;\">\n      <th></th>\n      <th>attributes</th>\n      <th>datatype</th>\n      <th>date</th>\n      <th>station</th>\n      <th>value</th>\n    </tr>\n  </thead>\n  <tbody>\n    <tr>\n      <th>124</th>\n      <td>,,N,</td>\n      <td>SNOW</td>\n      <td>2018-01-01</td>\n      <td>GHCND:US1NYWC0019</td>\n      <td>25.00</td>\n    </tr>\n    <tr>\n      <th>723</th>\n      <td>,,N,</td>\n      <td>SNOW</td>\n      <td>2018-01-04</td>\n      <td>GHCND:US1NJBG0015</td>\n      <td>229.00</td>\n    </tr>\n    <tr>\n      <th>726</th>\n      <td>,,N,</td>\n      <td>SNOW</td>\n      <td>2018-01-04</td>\n      <td>GHCND:US1NJBG0017</td>\n      <td>10.00</td>\n    </tr>\n    <tr>\n      <th>730</th>\n      <td>,,N,</td>\n      <td>SNOW</td>\n      <td>2018-01-04</td>\n      <td>GHCND:US1NJBG0018</td>\n      <td>46.00</td>\n    </tr>\n    <tr>\n      <th>737</th>\n      <td>,,N,</td>\n      <td>SNOW</td>\n      <td>2018-01-04</td>\n      <td>GHCND:US1NJES0018</td>\n      <td>10.00</td>\n    </tr>\n  </tbody>\n</table>\n</div>"
     },
     "execution_count": 179,
     "metadata": {},
     "output_type": "execute_result"
    }
   ],
   "source": [
    "snow_data = weather.query('datatype == \"SNOW\" and value > 0')\n",
    "snow_data.head()"
   ],
   "metadata": {
    "collapsed": false
   }
  },
  {
   "cell_type": "code",
   "execution_count": 180,
   "outputs": [
    {
     "data": {
      "text/plain": "                  id                           name  latitude  longitude  \\\n0  GHCND:US1CTFR0022        STAMFORD 2.6 SSW, CT US     41.06     -73.58   \n1  GHCND:US1CTFR0039          STAMFORD 4.2 S, CT US     41.04     -73.57   \n2  GHCND:US1NJBG0001      BERGENFIELD 0.3 SW, NJ US     40.92     -74.00   \n3  GHCND:US1NJBG0002  SADDLE BROOK TWP 0.6 E, NJ US     40.90     -74.08   \n4  GHCND:US1NJBG0003           TENAFLY 1.3 W, NJ US     40.91     -73.98   \n\n   elevation  \n0      36.60  \n1       6.40  \n2      20.10  \n3      16.80  \n4      21.60  ",
      "text/html": "<div>\n<style scoped>\n    .dataframe tbody tr th:only-of-type {\n        vertical-align: middle;\n    }\n\n    .dataframe tbody tr th {\n        vertical-align: top;\n    }\n\n    .dataframe thead th {\n        text-align: right;\n    }\n</style>\n<table border=\"1\" class=\"dataframe\">\n  <thead>\n    <tr style=\"text-align: right;\">\n      <th></th>\n      <th>id</th>\n      <th>name</th>\n      <th>latitude</th>\n      <th>longitude</th>\n      <th>elevation</th>\n    </tr>\n  </thead>\n  <tbody>\n    <tr>\n      <th>0</th>\n      <td>GHCND:US1CTFR0022</td>\n      <td>STAMFORD 2.6 SSW, CT US</td>\n      <td>41.06</td>\n      <td>-73.58</td>\n      <td>36.60</td>\n    </tr>\n    <tr>\n      <th>1</th>\n      <td>GHCND:US1CTFR0039</td>\n      <td>STAMFORD 4.2 S, CT US</td>\n      <td>41.04</td>\n      <td>-73.57</td>\n      <td>6.40</td>\n    </tr>\n    <tr>\n      <th>2</th>\n      <td>GHCND:US1NJBG0001</td>\n      <td>BERGENFIELD 0.3 SW, NJ US</td>\n      <td>40.92</td>\n      <td>-74.00</td>\n      <td>20.10</td>\n    </tr>\n    <tr>\n      <th>3</th>\n      <td>GHCND:US1NJBG0002</td>\n      <td>SADDLE BROOK TWP 0.6 E, NJ US</td>\n      <td>40.90</td>\n      <td>-74.08</td>\n      <td>16.80</td>\n    </tr>\n    <tr>\n      <th>4</th>\n      <td>GHCND:US1NJBG0003</td>\n      <td>TENAFLY 1.3 W, NJ US</td>\n      <td>40.91</td>\n      <td>-73.98</td>\n      <td>21.60</td>\n    </tr>\n  </tbody>\n</table>\n</div>"
     },
     "execution_count": 180,
     "metadata": {},
     "output_type": "execute_result"
    }
   ],
   "source": [
    "station_info = pd.read_csv('book_code/ch_04/data/weather_stations.csv')\n",
    "station_info.head()"
   ],
   "metadata": {
    "collapsed": false
   }
  },
  {
   "cell_type": "code",
   "execution_count": 181,
   "outputs": [
    {
     "name": "stdout",
     "output_type": "stream",
     "text": [
      "count                   262\n",
      "unique                  262\n",
      "top       GHCND:US1CTFR0022\n",
      "freq                      1\n",
      "Name: id, dtype: object\n",
      "count                 80256\n",
      "unique                  109\n",
      "top       GHCND:USW00094789\n",
      "freq                   4270\n",
      "Name: station, dtype: object\n"
     ]
    }
   ],
   "source": [
    "print(station_info.id.describe())\n",
    "print(weather.station.describe())"
   ],
   "metadata": {
    "collapsed": false
   }
  },
  {
   "cell_type": "code",
   "execution_count": 182,
   "outputs": [
    {
     "data": {
      "text/plain": "[262, 80256]"
     },
     "execution_count": 182,
     "metadata": {},
     "output_type": "execute_result"
    }
   ],
   "source": [
    "def get_row_count(*dfs):\n",
    "    \"\"\"\n",
    "    Gets the row count of any number of DataFrames.\n",
    "    :param dfs: DataFrame(s) of interest\n",
    "    :return: List of row counts for the DataFrame(s)\n",
    "    \"\"\"\n",
    "    return [df.shape[0] for df in dfs]\n",
    "\n",
    "get_row_count(station_info, weather)"
   ],
   "metadata": {
    "collapsed": false
   }
  },
  {
   "cell_type": "code",
   "execution_count": 183,
   "outputs": [
    {
     "data": {
      "text/plain": "[(262, 5), (80256, 5)]"
     },
     "execution_count": 183,
     "metadata": {},
     "output_type": "execute_result"
    }
   ],
   "source": [
    "def get_info(attr, *dfs):\n",
    "    \"\"\"\n",
    "    Get a specific attribute of any number of DataFrames.\n",
    "    :param attr: DataFrame attribute of interest.\n",
    "    :param dfs: DataFrame(s) of interest.\n",
    "    :return: List of attribute outputs from each DataFrame\n",
    "    \"\"\"\n",
    "    return list(map(lambda x: getattr(x, attr), dfs))\n",
    "\n",
    "get_info('shape', station_info, weather)"
   ],
   "metadata": {
    "collapsed": false
   }
  },
  {
   "cell_type": "code",
   "execution_count": 184,
   "outputs": [
    {
     "data": {
      "text/plain": "      attributes datatype       date            station  value  \\\n27422       ,,N,     PRCP 2018-01-23  GHCND:US1NYSF0061   2.30   \n19317      T,,N,     PRCP 2018-08-10  GHCND:US1NJUN0014   0.00   \n13778       ,,N,     WESF 2018-02-18  GHCND:US1NJMS0089  19.60   \n39633   ,,7,0700     PRCP 2018-04-06  GHCND:USC00301309   0.00   \n51025   ,,W,2400     SNWD 2018-12-14  GHCND:USW00014734   0.00   \n\n                      id                                         name  \\\n27422  GHCND:US1NYSF0061                     CENTERPORT 0.9 SW, NY US   \n19317  GHCND:US1NJUN0014                      WESTFIELD 0.6 NE, NJ US   \n13778  GHCND:US1NJMS0089         PARSIPPANY TROY HILLS TWP 1.3, NJ US   \n39633  GHCND:USC00301309                            CENTERPORT, NY US   \n51025  GHCND:USW00014734  NEWARK LIBERTY INTERNATIONAL AIRPORT, NJ US   \n\n       latitude  longitude  elevation  \n27422     40.89     -73.38      53.60  \n19317     40.66     -74.34      36.30  \n13778     40.87     -74.41     103.60  \n39633     40.88     -73.37       9.10  \n51025     40.68     -74.17       2.10  ",
      "text/html": "<div>\n<style scoped>\n    .dataframe tbody tr th:only-of-type {\n        vertical-align: middle;\n    }\n\n    .dataframe tbody tr th {\n        vertical-align: top;\n    }\n\n    .dataframe thead th {\n        text-align: right;\n    }\n</style>\n<table border=\"1\" class=\"dataframe\">\n  <thead>\n    <tr style=\"text-align: right;\">\n      <th></th>\n      <th>attributes</th>\n      <th>datatype</th>\n      <th>date</th>\n      <th>station</th>\n      <th>value</th>\n      <th>id</th>\n      <th>name</th>\n      <th>latitude</th>\n      <th>longitude</th>\n      <th>elevation</th>\n    </tr>\n  </thead>\n  <tbody>\n    <tr>\n      <th>27422</th>\n      <td>,,N,</td>\n      <td>PRCP</td>\n      <td>2018-01-23</td>\n      <td>GHCND:US1NYSF0061</td>\n      <td>2.30</td>\n      <td>GHCND:US1NYSF0061</td>\n      <td>CENTERPORT 0.9 SW, NY US</td>\n      <td>40.89</td>\n      <td>-73.38</td>\n      <td>53.60</td>\n    </tr>\n    <tr>\n      <th>19317</th>\n      <td>T,,N,</td>\n      <td>PRCP</td>\n      <td>2018-08-10</td>\n      <td>GHCND:US1NJUN0014</td>\n      <td>0.00</td>\n      <td>GHCND:US1NJUN0014</td>\n      <td>WESTFIELD 0.6 NE, NJ US</td>\n      <td>40.66</td>\n      <td>-74.34</td>\n      <td>36.30</td>\n    </tr>\n    <tr>\n      <th>13778</th>\n      <td>,,N,</td>\n      <td>WESF</td>\n      <td>2018-02-18</td>\n      <td>GHCND:US1NJMS0089</td>\n      <td>19.60</td>\n      <td>GHCND:US1NJMS0089</td>\n      <td>PARSIPPANY TROY HILLS TWP 1.3, NJ US</td>\n      <td>40.87</td>\n      <td>-74.41</td>\n      <td>103.60</td>\n    </tr>\n    <tr>\n      <th>39633</th>\n      <td>,,7,0700</td>\n      <td>PRCP</td>\n      <td>2018-04-06</td>\n      <td>GHCND:USC00301309</td>\n      <td>0.00</td>\n      <td>GHCND:USC00301309</td>\n      <td>CENTERPORT, NY US</td>\n      <td>40.88</td>\n      <td>-73.37</td>\n      <td>9.10</td>\n    </tr>\n    <tr>\n      <th>51025</th>\n      <td>,,W,2400</td>\n      <td>SNWD</td>\n      <td>2018-12-14</td>\n      <td>GHCND:USW00014734</td>\n      <td>0.00</td>\n      <td>GHCND:USW00014734</td>\n      <td>NEWARK LIBERTY INTERNATIONAL AIRPORT, NJ US</td>\n      <td>40.68</td>\n      <td>-74.17</td>\n      <td>2.10</td>\n    </tr>\n  </tbody>\n</table>\n</div>"
     },
     "execution_count": 184,
     "metadata": {},
     "output_type": "execute_result"
    }
   ],
   "source": [
    "inner_join = weather.merge(station_info, left_on='station', right_on='id')\n",
    "inner_join.sample(5, random_state=0)"
   ],
   "metadata": {
    "collapsed": false
   }
  },
  {
   "cell_type": "code",
   "execution_count": 185,
   "outputs": [
    {
     "data": {
      "text/plain": "      attributes datatype       date            station  value  \\\n27422       ,,N,     PRCP 2018-01-23  GHCND:US1NYSF0061   2.30   \n19317      T,,N,     PRCP 2018-08-10  GHCND:US1NJUN0014   0.00   \n13778       ,,N,     WESF 2018-02-18  GHCND:US1NJMS0089  19.60   \n39633   ,,7,0700     PRCP 2018-04-06  GHCND:USC00301309   0.00   \n51025   ,,W,2400     SNWD 2018-12-14  GHCND:USW00014734   0.00   \n\n                                              name  latitude  longitude  \\\n27422                     CENTERPORT 0.9 SW, NY US     40.89     -73.38   \n19317                      WESTFIELD 0.6 NE, NJ US     40.66     -74.34   \n13778         PARSIPPANY TROY HILLS TWP 1.3, NJ US     40.87     -74.41   \n39633                            CENTERPORT, NY US     40.88     -73.37   \n51025  NEWARK LIBERTY INTERNATIONAL AIRPORT, NJ US     40.68     -74.17   \n\n       elevation  \n27422      53.60  \n19317      36.30  \n13778     103.60  \n39633       9.10  \n51025       2.10  ",
      "text/html": "<div>\n<style scoped>\n    .dataframe tbody tr th:only-of-type {\n        vertical-align: middle;\n    }\n\n    .dataframe tbody tr th {\n        vertical-align: top;\n    }\n\n    .dataframe thead th {\n        text-align: right;\n    }\n</style>\n<table border=\"1\" class=\"dataframe\">\n  <thead>\n    <tr style=\"text-align: right;\">\n      <th></th>\n      <th>attributes</th>\n      <th>datatype</th>\n      <th>date</th>\n      <th>station</th>\n      <th>value</th>\n      <th>name</th>\n      <th>latitude</th>\n      <th>longitude</th>\n      <th>elevation</th>\n    </tr>\n  </thead>\n  <tbody>\n    <tr>\n      <th>27422</th>\n      <td>,,N,</td>\n      <td>PRCP</td>\n      <td>2018-01-23</td>\n      <td>GHCND:US1NYSF0061</td>\n      <td>2.30</td>\n      <td>CENTERPORT 0.9 SW, NY US</td>\n      <td>40.89</td>\n      <td>-73.38</td>\n      <td>53.60</td>\n    </tr>\n    <tr>\n      <th>19317</th>\n      <td>T,,N,</td>\n      <td>PRCP</td>\n      <td>2018-08-10</td>\n      <td>GHCND:US1NJUN0014</td>\n      <td>0.00</td>\n      <td>WESTFIELD 0.6 NE, NJ US</td>\n      <td>40.66</td>\n      <td>-74.34</td>\n      <td>36.30</td>\n    </tr>\n    <tr>\n      <th>13778</th>\n      <td>,,N,</td>\n      <td>WESF</td>\n      <td>2018-02-18</td>\n      <td>GHCND:US1NJMS0089</td>\n      <td>19.60</td>\n      <td>PARSIPPANY TROY HILLS TWP 1.3, NJ US</td>\n      <td>40.87</td>\n      <td>-74.41</td>\n      <td>103.60</td>\n    </tr>\n    <tr>\n      <th>39633</th>\n      <td>,,7,0700</td>\n      <td>PRCP</td>\n      <td>2018-04-06</td>\n      <td>GHCND:USC00301309</td>\n      <td>0.00</td>\n      <td>CENTERPORT, NY US</td>\n      <td>40.88</td>\n      <td>-73.37</td>\n      <td>9.10</td>\n    </tr>\n    <tr>\n      <th>51025</th>\n      <td>,,W,2400</td>\n      <td>SNWD</td>\n      <td>2018-12-14</td>\n      <td>GHCND:USW00014734</td>\n      <td>0.00</td>\n      <td>NEWARK LIBERTY INTERNATIONAL AIRPORT, NJ US</td>\n      <td>40.68</td>\n      <td>-74.17</td>\n      <td>2.10</td>\n    </tr>\n  </tbody>\n</table>\n</div>"
     },
     "execution_count": 185,
     "metadata": {},
     "output_type": "execute_result"
    }
   ],
   "source": [
    "inner_join = weather.merge(station_info.rename(dict(id='station'),axis=1), on='station')\n",
    "inner_join.sample(5, random_state=0)"
   ],
   "metadata": {
    "collapsed": false
   }
  },
  {
   "cell_type": "code",
   "execution_count": 186,
   "outputs": [
    {
     "data": {
      "text/plain": "      attributes datatype       date            station  value  \\\n80404       ,,W,     WDF5 2018-12-31  GHCND:USW00094789 130.00   \n80405       ,,W,     WSF2 2018-12-31  GHCND:USW00094789   9.80   \n80406       ,,W,     WSF5 2018-12-31  GHCND:USW00094789  12.50   \n80407       ,,W,     WT01 2018-12-31  GHCND:USW00094789   1.00   \n80408       ,,W,     WT02 2018-12-31  GHCND:USW00094789   1.00   \n\n                      id                              name  latitude  \\\n80404  GHCND:USW00094789  JFK INTERNATIONAL AIRPORT, NY US     40.64   \n80405  GHCND:USW00094789  JFK INTERNATIONAL AIRPORT, NY US     40.64   \n80406  GHCND:USW00094789  JFK INTERNATIONAL AIRPORT, NY US     40.64   \n80407  GHCND:USW00094789  JFK INTERNATIONAL AIRPORT, NY US     40.64   \n80408  GHCND:USW00094789  JFK INTERNATIONAL AIRPORT, NY US     40.64   \n\n       longitude  elevation  \n80404     -73.76       3.40  \n80405     -73.76       3.40  \n80406     -73.76       3.40  \n80407     -73.76       3.40  \n80408     -73.76       3.40  ",
      "text/html": "<div>\n<style scoped>\n    .dataframe tbody tr th:only-of-type {\n        vertical-align: middle;\n    }\n\n    .dataframe tbody tr th {\n        vertical-align: top;\n    }\n\n    .dataframe thead th {\n        text-align: right;\n    }\n</style>\n<table border=\"1\" class=\"dataframe\">\n  <thead>\n    <tr style=\"text-align: right;\">\n      <th></th>\n      <th>attributes</th>\n      <th>datatype</th>\n      <th>date</th>\n      <th>station</th>\n      <th>value</th>\n      <th>id</th>\n      <th>name</th>\n      <th>latitude</th>\n      <th>longitude</th>\n      <th>elevation</th>\n    </tr>\n  </thead>\n  <tbody>\n    <tr>\n      <th>80404</th>\n      <td>,,W,</td>\n      <td>WDF5</td>\n      <td>2018-12-31</td>\n      <td>GHCND:USW00094789</td>\n      <td>130.00</td>\n      <td>GHCND:USW00094789</td>\n      <td>JFK INTERNATIONAL AIRPORT, NY US</td>\n      <td>40.64</td>\n      <td>-73.76</td>\n      <td>3.40</td>\n    </tr>\n    <tr>\n      <th>80405</th>\n      <td>,,W,</td>\n      <td>WSF2</td>\n      <td>2018-12-31</td>\n      <td>GHCND:USW00094789</td>\n      <td>9.80</td>\n      <td>GHCND:USW00094789</td>\n      <td>JFK INTERNATIONAL AIRPORT, NY US</td>\n      <td>40.64</td>\n      <td>-73.76</td>\n      <td>3.40</td>\n    </tr>\n    <tr>\n      <th>80406</th>\n      <td>,,W,</td>\n      <td>WSF5</td>\n      <td>2018-12-31</td>\n      <td>GHCND:USW00094789</td>\n      <td>12.50</td>\n      <td>GHCND:USW00094789</td>\n      <td>JFK INTERNATIONAL AIRPORT, NY US</td>\n      <td>40.64</td>\n      <td>-73.76</td>\n      <td>3.40</td>\n    </tr>\n    <tr>\n      <th>80407</th>\n      <td>,,W,</td>\n      <td>WT01</td>\n      <td>2018-12-31</td>\n      <td>GHCND:USW00094789</td>\n      <td>1.00</td>\n      <td>GHCND:USW00094789</td>\n      <td>JFK INTERNATIONAL AIRPORT, NY US</td>\n      <td>40.64</td>\n      <td>-73.76</td>\n      <td>3.40</td>\n    </tr>\n    <tr>\n      <th>80408</th>\n      <td>,,W,</td>\n      <td>WT02</td>\n      <td>2018-12-31</td>\n      <td>GHCND:USW00094789</td>\n      <td>1.00</td>\n      <td>GHCND:USW00094789</td>\n      <td>JFK INTERNATIONAL AIRPORT, NY US</td>\n      <td>40.64</td>\n      <td>-73.76</td>\n      <td>3.40</td>\n    </tr>\n  </tbody>\n</table>\n</div>"
     },
     "execution_count": 186,
     "metadata": {},
     "output_type": "execute_result"
    }
   ],
   "source": [
    "left_join = station_info.merge(weather, left_on='id', right_on='station', how='left')\n",
    "right_join = weather.merge(station_info, left_on='station', right_on='id', how='right')\n",
    "right_join.tail()"
   ],
   "metadata": {
    "collapsed": false
   }
  },
  {
   "cell_type": "code",
   "execution_count": 187,
   "outputs": [
    {
     "data": {
      "text/plain": "[(80256, 9), (80409, 10), (80409, 10)]"
     },
     "execution_count": 187,
     "metadata": {},
     "output_type": "execute_result"
    }
   ],
   "source": [
    "get_info('shape', inner_join, left_join, right_join)"
   ],
   "metadata": {
    "collapsed": false
   }
  },
  {
   "cell_type": "code",
   "execution_count": 188,
   "outputs": [
    {
     "name": "stderr",
     "output_type": "stream",
     "text": [
      "/var/folders/rk/qwqd81bx00b1rl2fj8gy_vnc0000gn/T/ipykernel_14170/1341329320.py:2: FutureWarning: The frame.append method is deprecated and will be removed from pandas in a future version. Use pandas.concat instead.\n",
      "  outer_join.sample(4, random_state=0).append(outer_join[outer_join.station.isna()].head(2))\n"
     ]
    },
    {
     "data": {
      "text/plain": "      attributes datatype       date            station  value  \\\n17259       ,,N,     PRCP 2018-05-15  GHCND:US1NJPS0022   0.30   \n76178       ,,N,     PRCP 2018-05-19  GHCND:US1NJPS0015   8.10   \n73410       ,,N,     MDPR 2018-08-05  GHCND:US1NYNS0018  12.20   \n74822       ,,N,     SNOW 2018-04-02  GHCND:US1NJMS0016 178.00   \n80256        NaN      NaN        NaT                NaN    NaN   \n80257        NaN      NaN        NaT                NaN    NaN   \n\n                      id                                  name  latitude  \\\n17259                NaN                                   NaN       NaN   \n76178                NaN                                   NaN       NaN   \n73410  GHCND:US1NYNS0018             HICKSVILLE 1.3 ENE, NY US     40.77   \n74822                NaN                                   NaN       NaN   \n80256  GHCND:US1NJMS0036  PARSIPPANY TROY HILLS TWP 2.1, NJ US     40.87   \n80257  GHCND:US1NJMS0039  PARSIPPANY TROY HILLS TWP 1.3, NJ US     40.85   \n\n       longitude  elevation      _merge  \n17259        NaN        NaN   left_only  \n76178        NaN        NaN   left_only  \n73410     -73.50      45.70        both  \n74822        NaN        NaN   left_only  \n80256     -74.39      64.30  right_only  \n80257     -74.45      94.20  right_only  ",
      "text/html": "<div>\n<style scoped>\n    .dataframe tbody tr th:only-of-type {\n        vertical-align: middle;\n    }\n\n    .dataframe tbody tr th {\n        vertical-align: top;\n    }\n\n    .dataframe thead th {\n        text-align: right;\n    }\n</style>\n<table border=\"1\" class=\"dataframe\">\n  <thead>\n    <tr style=\"text-align: right;\">\n      <th></th>\n      <th>attributes</th>\n      <th>datatype</th>\n      <th>date</th>\n      <th>station</th>\n      <th>value</th>\n      <th>id</th>\n      <th>name</th>\n      <th>latitude</th>\n      <th>longitude</th>\n      <th>elevation</th>\n      <th>_merge</th>\n    </tr>\n  </thead>\n  <tbody>\n    <tr>\n      <th>17259</th>\n      <td>,,N,</td>\n      <td>PRCP</td>\n      <td>2018-05-15</td>\n      <td>GHCND:US1NJPS0022</td>\n      <td>0.30</td>\n      <td>NaN</td>\n      <td>NaN</td>\n      <td>NaN</td>\n      <td>NaN</td>\n      <td>NaN</td>\n      <td>left_only</td>\n    </tr>\n    <tr>\n      <th>76178</th>\n      <td>,,N,</td>\n      <td>PRCP</td>\n      <td>2018-05-19</td>\n      <td>GHCND:US1NJPS0015</td>\n      <td>8.10</td>\n      <td>NaN</td>\n      <td>NaN</td>\n      <td>NaN</td>\n      <td>NaN</td>\n      <td>NaN</td>\n      <td>left_only</td>\n    </tr>\n    <tr>\n      <th>73410</th>\n      <td>,,N,</td>\n      <td>MDPR</td>\n      <td>2018-08-05</td>\n      <td>GHCND:US1NYNS0018</td>\n      <td>12.20</td>\n      <td>GHCND:US1NYNS0018</td>\n      <td>HICKSVILLE 1.3 ENE, NY US</td>\n      <td>40.77</td>\n      <td>-73.50</td>\n      <td>45.70</td>\n      <td>both</td>\n    </tr>\n    <tr>\n      <th>74822</th>\n      <td>,,N,</td>\n      <td>SNOW</td>\n      <td>2018-04-02</td>\n      <td>GHCND:US1NJMS0016</td>\n      <td>178.00</td>\n      <td>NaN</td>\n      <td>NaN</td>\n      <td>NaN</td>\n      <td>NaN</td>\n      <td>NaN</td>\n      <td>left_only</td>\n    </tr>\n    <tr>\n      <th>80256</th>\n      <td>NaN</td>\n      <td>NaN</td>\n      <td>NaT</td>\n      <td>NaN</td>\n      <td>NaN</td>\n      <td>GHCND:US1NJMS0036</td>\n      <td>PARSIPPANY TROY HILLS TWP 2.1, NJ US</td>\n      <td>40.87</td>\n      <td>-74.39</td>\n      <td>64.30</td>\n      <td>right_only</td>\n    </tr>\n    <tr>\n      <th>80257</th>\n      <td>NaN</td>\n      <td>NaN</td>\n      <td>NaT</td>\n      <td>NaN</td>\n      <td>NaN</td>\n      <td>GHCND:US1NJMS0039</td>\n      <td>PARSIPPANY TROY HILLS TWP 1.3, NJ US</td>\n      <td>40.85</td>\n      <td>-74.45</td>\n      <td>94.20</td>\n      <td>right_only</td>\n    </tr>\n  </tbody>\n</table>\n</div>"
     },
     "execution_count": 188,
     "metadata": {},
     "output_type": "execute_result"
    }
   ],
   "source": [
    "outer_join = weather.merge(station_info[station_info.name.str.contains('NY')], left_on='station', right_on='id', how='outer', indicator=True)\n",
    "outer_join.sample(4, random_state=0).append(outer_join[outer_join.station.isna()].head(2))"
   ],
   "metadata": {
    "collapsed": false
   }
  },
  {
   "cell_type": "markdown",
   "source": [
    "More examples TBD...\n",
    "\n",
    "## DataFrame operations\n",
    "### Arithmetic and statistics"
   ],
   "metadata": {
    "collapsed": false
   }
  },
  {
   "cell_type": "code",
   "execution_count": 189,
   "outputs": [],
   "source": [
    "import numpy as np\n",
    "fb = pd.read_csv('book_code/ch_04/data/fb_2018.csv', index_col='date', parse_dates=True)"
   ],
   "metadata": {
    "collapsed": false
   }
  },
  {
   "cell_type": "code",
   "execution_count": 190,
   "outputs": [
    {
     "data": {
      "text/plain": "             open   high    low  close     volume  abs_z_score_volume\ndate                                                                 \n2018-03-19 177.01 177.17 170.06 172.56   88140060                3.15\n2018-03-20 167.47 170.20 161.95 168.15  129851768                5.32\n2018-03-21 164.80 173.40 163.30 169.39  106598834                4.11\n2018-03-26 160.82 161.10 149.02 160.06  126116634                5.12\n2018-07-26 174.89 180.13 173.75 176.26  169803668                7.39",
      "text/html": "<div>\n<style scoped>\n    .dataframe tbody tr th:only-of-type {\n        vertical-align: middle;\n    }\n\n    .dataframe tbody tr th {\n        vertical-align: top;\n    }\n\n    .dataframe thead th {\n        text-align: right;\n    }\n</style>\n<table border=\"1\" class=\"dataframe\">\n  <thead>\n    <tr style=\"text-align: right;\">\n      <th></th>\n      <th>open</th>\n      <th>high</th>\n      <th>low</th>\n      <th>close</th>\n      <th>volume</th>\n      <th>abs_z_score_volume</th>\n    </tr>\n    <tr>\n      <th>date</th>\n      <th></th>\n      <th></th>\n      <th></th>\n      <th></th>\n      <th></th>\n      <th></th>\n    </tr>\n  </thead>\n  <tbody>\n    <tr>\n      <th>2018-03-19</th>\n      <td>177.01</td>\n      <td>177.17</td>\n      <td>170.06</td>\n      <td>172.56</td>\n      <td>88140060</td>\n      <td>3.15</td>\n    </tr>\n    <tr>\n      <th>2018-03-20</th>\n      <td>167.47</td>\n      <td>170.20</td>\n      <td>161.95</td>\n      <td>168.15</td>\n      <td>129851768</td>\n      <td>5.32</td>\n    </tr>\n    <tr>\n      <th>2018-03-21</th>\n      <td>164.80</td>\n      <td>173.40</td>\n      <td>163.30</td>\n      <td>169.39</td>\n      <td>106598834</td>\n      <td>4.11</td>\n    </tr>\n    <tr>\n      <th>2018-03-26</th>\n      <td>160.82</td>\n      <td>161.10</td>\n      <td>149.02</td>\n      <td>160.06</td>\n      <td>126116634</td>\n      <td>5.12</td>\n    </tr>\n    <tr>\n      <th>2018-07-26</th>\n      <td>174.89</td>\n      <td>180.13</td>\n      <td>173.75</td>\n      <td>176.26</td>\n      <td>169803668</td>\n      <td>7.39</td>\n    </tr>\n  </tbody>\n</table>\n</div>"
     },
     "execution_count": 190,
     "metadata": {},
     "output_type": "execute_result"
    }
   ],
   "source": [
    "fb.assign(abs_z_score_volume=lambda x: x.volume.sub(x.volume.mean()).div(x.volume.std()).abs()).query('abs_z_score_volume > 3')"
   ],
   "metadata": {
    "collapsed": false
   }
  },
  {
   "cell_type": "code",
   "execution_count": 191,
   "outputs": [
    {
     "data": {
      "text/plain": "             open   high    low  close     volume  volume_pct_change  \\\ndate                                                                   \n2018-01-12 178.06 181.48 177.40 179.37   77551299               7.09   \n2018-03-19 177.01 177.17 170.06 172.56   88140060               2.61   \n2018-07-26 174.89 180.13 173.75 176.26  169803668               1.63   \n2018-09-21 166.64 167.25 162.81 162.93   45994800               1.43   \n2018-03-26 160.82 161.10 149.02 160.06  126116634               1.35   \n\n            pct_change_rank  \ndate                         \n2018-01-12             1.00  \n2018-03-19             2.00  \n2018-07-26             3.00  \n2018-09-21             4.00  \n2018-03-26             5.00  ",
      "text/html": "<div>\n<style scoped>\n    .dataframe tbody tr th:only-of-type {\n        vertical-align: middle;\n    }\n\n    .dataframe tbody tr th {\n        vertical-align: top;\n    }\n\n    .dataframe thead th {\n        text-align: right;\n    }\n</style>\n<table border=\"1\" class=\"dataframe\">\n  <thead>\n    <tr style=\"text-align: right;\">\n      <th></th>\n      <th>open</th>\n      <th>high</th>\n      <th>low</th>\n      <th>close</th>\n      <th>volume</th>\n      <th>volume_pct_change</th>\n      <th>pct_change_rank</th>\n    </tr>\n    <tr>\n      <th>date</th>\n      <th></th>\n      <th></th>\n      <th></th>\n      <th></th>\n      <th></th>\n      <th></th>\n      <th></th>\n    </tr>\n  </thead>\n  <tbody>\n    <tr>\n      <th>2018-01-12</th>\n      <td>178.06</td>\n      <td>181.48</td>\n      <td>177.40</td>\n      <td>179.37</td>\n      <td>77551299</td>\n      <td>7.09</td>\n      <td>1.00</td>\n    </tr>\n    <tr>\n      <th>2018-03-19</th>\n      <td>177.01</td>\n      <td>177.17</td>\n      <td>170.06</td>\n      <td>172.56</td>\n      <td>88140060</td>\n      <td>2.61</td>\n      <td>2.00</td>\n    </tr>\n    <tr>\n      <th>2018-07-26</th>\n      <td>174.89</td>\n      <td>180.13</td>\n      <td>173.75</td>\n      <td>176.26</td>\n      <td>169803668</td>\n      <td>1.63</td>\n      <td>3.00</td>\n    </tr>\n    <tr>\n      <th>2018-09-21</th>\n      <td>166.64</td>\n      <td>167.25</td>\n      <td>162.81</td>\n      <td>162.93</td>\n      <td>45994800</td>\n      <td>1.43</td>\n      <td>4.00</td>\n    </tr>\n    <tr>\n      <th>2018-03-26</th>\n      <td>160.82</td>\n      <td>161.10</td>\n      <td>149.02</td>\n      <td>160.06</td>\n      <td>126116634</td>\n      <td>1.35</td>\n      <td>5.00</td>\n    </tr>\n  </tbody>\n</table>\n</div>"
     },
     "execution_count": 191,
     "metadata": {},
     "output_type": "execute_result"
    }
   ],
   "source": [
    "fb.assign(volume_pct_change=fb.volume.pct_change(), pct_change_rank=lambda x: x.volume_pct_change.abs().rank(ascending=False)).nsmallest(5, 'pct_change_rank')"
   ],
   "metadata": {
    "collapsed": false
   }
  },
  {
   "cell_type": "code",
   "execution_count": 192,
   "outputs": [
    {
     "data": {
      "text/plain": "             open   high    low  close    volume\ndate                                            \n2018-01-11 188.40 188.40 187.38 187.77   9588587\n2018-01-12 178.06 181.48 177.40 179.37  77551299",
      "text/html": "<div>\n<style scoped>\n    .dataframe tbody tr th:only-of-type {\n        vertical-align: middle;\n    }\n\n    .dataframe tbody tr th {\n        vertical-align: top;\n    }\n\n    .dataframe thead th {\n        text-align: right;\n    }\n</style>\n<table border=\"1\" class=\"dataframe\">\n  <thead>\n    <tr style=\"text-align: right;\">\n      <th></th>\n      <th>open</th>\n      <th>high</th>\n      <th>low</th>\n      <th>close</th>\n      <th>volume</th>\n    </tr>\n    <tr>\n      <th>date</th>\n      <th></th>\n      <th></th>\n      <th></th>\n      <th></th>\n      <th></th>\n    </tr>\n  </thead>\n  <tbody>\n    <tr>\n      <th>2018-01-11</th>\n      <td>188.40</td>\n      <td>188.40</td>\n      <td>187.38</td>\n      <td>187.77</td>\n      <td>9588587</td>\n    </tr>\n    <tr>\n      <th>2018-01-12</th>\n      <td>178.06</td>\n      <td>181.48</td>\n      <td>177.40</td>\n      <td>179.37</td>\n      <td>77551299</td>\n    </tr>\n  </tbody>\n</table>\n</div>"
     },
     "execution_count": 192,
     "metadata": {},
     "output_type": "execute_result"
    }
   ],
   "source": [
    "fb['2018-01-11':'2018-01-12']"
   ],
   "metadata": {
    "collapsed": false
   }
  },
  {
   "cell_type": "code",
   "execution_count": 193,
   "outputs": [
    {
     "data": {
      "text/plain": "open       True\nhigh       True\nlow       False\nclose      True\nvolume     True\ndtype: bool"
     },
     "execution_count": 193,
     "metadata": {},
     "output_type": "execute_result"
    }
   ],
   "source": [
    "(fb > 215).any()\n",
    "# FB's low price never went above $215"
   ],
   "metadata": {
    "collapsed": false
   }
  },
  {
   "cell_type": "code",
   "execution_count": 194,
   "outputs": [
    {
     "data": {
      "text/plain": "open      False\nhigh      False\nlow       False\nclose     False\nvolume     True\ndtype: bool"
     },
     "execution_count": 194,
     "metadata": {},
     "output_type": "execute_result"
    }
   ],
   "source": [
    "(fb > 215).all()"
   ],
   "metadata": {
    "collapsed": false
   }
  },
  {
   "cell_type": "markdown",
   "source": [
    "### Binning and thresholds"
   ],
   "metadata": {
    "collapsed": false
   }
  },
  {
   "cell_type": "code",
   "execution_count": 195,
   "outputs": [
    {
     "data": {
      "text/plain": "0"
     },
     "execution_count": 195,
     "metadata": {},
     "output_type": "execute_result"
    }
   ],
   "source": [
    "# Do any days have the same volume? That is, do any two or more days have the same volume?\n",
    "(fb.volume.value_counts() > 1).sum()"
   ],
   "metadata": {
    "collapsed": false
   }
  },
  {
   "cell_type": "code",
   "execution_count": 196,
   "outputs": [
    {
     "data": {
      "text/plain": "low     240\nmed       8\nhigh      3\nName: volume, dtype: int64"
     },
     "execution_count": 196,
     "metadata": {},
     "output_type": "execute_result"
    }
   ],
   "source": [
    "volume_binned = pd.cut(fb.volume, bins=3, labels=['low', 'med', 'high'])\n",
    "volume_binned.value_counts()"
   ],
   "metadata": {
    "collapsed": false
   }
  },
  {
   "cell_type": "code",
   "execution_count": 197,
   "outputs": [
    {
     "data": {
      "text/plain": "             open   high    low  close     volume\ndate                                             \n2018-07-26 174.89 180.13 173.75 176.26  169803668\n2018-03-20 167.47 170.20 161.95 168.15  129851768\n2018-03-26 160.82 161.10 149.02 160.06  126116634",
      "text/html": "<div>\n<style scoped>\n    .dataframe tbody tr th:only-of-type {\n        vertical-align: middle;\n    }\n\n    .dataframe tbody tr th {\n        vertical-align: top;\n    }\n\n    .dataframe thead th {\n        text-align: right;\n    }\n</style>\n<table border=\"1\" class=\"dataframe\">\n  <thead>\n    <tr style=\"text-align: right;\">\n      <th></th>\n      <th>open</th>\n      <th>high</th>\n      <th>low</th>\n      <th>close</th>\n      <th>volume</th>\n    </tr>\n    <tr>\n      <th>date</th>\n      <th></th>\n      <th></th>\n      <th></th>\n      <th></th>\n      <th></th>\n    </tr>\n  </thead>\n  <tbody>\n    <tr>\n      <th>2018-07-26</th>\n      <td>174.89</td>\n      <td>180.13</td>\n      <td>173.75</td>\n      <td>176.26</td>\n      <td>169803668</td>\n    </tr>\n    <tr>\n      <th>2018-03-20</th>\n      <td>167.47</td>\n      <td>170.20</td>\n      <td>161.95</td>\n      <td>168.15</td>\n      <td>129851768</td>\n    </tr>\n    <tr>\n      <th>2018-03-26</th>\n      <td>160.82</td>\n      <td>161.10</td>\n      <td>149.02</td>\n      <td>160.06</td>\n      <td>126116634</td>\n    </tr>\n  </tbody>\n</table>\n</div>"
     },
     "execution_count": 197,
     "metadata": {},
     "output_type": "execute_result"
    }
   ],
   "source": [
    "fb[volume_binned=='high'].sort_values('volume', ascending=False)"
   ],
   "metadata": {
    "collapsed": false
   }
  },
  {
   "cell_type": "code",
   "execution_count": 198,
   "outputs": [
    {
     "data": {
      "text/plain": "             open   high    low  close     volume\ndate                                             \n2018-07-25 215.72 218.62 214.27 217.50   64592585\n2018-07-26 174.89 180.13 173.75 176.26  169803668",
      "text/html": "<div>\n<style scoped>\n    .dataframe tbody tr th:only-of-type {\n        vertical-align: middle;\n    }\n\n    .dataframe tbody tr th {\n        vertical-align: top;\n    }\n\n    .dataframe thead th {\n        text-align: right;\n    }\n</style>\n<table border=\"1\" class=\"dataframe\">\n  <thead>\n    <tr style=\"text-align: right;\">\n      <th></th>\n      <th>open</th>\n      <th>high</th>\n      <th>low</th>\n      <th>close</th>\n      <th>volume</th>\n    </tr>\n    <tr>\n      <th>date</th>\n      <th></th>\n      <th></th>\n      <th></th>\n      <th></th>\n      <th></th>\n    </tr>\n  </thead>\n  <tbody>\n    <tr>\n      <th>2018-07-25</th>\n      <td>215.72</td>\n      <td>218.62</td>\n      <td>214.27</td>\n      <td>217.50</td>\n      <td>64592585</td>\n    </tr>\n    <tr>\n      <th>2018-07-26</th>\n      <td>174.89</td>\n      <td>180.13</td>\n      <td>173.75</td>\n      <td>176.26</td>\n      <td>169803668</td>\n    </tr>\n  </tbody>\n</table>\n</div>"
     },
     "execution_count": 198,
     "metadata": {},
     "output_type": "execute_result"
    }
   ],
   "source": [
    "fb['2018-07-25':'2018-07-26']"
   ],
   "metadata": {
    "collapsed": false
   }
  },
  {
   "cell_type": "code",
   "execution_count": 199,
   "outputs": [
    {
     "data": {
      "text/plain": "             open   high    low  close     volume\ndate                                             \n2018-03-16 184.49 185.33 183.41 185.09   24403438\n2018-03-19 177.01 177.17 170.06 172.56   88140060\n2018-03-20 167.47 170.20 161.95 168.15  129851768",
      "text/html": "<div>\n<style scoped>\n    .dataframe tbody tr th:only-of-type {\n        vertical-align: middle;\n    }\n\n    .dataframe tbody tr th {\n        vertical-align: top;\n    }\n\n    .dataframe thead th {\n        text-align: right;\n    }\n</style>\n<table border=\"1\" class=\"dataframe\">\n  <thead>\n    <tr style=\"text-align: right;\">\n      <th></th>\n      <th>open</th>\n      <th>high</th>\n      <th>low</th>\n      <th>close</th>\n      <th>volume</th>\n    </tr>\n    <tr>\n      <th>date</th>\n      <th></th>\n      <th></th>\n      <th></th>\n      <th></th>\n      <th></th>\n    </tr>\n  </thead>\n  <tbody>\n    <tr>\n      <th>2018-03-16</th>\n      <td>184.49</td>\n      <td>185.33</td>\n      <td>183.41</td>\n      <td>185.09</td>\n      <td>24403438</td>\n    </tr>\n    <tr>\n      <th>2018-03-19</th>\n      <td>177.01</td>\n      <td>177.17</td>\n      <td>170.06</td>\n      <td>172.56</td>\n      <td>88140060</td>\n    </tr>\n    <tr>\n      <th>2018-03-20</th>\n      <td>167.47</td>\n      <td>170.20</td>\n      <td>161.95</td>\n      <td>168.15</td>\n      <td>129851768</td>\n    </tr>\n  </tbody>\n</table>\n</div>"
     },
     "execution_count": 199,
     "metadata": {},
     "output_type": "execute_result"
    }
   ],
   "source": [
    "fb['2018-03-16':'2018-03-20']"
   ],
   "metadata": {
    "collapsed": false
   }
  },
  {
   "cell_type": "code",
   "execution_count": 200,
   "outputs": [],
   "source": [
    "import matplotlib.pyplot as plt"
   ],
   "metadata": {
    "collapsed": false
   }
  },
  {
   "cell_type": "code",
   "execution_count": 201,
   "outputs": [
    {
     "data": {
      "text/plain": "<Figure size 1500x300 with 1 Axes>",
      "image/png": "[encoded data removed]"
     },
     "metadata": {},
     "output_type": "display_data"
    }
   ],
   "source": [
    "fb.plot(y='volume', figsize=(15, 3), title='Daily Volume Traded of Facebook Stock in 2018 (with bins)')\n",
    "\n",
    "for bin_name, alpha, bounds in zip(['low', 'med', 'high'], [0.1, 0.2, 0.3], pd.cut(fb.volume, bins=3).unique().categories.values):\n",
    "    plt.axhspan(bounds.left, bounds.right, alpha=alpha, label=bin_name, color='mediumturquoise')\n",
    "    plt.annotate(bin_name, xy=('2017-12-17', (bounds.left + bounds.right)/2.1))\n",
    "\n",
    "plt.ylabel('volume traded')\n",
    "plt.legend()\n",
    "plt.show()"
   ],
   "metadata": {
    "collapsed": false
   }
  },
  {
   "cell_type": "code",
   "execution_count": 202,
   "outputs": [
    {
     "data": {
      "text/plain": "q1    63\nq2    63\nq4    63\nq3    62\nName: volume, dtype: int64"
     },
     "execution_count": 202,
     "metadata": {},
     "output_type": "execute_result"
    }
   ],
   "source": [
    "volume_qbinned = pd.qcut(fb.volume, q=4, labels=['q1', 'q2', 'q3', 'q4'])\n",
    "volume_qbinned.value_counts()"
   ],
   "metadata": {
    "collapsed": false
   }
  },
  {
   "cell_type": "code",
   "execution_count": 203,
   "outputs": [
    {
     "data": {
      "text/plain": "<Figure size 1500x800 with 1 Axes>",
      "image/png": "[encoded data removed]"
     },
     "metadata": {},
     "output_type": "display_data"
    }
   ],
   "source": [
    "fb.plot(y='volume', figsize=(15, 8), title='Daily Volume Traded of Facebook Stock in 2018 (with quartile bins)')\n",
    "\n",
    "for bin_name, alpha, bounds in zip(\n",
    "        ['q1', 'q2', 'q3', 'q4'], [0.1, 0.35, 0.2, 0.3], pd.qcut(fb.volume, q=4).unique().categories.values\n",
    "):\n",
    "    plt.axhspan(bounds.left, bounds.right, alpha=alpha, label=bin_name, color='mediumturquoise')\n",
    "    plt.annotate(bin_name, xy=('2017-12-17', (bounds.left + bounds.right)/2.1))\n",
    "\n",
    "plt.ylabel('volume traded')\n",
    "plt.legend()\n",
    "plt.show()"
   ],
   "metadata": {
    "collapsed": false
   }
  },
  {
   "cell_type": "code",
   "execution_count": 204,
   "outputs": [
    {
     "data": {
      "text/plain": "0.00    354\n1.00     11\nName: SNOW, dtype: int64"
     },
     "execution_count": 204,
     "metadata": {},
     "output_type": "execute_result"
    }
   ],
   "source": [
    "central_park_weather = weather.query('station == \"GHCND:USW00094728\"').pivot(index='date', columns='datatype', values='value')\n",
    "central_park_weather.SNOW.clip(0,1).value_counts()"
   ],
   "metadata": {
    "collapsed": false
   }
  },
  {
   "cell_type": "markdown",
   "source": [
    "### Applying functions"
   ],
   "metadata": {
    "collapsed": false
   }
  },
  {
   "cell_type": "code",
   "execution_count": 205,
   "outputs": [
    {
     "data": {
      "text/plain": "          count  mean  std   min   25%   50%   75%  max\ndatatype                                               \nTMIN      31.00 -0.00 1.00 -1.34 -0.75 -0.47  1.07 1.84\nTMAX      31.00 -0.00 1.00 -1.31 -0.87 -0.14  1.01 1.60\nPRCP      31.00  0.00 1.00 -0.39 -0.39 -0.39 -0.24 3.94",
      "text/html": "<div>\n<style scoped>\n    .dataframe tbody tr th:only-of-type {\n        vertical-align: middle;\n    }\n\n    .dataframe tbody tr th {\n        vertical-align: top;\n    }\n\n    .dataframe thead th {\n        text-align: right;\n    }\n</style>\n<table border=\"1\" class=\"dataframe\">\n  <thead>\n    <tr style=\"text-align: right;\">\n      <th></th>\n      <th>count</th>\n      <th>mean</th>\n      <th>std</th>\n      <th>min</th>\n      <th>25%</th>\n      <th>50%</th>\n      <th>75%</th>\n      <th>max</th>\n    </tr>\n    <tr>\n      <th>datatype</th>\n      <th></th>\n      <th></th>\n      <th></th>\n      <th></th>\n      <th></th>\n      <th></th>\n      <th></th>\n      <th></th>\n    </tr>\n  </thead>\n  <tbody>\n    <tr>\n      <th>TMIN</th>\n      <td>31.00</td>\n      <td>-0.00</td>\n      <td>1.00</td>\n      <td>-1.34</td>\n      <td>-0.75</td>\n      <td>-0.47</td>\n      <td>1.07</td>\n      <td>1.84</td>\n    </tr>\n    <tr>\n      <th>TMAX</th>\n      <td>31.00</td>\n      <td>-0.00</td>\n      <td>1.00</td>\n      <td>-1.31</td>\n      <td>-0.87</td>\n      <td>-0.14</td>\n      <td>1.01</td>\n      <td>1.60</td>\n    </tr>\n    <tr>\n      <th>PRCP</th>\n      <td>31.00</td>\n      <td>0.00</td>\n      <td>1.00</td>\n      <td>-0.39</td>\n      <td>-0.39</td>\n      <td>-0.39</td>\n      <td>-0.24</td>\n      <td>3.94</td>\n    </tr>\n  </tbody>\n</table>\n</div>"
     },
     "execution_count": 205,
     "metadata": {},
     "output_type": "execute_result"
    }
   ],
   "source": [
    "oct_weather_z_scores = central_park_weather.loc['2018-10', ['TMIN', 'TMAX', 'PRCP']].apply(lambda x: x.sub(x.mean()).div(x.std()))\n",
    "oct_weather_z_scores.describe().T"
   ],
   "metadata": {
    "collapsed": false
   }
  },
  {
   "cell_type": "code",
   "execution_count": 206,
   "outputs": [
    {
     "data": {
      "text/plain": "datatype    TMIN  TMAX  PRCP\ndate                        \n2018-10-27 -0.75 -1.20  3.94",
      "text/html": "<div>\n<style scoped>\n    .dataframe tbody tr th:only-of-type {\n        vertical-align: middle;\n    }\n\n    .dataframe tbody tr th {\n        vertical-align: top;\n    }\n\n    .dataframe thead th {\n        text-align: right;\n    }\n</style>\n<table border=\"1\" class=\"dataframe\">\n  <thead>\n    <tr style=\"text-align: right;\">\n      <th>datatype</th>\n      <th>TMIN</th>\n      <th>TMAX</th>\n      <th>PRCP</th>\n    </tr>\n    <tr>\n      <th>date</th>\n      <th></th>\n      <th></th>\n      <th></th>\n    </tr>\n  </thead>\n  <tbody>\n    <tr>\n      <th>2018-10-27</th>\n      <td>-0.75</td>\n      <td>-1.20</td>\n      <td>3.94</td>\n    </tr>\n  </tbody>\n</table>\n</div>"
     },
     "execution_count": 206,
     "metadata": {},
     "output_type": "execute_result"
    }
   ],
   "source": [
    "oct_weather_z_scores.query('PRCP > 3')"
   ],
   "metadata": {
    "collapsed": false
   }
  },
  {
   "cell_type": "code",
   "execution_count": 207,
   "outputs": [
    {
     "data": {
      "text/plain": "count   31.00\nmean     2.94\nstd      7.46\nmin      0.00\n25%      0.00\n50%      0.00\n75%      1.15\nmax     32.30\nName: PRCP, dtype: float64"
     },
     "execution_count": 207,
     "metadata": {},
     "output_type": "execute_result"
    }
   ],
   "source": [
    "central_park_weather.loc['2018-10', 'PRCP'].describe()"
   ],
   "metadata": {
    "collapsed": false
   }
  },
  {
   "cell_type": "markdown",
   "source": [
    "### Window calculations"
   ],
   "metadata": {
    "collapsed": false
   }
  },
  {
   "cell_type": "code",
   "execution_count": 208,
   "outputs": [
    {
     "data": {
      "text/plain": "date          2018-10-01  2018-10-02  2018-10-03  2018-10-04  2018-10-05  \\\ndatatype                                                                   \nPRCP                0.00       17.50        0.00        1.00        0.00   \nrolling_PRCP        0.00       17.50       17.50       18.50        1.00   \n\ndate          2018-10-06  2018-10-07  \ndatatype                              \nPRCP                0.00        0.00  \nrolling_PRCP        1.00        0.00  ",
      "text/html": "<div>\n<style scoped>\n    .dataframe tbody tr th:only-of-type {\n        vertical-align: middle;\n    }\n\n    .dataframe tbody tr th {\n        vertical-align: top;\n    }\n\n    .dataframe thead th {\n        text-align: right;\n    }\n</style>\n<table border=\"1\" class=\"dataframe\">\n  <thead>\n    <tr style=\"text-align: right;\">\n      <th>date</th>\n      <th>2018-10-01</th>\n      <th>2018-10-02</th>\n      <th>2018-10-03</th>\n      <th>2018-10-04</th>\n      <th>2018-10-05</th>\n      <th>2018-10-06</th>\n      <th>2018-10-07</th>\n    </tr>\n    <tr>\n      <th>datatype</th>\n      <th></th>\n      <th></th>\n      <th></th>\n      <th></th>\n      <th></th>\n      <th></th>\n      <th></th>\n    </tr>\n  </thead>\n  <tbody>\n    <tr>\n      <th>PRCP</th>\n      <td>0.00</td>\n      <td>17.50</td>\n      <td>0.00</td>\n      <td>1.00</td>\n      <td>0.00</td>\n      <td>0.00</td>\n      <td>0.00</td>\n    </tr>\n    <tr>\n      <th>rolling_PRCP</th>\n      <td>0.00</td>\n      <td>17.50</td>\n      <td>17.50</td>\n      <td>18.50</td>\n      <td>1.00</td>\n      <td>1.00</td>\n      <td>0.00</td>\n    </tr>\n  </tbody>\n</table>\n</div>"
     },
     "execution_count": 208,
     "metadata": {},
     "output_type": "execute_result"
    }
   ],
   "source": [
    "# Rolling three-day sum of precipitation\n",
    "central_park_weather.loc['2018-10'].assign(rolling_PRCP=lambda x: x.PRCP.rolling('3D').sum())[['PRCP', 'rolling_PRCP']].head(7).T"
   ],
   "metadata": {
    "collapsed": false
   }
  },
  {
   "cell_type": "code",
   "execution_count": 209,
   "outputs": [
    {
     "data": {
      "text/plain": "datatype    AWND  PRCP  SNOW  SNWD  TMAX  TMIN\ndate                                          \n2018-10-01  0.90  0.00  0.00  0.00 24.40 17.20\n2018-10-02  0.90  8.75  0.00  0.00 24.70 17.75\n2018-10-03  0.97  5.83  0.00  0.00 24.23 17.57\n2018-10-04  0.80  6.17  0.00  0.00 24.23 17.20\n2018-10-05  1.03  0.33  0.00  0.00 23.13 16.30\n2018-10-06  0.83  0.33  0.00  0.00 22.03 16.30\n2018-10-07  1.07  0.00  0.00  0.00 22.60 17.40",
      "text/html": "<div>\n<style scoped>\n    .dataframe tbody tr th:only-of-type {\n        vertical-align: middle;\n    }\n\n    .dataframe tbody tr th {\n        vertical-align: top;\n    }\n\n    .dataframe thead th {\n        text-align: right;\n    }\n</style>\n<table border=\"1\" class=\"dataframe\">\n  <thead>\n    <tr style=\"text-align: right;\">\n      <th>datatype</th>\n      <th>AWND</th>\n      <th>PRCP</th>\n      <th>SNOW</th>\n      <th>SNWD</th>\n      <th>TMAX</th>\n      <th>TMIN</th>\n    </tr>\n    <tr>\n      <th>date</th>\n      <th></th>\n      <th></th>\n      <th></th>\n      <th></th>\n      <th></th>\n      <th></th>\n    </tr>\n  </thead>\n  <tbody>\n    <tr>\n      <th>2018-10-01</th>\n      <td>0.90</td>\n      <td>0.00</td>\n      <td>0.00</td>\n      <td>0.00</td>\n      <td>24.40</td>\n      <td>17.20</td>\n    </tr>\n    <tr>\n      <th>2018-10-02</th>\n      <td>0.90</td>\n      <td>8.75</td>\n      <td>0.00</td>\n      <td>0.00</td>\n      <td>24.70</td>\n      <td>17.75</td>\n    </tr>\n    <tr>\n      <th>2018-10-03</th>\n      <td>0.97</td>\n      <td>5.83</td>\n      <td>0.00</td>\n      <td>0.00</td>\n      <td>24.23</td>\n      <td>17.57</td>\n    </tr>\n    <tr>\n      <th>2018-10-04</th>\n      <td>0.80</td>\n      <td>6.17</td>\n      <td>0.00</td>\n      <td>0.00</td>\n      <td>24.23</td>\n      <td>17.20</td>\n    </tr>\n    <tr>\n      <th>2018-10-05</th>\n      <td>1.03</td>\n      <td>0.33</td>\n      <td>0.00</td>\n      <td>0.00</td>\n      <td>23.13</td>\n      <td>16.30</td>\n    </tr>\n    <tr>\n      <th>2018-10-06</th>\n      <td>0.83</td>\n      <td>0.33</td>\n      <td>0.00</td>\n      <td>0.00</td>\n      <td>22.03</td>\n      <td>16.30</td>\n    </tr>\n    <tr>\n      <th>2018-10-07</th>\n      <td>1.07</td>\n      <td>0.00</td>\n      <td>0.00</td>\n      <td>0.00</td>\n      <td>22.60</td>\n      <td>17.40</td>\n    </tr>\n  </tbody>\n</table>\n</div>"
     },
     "execution_count": 209,
     "metadata": {},
     "output_type": "execute_result"
    }
   ],
   "source": [
    "# Works for any arbitrary aggregation, like `.mean()` or `.max()`. Also works for all columns.\n",
    "central_park_weather.loc['2018-10'].rolling('3D').mean().head(7).iloc[:,:6]"
   ],
   "metadata": {
    "collapsed": false
   }
  },
  {
   "cell_type": "code",
   "execution_count": 210,
   "outputs": [
    {
     "data": {
      "text/plain": "datatype    AWND  AWND_rolling  PRCP  PRCP_rolling  TMAX  TMAX_rolling  TMIN  \\\ndate                                                                           \n2018-10-01  0.90          0.90  0.00          0.00 24.40         24.40 17.20   \n2018-10-02  0.90          0.90 17.50         17.50 25.00         25.00 18.30   \n2018-10-03  1.10          0.97  0.00         17.50 23.30         25.00 17.20   \n2018-10-04  0.40          0.80  1.00         18.50 24.40         25.00 16.10   \n2018-10-05  1.60          1.03  0.00          1.00 21.70         24.40 15.60   \n2018-10-06  0.50          0.83  0.00          1.00 20.00         24.40 17.20   \n2018-10-07  1.10          1.07  0.00          0.00 26.10         26.10 19.40   \n\ndatatype    TMIN_rolling  \ndate                      \n2018-10-01         17.20  \n2018-10-02         17.20  \n2018-10-03         17.20  \n2018-10-04         16.10  \n2018-10-05         15.60  \n2018-10-06         15.60  \n2018-10-07         15.60  ",
      "text/html": "<div>\n<style scoped>\n    .dataframe tbody tr th:only-of-type {\n        vertical-align: middle;\n    }\n\n    .dataframe tbody tr th {\n        vertical-align: top;\n    }\n\n    .dataframe thead th {\n        text-align: right;\n    }\n</style>\n<table border=\"1\" class=\"dataframe\">\n  <thead>\n    <tr style=\"text-align: right;\">\n      <th>datatype</th>\n      <th>AWND</th>\n      <th>AWND_rolling</th>\n      <th>PRCP</th>\n      <th>PRCP_rolling</th>\n      <th>TMAX</th>\n      <th>TMAX_rolling</th>\n      <th>TMIN</th>\n      <th>TMIN_rolling</th>\n    </tr>\n    <tr>\n      <th>date</th>\n      <th></th>\n      <th></th>\n      <th></th>\n      <th></th>\n      <th></th>\n      <th></th>\n      <th></th>\n      <th></th>\n    </tr>\n  </thead>\n  <tbody>\n    <tr>\n      <th>2018-10-01</th>\n      <td>0.90</td>\n      <td>0.90</td>\n      <td>0.00</td>\n      <td>0.00</td>\n      <td>24.40</td>\n      <td>24.40</td>\n      <td>17.20</td>\n      <td>17.20</td>\n    </tr>\n    <tr>\n      <th>2018-10-02</th>\n      <td>0.90</td>\n      <td>0.90</td>\n      <td>17.50</td>\n      <td>17.50</td>\n      <td>25.00</td>\n      <td>25.00</td>\n      <td>18.30</td>\n      <td>17.20</td>\n    </tr>\n    <tr>\n      <th>2018-10-03</th>\n      <td>1.10</td>\n      <td>0.97</td>\n      <td>0.00</td>\n      <td>17.50</td>\n      <td>23.30</td>\n      <td>25.00</td>\n      <td>17.20</td>\n      <td>17.20</td>\n    </tr>\n    <tr>\n      <th>2018-10-04</th>\n      <td>0.40</td>\n      <td>0.80</td>\n      <td>1.00</td>\n      <td>18.50</td>\n      <td>24.40</td>\n      <td>25.00</td>\n      <td>16.10</td>\n      <td>16.10</td>\n    </tr>\n    <tr>\n      <th>2018-10-05</th>\n      <td>1.60</td>\n      <td>1.03</td>\n      <td>0.00</td>\n      <td>1.00</td>\n      <td>21.70</td>\n      <td>24.40</td>\n      <td>15.60</td>\n      <td>15.60</td>\n    </tr>\n    <tr>\n      <th>2018-10-06</th>\n      <td>0.50</td>\n      <td>0.83</td>\n      <td>0.00</td>\n      <td>1.00</td>\n      <td>20.00</td>\n      <td>24.40</td>\n      <td>17.20</td>\n      <td>15.60</td>\n    </tr>\n    <tr>\n      <th>2018-10-07</th>\n      <td>1.10</td>\n      <td>1.07</td>\n      <td>0.00</td>\n      <td>0.00</td>\n      <td>26.10</td>\n      <td>26.10</td>\n      <td>19.40</td>\n      <td>15.60</td>\n    </tr>\n  </tbody>\n</table>\n</div>"
     },
     "execution_count": 210,
     "metadata": {},
     "output_type": "execute_result"
    }
   ],
   "source": [
    "# Create rolling 3D aggregations on a per-column basis and join on the original data for comparison.\n",
    "central_park_weather['2018-10-01':'2018-10-07'].rolling('3D').agg({'TMAX': 'max', 'TMIN': 'min', 'AWND': 'mean', 'PRCP': 'sum'}).join(central_park_weather[['TMAX', 'TMIN', 'AWND', 'PRCP']], lsuffix='_rolling').sort_index(axis=1)"
   ],
   "metadata": {
    "collapsed": false
   }
  },
  {
   "cell_type": "code",
   "execution_count": 211,
   "outputs": [
    {
     "data": {
      "text/plain": "datatype    AWND  AWND_expanding  PRCP  PRCP_expanding  TMAX  TMAX_expanding  \\\ndate                                                                           \n2018-10-01  0.90            0.90  0.00            0.00 24.40           24.40   \n2018-10-02  0.90            0.90 17.50           17.50 25.00           25.00   \n2018-10-03  1.10            0.97  0.00           17.50 23.30           25.00   \n2018-10-04  0.40            0.83  1.00           18.50 24.40           25.00   \n2018-10-05  1.60            0.98  0.00           18.50 21.70           25.00   \n2018-10-06  0.50            0.90  0.00           18.50 20.00           25.00   \n2018-10-07  1.10            0.93  0.00           18.50 26.10           26.10   \n\ndatatype    TMIN  TMIN_expanding  \ndate                              \n2018-10-01 17.20           17.20  \n2018-10-02 18.30           17.20  \n2018-10-03 17.20           17.20  \n2018-10-04 16.10           16.10  \n2018-10-05 15.60           15.60  \n2018-10-06 17.20           15.60  \n2018-10-07 19.40           15.60  ",
      "text/html": "<div>\n<style scoped>\n    .dataframe tbody tr th:only-of-type {\n        vertical-align: middle;\n    }\n\n    .dataframe tbody tr th {\n        vertical-align: top;\n    }\n\n    .dataframe thead th {\n        text-align: right;\n    }\n</style>\n<table border=\"1\" class=\"dataframe\">\n  <thead>\n    <tr style=\"text-align: right;\">\n      <th>datatype</th>\n      <th>AWND</th>\n      <th>AWND_expanding</th>\n      <th>PRCP</th>\n      <th>PRCP_expanding</th>\n      <th>TMAX</th>\n      <th>TMAX_expanding</th>\n      <th>TMIN</th>\n      <th>TMIN_expanding</th>\n    </tr>\n    <tr>\n      <th>date</th>\n      <th></th>\n      <th></th>\n      <th></th>\n      <th></th>\n      <th></th>\n      <th></th>\n      <th></th>\n      <th></th>\n    </tr>\n  </thead>\n  <tbody>\n    <tr>\n      <th>2018-10-01</th>\n      <td>0.90</td>\n      <td>0.90</td>\n      <td>0.00</td>\n      <td>0.00</td>\n      <td>24.40</td>\n      <td>24.40</td>\n      <td>17.20</td>\n      <td>17.20</td>\n    </tr>\n    <tr>\n      <th>2018-10-02</th>\n      <td>0.90</td>\n      <td>0.90</td>\n      <td>17.50</td>\n      <td>17.50</td>\n      <td>25.00</td>\n      <td>25.00</td>\n      <td>18.30</td>\n      <td>17.20</td>\n    </tr>\n    <tr>\n      <th>2018-10-03</th>\n      <td>1.10</td>\n      <td>0.97</td>\n      <td>0.00</td>\n      <td>17.50</td>\n      <td>23.30</td>\n      <td>25.00</td>\n      <td>17.20</td>\n      <td>17.20</td>\n    </tr>\n    <tr>\n      <th>2018-10-04</th>\n      <td>0.40</td>\n      <td>0.83</td>\n      <td>1.00</td>\n      <td>18.50</td>\n      <td>24.40</td>\n      <td>25.00</td>\n      <td>16.10</td>\n      <td>16.10</td>\n    </tr>\n    <tr>\n      <th>2018-10-05</th>\n      <td>1.60</td>\n      <td>0.98</td>\n      <td>0.00</td>\n      <td>18.50</td>\n      <td>21.70</td>\n      <td>25.00</td>\n      <td>15.60</td>\n      <td>15.60</td>\n    </tr>\n    <tr>\n      <th>2018-10-06</th>\n      <td>0.50</td>\n      <td>0.90</td>\n      <td>0.00</td>\n      <td>18.50</td>\n      <td>20.00</td>\n      <td>25.00</td>\n      <td>17.20</td>\n      <td>15.60</td>\n    </tr>\n    <tr>\n      <th>2018-10-07</th>\n      <td>1.10</td>\n      <td>0.93</td>\n      <td>0.00</td>\n      <td>18.50</td>\n      <td>26.10</td>\n      <td>26.10</td>\n      <td>19.40</td>\n      <td>15.60</td>\n    </tr>\n  </tbody>\n</table>\n</div>"
     },
     "execution_count": 211,
     "metadata": {},
     "output_type": "execute_result"
    }
   ],
   "source": [
    "# Use `.expanding()` to see the output a function on all data to that point.\n",
    "central_park_weather['2018-10-01':'2018-10-07'].expanding().agg({\n",
    "    'TMAX': np.max,\n",
    "    'TMIN': np.min,\n",
    "    'AWND': np.mean,\n",
    "    'PRCP': np.sum\n",
    "}).join(\n",
    "    central_park_weather[['TMAX', 'TMIN', 'AWND', 'PRCP']],\n",
    "    lsuffix='_expanding'\n",
    ").sort_index(axis=1)"
   ],
   "metadata": {
    "collapsed": false
   }
  },
  {
   "cell_type": "code",
   "execution_count": 212,
   "outputs": [
    {
     "data": {
      "text/plain": "            close  close_ewma\ndate                         \n2018-12-17 140.19      142.24\n2018-12-18 143.66      142.71\n2018-12-19 133.24      139.55\n2018-12-20 133.40      137.50\n2018-12-21 124.95      133.32\n2018-12-24 124.06      130.23\n2018-12-26 134.18      131.55\n2018-12-27 134.52      132.54\n2018-12-28 133.20      132.76\n2018-12-31 131.09      132.20",
      "text/html": "<div>\n<style scoped>\n    .dataframe tbody tr th:only-of-type {\n        vertical-align: middle;\n    }\n\n    .dataframe tbody tr th {\n        vertical-align: top;\n    }\n\n    .dataframe thead th {\n        text-align: right;\n    }\n</style>\n<table border=\"1\" class=\"dataframe\">\n  <thead>\n    <tr style=\"text-align: right;\">\n      <th></th>\n      <th>close</th>\n      <th>close_ewma</th>\n    </tr>\n    <tr>\n      <th>date</th>\n      <th></th>\n      <th></th>\n    </tr>\n  </thead>\n  <tbody>\n    <tr>\n      <th>2018-12-17</th>\n      <td>140.19</td>\n      <td>142.24</td>\n    </tr>\n    <tr>\n      <th>2018-12-18</th>\n      <td>143.66</td>\n      <td>142.71</td>\n    </tr>\n    <tr>\n      <th>2018-12-19</th>\n      <td>133.24</td>\n      <td>139.55</td>\n    </tr>\n    <tr>\n      <th>2018-12-20</th>\n      <td>133.40</td>\n      <td>137.50</td>\n    </tr>\n    <tr>\n      <th>2018-12-21</th>\n      <td>124.95</td>\n      <td>133.32</td>\n    </tr>\n    <tr>\n      <th>2018-12-24</th>\n      <td>124.06</td>\n      <td>130.23</td>\n    </tr>\n    <tr>\n      <th>2018-12-26</th>\n      <td>134.18</td>\n      <td>131.55</td>\n    </tr>\n    <tr>\n      <th>2018-12-27</th>\n      <td>134.52</td>\n      <td>132.54</td>\n    </tr>\n    <tr>\n      <th>2018-12-28</th>\n      <td>133.20</td>\n      <td>132.76</td>\n    </tr>\n    <tr>\n      <th>2018-12-31</th>\n      <td>131.09</td>\n      <td>132.20</td>\n    </tr>\n  </tbody>\n</table>\n</div>"
     },
     "execution_count": 212,
     "metadata": {},
     "output_type": "execute_result"
    }
   ],
   "source": [
    "# Use `.ewma()` for exponentially-weighted moving averages\n",
    "fb.assign(close_ewma=lambda x: x.close.ewm(span=5).mean()).tail(10)[['close', 'close_ewma']]"
   ],
   "metadata": {
    "collapsed": false
   }
  },
  {
   "cell_type": "markdown",
   "source": [
    "### Pipes\n",
    "> So depending on your point of view: “piping is poor-persons’s method chaining” or “method chaining is poor-persons’s piping”\n",
    "\n",
    "Pipes are *like* method chaining, except that it allows you to use functions. Or, put another way, it allows you to use functions within a method chain. This would be really helpful for user-defined functions, particularly for aggregation. For example, `.pipe(print)` is somewhat equivalent to running `.head()` and `.tail()` simultaneously, but you can't simply add `.print()` to a method chain. (I frequently run `.head()` to check output, so `.pipe(print)` would be an extremely economical solution for me.) It seems like it offers the ability to extend the technique of method chaining to *any* function. This is a lot more powerful than I thought, and I ought to look into which common functions would be extremely helpful as I work with data. [This page](https://win-vector.com/2019/04/14/piping-is-method-chaining/) has a great explanation of piping and how it works in Python."
   ],
   "metadata": {
    "collapsed": false
   }
  },
  {
   "cell_type": "markdown",
   "source": [
    "## Aggregations with `numpy` and `pandas`\n",
    "Summarize dataframes using functions, `.groupby()`, and pivot tables to aggregate.\n",
    "\n",
    "### Summarizing DataFrames"
   ],
   "metadata": {
    "collapsed": false
   }
  },
  {
   "cell_type": "code",
   "execution_count": 213,
   "outputs": [],
   "source": [
    "weather = pd.read_csv('book_code/ch_04/data/weather_by_station.csv', index_col='date', parse_dates=True)\n",
    "fb = pd.read_csv('book_code/ch_04/data/fb_2018.csv', index_col='date', parse_dates=True).assign(trading_volume=lambda x: pd.cut(x.volume, bins=3, labels=['low', 'medium', 'high']))"
   ],
   "metadata": {
    "collapsed": false
   }
  },
  {
   "cell_type": "code",
   "execution_count": 214,
   "outputs": [],
   "source": [
    "pd.set_option('display.float_format', lambda x: '%.2f' % x)"
   ],
   "metadata": {
    "collapsed": false
   }
  },
  {
   "cell_type": "code",
   "execution_count": 215,
   "outputs": [
    {
     "data": {
      "text/plain": "open            171.45\nhigh            218.62\nlow             123.02\nclose           171.51\nvolume   6949682394.00\ndtype: float64"
     },
     "execution_count": 215,
     "metadata": {},
     "output_type": "execute_result"
    }
   ],
   "source": [
    "fb.agg({'open': np.mean, 'high': np.max, 'low': np.min, 'close': np.mean, 'volume': np.sum})"
   ],
   "metadata": {
    "collapsed": false
   }
  },
  {
   "cell_type": "code",
   "execution_count": 216,
   "outputs": [
    {
     "data": {
      "text/plain": "datatype\nSNOW   1007.00\nPRCP   1665.30\ndtype: float64"
     },
     "execution_count": 216,
     "metadata": {},
     "output_type": "execute_result"
    }
   ],
   "source": [
    "weather.query('station == \"GHCND:USW00094728\"').pivot(columns='datatype', values='value')[['SNOW', 'PRCP']].sum()"
   ],
   "metadata": {
    "collapsed": false
   }
  },
  {
   "cell_type": "code",
   "execution_count": 217,
   "outputs": [
    {
     "data": {
      "text/plain": "       open   high    low  close\nmean 171.45    NaN    NaN 171.51\nmin     NaN 129.74 123.02    NaN\nmax     NaN 218.62 214.27    NaN",
      "text/html": "<div>\n<style scoped>\n    .dataframe tbody tr th:only-of-type {\n        vertical-align: middle;\n    }\n\n    .dataframe tbody tr th {\n        vertical-align: top;\n    }\n\n    .dataframe thead th {\n        text-align: right;\n    }\n</style>\n<table border=\"1\" class=\"dataframe\">\n  <thead>\n    <tr style=\"text-align: right;\">\n      <th></th>\n      <th>open</th>\n      <th>high</th>\n      <th>low</th>\n      <th>close</th>\n    </tr>\n  </thead>\n  <tbody>\n    <tr>\n      <th>mean</th>\n      <td>171.45</td>\n      <td>NaN</td>\n      <td>NaN</td>\n      <td>171.51</td>\n    </tr>\n    <tr>\n      <th>min</th>\n      <td>NaN</td>\n      <td>129.74</td>\n      <td>123.02</td>\n      <td>NaN</td>\n    </tr>\n    <tr>\n      <th>max</th>\n      <td>NaN</td>\n      <td>218.62</td>\n      <td>214.27</td>\n      <td>NaN</td>\n    </tr>\n  </tbody>\n</table>\n</div>"
     },
     "execution_count": 217,
     "metadata": {},
     "output_type": "execute_result"
    }
   ],
   "source": [
    "# We can run multiple aggregations on individual columns\n",
    "fb.agg({'open': 'mean', 'high': ['min', 'max'], 'low': ['min', 'max'], 'close': 'mean'})"
   ],
   "metadata": {
    "collapsed": false
   }
  },
  {
   "cell_type": "markdown",
   "source": [
    "### Using `.groupby()`"
   ],
   "metadata": {
    "collapsed": false
   }
  },
  {
   "cell_type": "code",
   "execution_count": 218,
   "outputs": [
    {
     "data": {
      "text/plain": "                 open   high    low  close       volume\ntrading_volume                                         \nlow            171.36 173.46 169.31 171.43  24547207.71\nmedium         175.82 179.42 172.11 175.14  79072559.12\nhigh           167.73 170.48 161.57 168.16 141924023.33",
      "text/html": "<div>\n<style scoped>\n    .dataframe tbody tr th:only-of-type {\n        vertical-align: middle;\n    }\n\n    .dataframe tbody tr th {\n        vertical-align: top;\n    }\n\n    .dataframe thead th {\n        text-align: right;\n    }\n</style>\n<table border=\"1\" class=\"dataframe\">\n  <thead>\n    <tr style=\"text-align: right;\">\n      <th></th>\n      <th>open</th>\n      <th>high</th>\n      <th>low</th>\n      <th>close</th>\n      <th>volume</th>\n    </tr>\n    <tr>\n      <th>trading_volume</th>\n      <th></th>\n      <th></th>\n      <th></th>\n      <th></th>\n      <th></th>\n    </tr>\n  </thead>\n  <tbody>\n    <tr>\n      <th>low</th>\n      <td>171.36</td>\n      <td>173.46</td>\n      <td>169.31</td>\n      <td>171.43</td>\n      <td>24547207.71</td>\n    </tr>\n    <tr>\n      <th>medium</th>\n      <td>175.82</td>\n      <td>179.42</td>\n      <td>172.11</td>\n      <td>175.14</td>\n      <td>79072559.12</td>\n    </tr>\n    <tr>\n      <th>high</th>\n      <td>167.73</td>\n      <td>170.48</td>\n      <td>161.57</td>\n      <td>168.16</td>\n      <td>141924023.33</td>\n    </tr>\n  </tbody>\n</table>\n</div>"
     },
     "execution_count": 218,
     "metadata": {},
     "output_type": "execute_result"
    }
   ],
   "source": [
    "# Group by column\n",
    "fb.groupby('trading_volume').mean()"
   ],
   "metadata": {
    "collapsed": false
   }
  },
  {
   "cell_type": "code",
   "execution_count": 219,
   "outputs": [
    {
     "data": {
      "text/plain": "                  min    max   mean\ntrading_volume                     \nlow            124.06 214.67 171.43\nmedium         152.22 217.50 175.14\nhigh           160.06 176.26 168.16",
      "text/html": "<div>\n<style scoped>\n    .dataframe tbody tr th:only-of-type {\n        vertical-align: middle;\n    }\n\n    .dataframe tbody tr th {\n        vertical-align: top;\n    }\n\n    .dataframe thead th {\n        text-align: right;\n    }\n</style>\n<table border=\"1\" class=\"dataframe\">\n  <thead>\n    <tr style=\"text-align: right;\">\n      <th></th>\n      <th>min</th>\n      <th>max</th>\n      <th>mean</th>\n    </tr>\n    <tr>\n      <th>trading_volume</th>\n      <th></th>\n      <th></th>\n      <th></th>\n    </tr>\n  </thead>\n  <tbody>\n    <tr>\n      <th>low</th>\n      <td>124.06</td>\n      <td>214.67</td>\n      <td>171.43</td>\n    </tr>\n    <tr>\n      <th>medium</th>\n      <td>152.22</td>\n      <td>217.50</td>\n      <td>175.14</td>\n    </tr>\n    <tr>\n      <th>high</th>\n      <td>160.06</td>\n      <td>176.26</td>\n      <td>168.16</td>\n    </tr>\n  </tbody>\n</table>\n</div>"
     },
     "execution_count": 219,
     "metadata": {},
     "output_type": "execute_result"
    }
   ],
   "source": [
    "# Aggregate specific columns using `.groupby()`. Here is the min, max, and mean of the closing price data, grouped by volume.\n",
    "fb.groupby('trading_volume')['close'].agg(['min', 'max', 'mean'])"
   ],
   "metadata": {
    "collapsed": false
   }
  },
  {
   "cell_type": "code",
   "execution_count": 220,
   "outputs": [
    {
     "data": {
      "text/plain": "                 open   high           low         close\n                 mean    min    max    min    max   mean\ntrading_volume                                          \nlow            171.36 129.74 216.20 123.02 212.60 171.43\nmedium         175.82 162.85 218.62 150.75 214.27 175.14\nhigh           167.73 161.10 180.13 149.02 173.75 168.16",
      "text/html": "<div>\n<style scoped>\n    .dataframe tbody tr th:only-of-type {\n        vertical-align: middle;\n    }\n\n    .dataframe tbody tr th {\n        vertical-align: top;\n    }\n\n    .dataframe thead tr th {\n        text-align: left;\n    }\n\n    .dataframe thead tr:last-of-type th {\n        text-align: right;\n    }\n</style>\n<table border=\"1\" class=\"dataframe\">\n  <thead>\n    <tr>\n      <th></th>\n      <th>open</th>\n      <th colspan=\"2\" halign=\"left\">high</th>\n      <th colspan=\"2\" halign=\"left\">low</th>\n      <th>close</th>\n    </tr>\n    <tr>\n      <th></th>\n      <th>mean</th>\n      <th>min</th>\n      <th>max</th>\n      <th>min</th>\n      <th>max</th>\n      <th>mean</th>\n    </tr>\n    <tr>\n      <th>trading_volume</th>\n      <th></th>\n      <th></th>\n      <th></th>\n      <th></th>\n      <th></th>\n      <th></th>\n    </tr>\n  </thead>\n  <tbody>\n    <tr>\n      <th>low</th>\n      <td>171.36</td>\n      <td>129.74</td>\n      <td>216.20</td>\n      <td>123.02</td>\n      <td>212.60</td>\n      <td>171.43</td>\n    </tr>\n    <tr>\n      <th>medium</th>\n      <td>175.82</td>\n      <td>162.85</td>\n      <td>218.62</td>\n      <td>150.75</td>\n      <td>214.27</td>\n      <td>175.14</td>\n    </tr>\n    <tr>\n      <th>high</th>\n      <td>167.73</td>\n      <td>161.10</td>\n      <td>180.13</td>\n      <td>149.02</td>\n      <td>173.75</td>\n      <td>168.16</td>\n    </tr>\n  </tbody>\n</table>\n</div>"
     },
     "execution_count": 220,
     "metadata": {},
     "output_type": "execute_result"
    }
   ],
   "source": [
    "# More fine-grained control over column-level aggregation options\n",
    "fb_agg = fb.groupby('trading_volume').agg({\n",
    "    'open': 'mean',\n",
    "    'high': ['min', 'max'],\n",
    "    'low': ['min', 'max'],\n",
    "    'close': 'mean'\n",
    "})\n",
    "fb_agg"
   ],
   "metadata": {
    "collapsed": false
   }
  },
  {
   "cell_type": "code",
   "execution_count": 221,
   "outputs": [
    {
     "data": {
      "text/plain": "MultiIndex([( 'open', 'mean'),\n            ( 'high',  'min'),\n            ( 'high',  'max'),\n            (  'low',  'min'),\n            (  'low',  'max'),\n            ('close', 'mean')],\n           )"
     },
     "execution_count": 221,
     "metadata": {},
     "output_type": "execute_result"
    }
   ],
   "source": [
    "fb_agg.columns"
   ],
   "metadata": {
    "collapsed": false
   }
  },
  {
   "cell_type": "code",
   "execution_count": 222,
   "outputs": [
    {
     "data": {
      "text/plain": "                open_mean  high_min  high_max  low_min  low_max  close_mean\ntrading_volume                                                             \nlow                171.36    129.74    216.20   123.02   212.60      171.43\nmedium             175.82    162.85    218.62   150.75   214.27      175.14\nhigh               167.73    161.10    180.13   149.02   173.75      168.16",
      "text/html": "<div>\n<style scoped>\n    .dataframe tbody tr th:only-of-type {\n        vertical-align: middle;\n    }\n\n    .dataframe tbody tr th {\n        vertical-align: top;\n    }\n\n    .dataframe thead th {\n        text-align: right;\n    }\n</style>\n<table border=\"1\" class=\"dataframe\">\n  <thead>\n    <tr style=\"text-align: right;\">\n      <th></th>\n      <th>open_mean</th>\n      <th>high_min</th>\n      <th>high_max</th>\n      <th>low_min</th>\n      <th>low_max</th>\n      <th>close_mean</th>\n    </tr>\n    <tr>\n      <th>trading_volume</th>\n      <th></th>\n      <th></th>\n      <th></th>\n      <th></th>\n      <th></th>\n      <th></th>\n    </tr>\n  </thead>\n  <tbody>\n    <tr>\n      <th>low</th>\n      <td>171.36</td>\n      <td>129.74</td>\n      <td>216.20</td>\n      <td>123.02</td>\n      <td>212.60</td>\n      <td>171.43</td>\n    </tr>\n    <tr>\n      <th>medium</th>\n      <td>175.82</td>\n      <td>162.85</td>\n      <td>218.62</td>\n      <td>150.75</td>\n      <td>214.27</td>\n      <td>175.14</td>\n    </tr>\n    <tr>\n      <th>high</th>\n      <td>167.73</td>\n      <td>161.10</td>\n      <td>180.13</td>\n      <td>149.02</td>\n      <td>173.75</td>\n      <td>168.16</td>\n    </tr>\n  </tbody>\n</table>\n</div>"
     },
     "execution_count": 222,
     "metadata": {},
     "output_type": "execute_result"
    }
   ],
   "source": [
    "# Since the columns are a list of tuples, you can use the `.join()` string method to join them as new columns.\n",
    "fb_agg.columns = ['_'.join(col_agg) for col_agg in fb_agg.columns]\n",
    "fb_agg.head()"
   ],
   "metadata": {
    "collapsed": false
   }
  },
  {
   "cell_type": "code",
   "execution_count": 223,
   "outputs": [
    {
     "data": {
      "text/plain": "            value\ndate             \n2018-10-01   0.01\n2018-10-02   2.23\n2018-10-03  19.69\n2018-10-04   0.32\n2018-10-05   0.97",
      "text/html": "<div>\n<style scoped>\n    .dataframe tbody tr th:only-of-type {\n        vertical-align: middle;\n    }\n\n    .dataframe tbody tr th {\n        vertical-align: top;\n    }\n\n    .dataframe thead th {\n        text-align: right;\n    }\n</style>\n<table border=\"1\" class=\"dataframe\">\n  <thead>\n    <tr style=\"text-align: right;\">\n      <th></th>\n      <th>value</th>\n    </tr>\n    <tr>\n      <th>date</th>\n      <th></th>\n    </tr>\n  </thead>\n  <tbody>\n    <tr>\n      <th>2018-10-01</th>\n      <td>0.01</td>\n    </tr>\n    <tr>\n      <th>2018-10-02</th>\n      <td>2.23</td>\n    </tr>\n    <tr>\n      <th>2018-10-03</th>\n      <td>19.69</td>\n    </tr>\n    <tr>\n      <th>2018-10-04</th>\n      <td>0.32</td>\n    </tr>\n    <tr>\n      <th>2018-10-05</th>\n      <td>0.97</td>\n    </tr>\n  </tbody>\n</table>\n</div>"
     },
     "execution_count": 223,
     "metadata": {},
     "output_type": "execute_result"
    }
   ],
   "source": [
    "# Use a `Grouper` object. In this case, the observation dates are in the index of the df. Given the option of resampling, resetting the index and using the resulting new column, or using a Grouper object, the latter is the easiest.\n",
    "weather.loc['2018-10'].query('datatype == \"PRCP\"').groupby(pd.Grouper(freq='D')).mean().head()"
   ],
   "metadata": {
    "collapsed": false
   }
  },
  {
   "cell_type": "code",
   "execution_count": 224,
   "outputs": [
    {
     "data": {
      "text/plain": "                                 value                                 \ndate                        2018-03-31 2018-06-30 2018-09-30 2018-12-31\nstation_name                                                           \nWANTAGH 1.1 NNE, NY US          279.90     216.80     472.50     277.20\nSTATEN ISLAND 1.4 SE, NY US     379.40     295.30     438.80     409.90\nSYOSSET 2.0 SSW, NY US          323.50     263.30     355.50     459.90\nSTAMFORD 4.2 S, CT US           338.00     272.10     424.70     390.00\nWAYNE TWP 0.8 SSW, NJ US        246.20     295.30     620.90     422.00",
      "text/html": "<div>\n<style scoped>\n    .dataframe tbody tr th:only-of-type {\n        vertical-align: middle;\n    }\n\n    .dataframe tbody tr th {\n        vertical-align: top;\n    }\n\n    .dataframe thead tr th {\n        text-align: left;\n    }\n\n    .dataframe thead tr:last-of-type th {\n        text-align: right;\n    }\n</style>\n<table border=\"1\" class=\"dataframe\">\n  <thead>\n    <tr>\n      <th></th>\n      <th colspan=\"4\" halign=\"left\">value</th>\n    </tr>\n    <tr>\n      <th>date</th>\n      <th>2018-03-31</th>\n      <th>2018-06-30</th>\n      <th>2018-09-30</th>\n      <th>2018-12-31</th>\n    </tr>\n    <tr>\n      <th>station_name</th>\n      <th></th>\n      <th></th>\n      <th></th>\n      <th></th>\n    </tr>\n  </thead>\n  <tbody>\n    <tr>\n      <th>WANTAGH 1.1 NNE, NY US</th>\n      <td>279.90</td>\n      <td>216.80</td>\n      <td>472.50</td>\n      <td>277.20</td>\n    </tr>\n    <tr>\n      <th>STATEN ISLAND 1.4 SE, NY US</th>\n      <td>379.40</td>\n      <td>295.30</td>\n      <td>438.80</td>\n      <td>409.90</td>\n    </tr>\n    <tr>\n      <th>SYOSSET 2.0 SSW, NY US</th>\n      <td>323.50</td>\n      <td>263.30</td>\n      <td>355.50</td>\n      <td>459.90</td>\n    </tr>\n    <tr>\n      <th>STAMFORD 4.2 S, CT US</th>\n      <td>338.00</td>\n      <td>272.10</td>\n      <td>424.70</td>\n      <td>390.00</td>\n    </tr>\n    <tr>\n      <th>WAYNE TWP 0.8 SSW, NJ US</th>\n      <td>246.20</td>\n      <td>295.30</td>\n      <td>620.90</td>\n      <td>422.00</td>\n    </tr>\n  </tbody>\n</table>\n</div>"
     },
     "execution_count": 224,
     "metadata": {},
     "output_type": "execute_result"
    }
   ],
   "source": [
    "# Group by many categories at once. Use `unstack()` to put the inner-level (quarter) on the columns since this will create a multi-level index.\n",
    "weather.query('datatype == \"PRCP\"').groupby(['station_name', pd.Grouper(freq='Q')]).sum().unstack().sample(5, random_state=1)"
   ],
   "metadata": {
    "collapsed": false
   }
  },
  {
   "cell_type": "code",
   "execution_count": 225,
   "outputs": [
    {
     "data": {
      "text/plain": "                                                 value\nstation_name                         date             \nLONG BRANCH 0.5 W, NJ US             2018-12-31 541.70\nWANTAGH 0.3 ESE, NY US               2018-09-30 554.50\nNORTH ARLINGTON 0.7 WNW, NJ US       2018-06-30 321.90\nPARSIPPANY TROY HILLS TWP 1.3, NJ US 2018-03-31 383.60\nPLAINVIEW 0.4 ENE, NY US             2018-06-30 303.40",
      "text/html": "<div>\n<style scoped>\n    .dataframe tbody tr th:only-of-type {\n        vertical-align: middle;\n    }\n\n    .dataframe tbody tr th {\n        vertical-align: top;\n    }\n\n    .dataframe thead th {\n        text-align: right;\n    }\n</style>\n<table border=\"1\" class=\"dataframe\">\n  <thead>\n    <tr style=\"text-align: right;\">\n      <th></th>\n      <th></th>\n      <th>value</th>\n    </tr>\n    <tr>\n      <th>station_name</th>\n      <th>date</th>\n      <th></th>\n    </tr>\n  </thead>\n  <tbody>\n    <tr>\n      <th>LONG BRANCH 0.5 W, NJ US</th>\n      <th>2018-12-31</th>\n      <td>541.70</td>\n    </tr>\n    <tr>\n      <th>WANTAGH 0.3 ESE, NY US</th>\n      <th>2018-09-30</th>\n      <td>554.50</td>\n    </tr>\n    <tr>\n      <th>NORTH ARLINGTON 0.7 WNW, NJ US</th>\n      <th>2018-06-30</th>\n      <td>321.90</td>\n    </tr>\n    <tr>\n      <th>PARSIPPANY TROY HILLS TWP 1.3, NJ US</th>\n      <th>2018-03-31</th>\n      <td>383.60</td>\n    </tr>\n    <tr>\n      <th>PLAINVIEW 0.4 ENE, NY US</th>\n      <th>2018-06-30</th>\n      <td>303.40</td>\n    </tr>\n  </tbody>\n</table>\n</div>"
     },
     "execution_count": 225,
     "metadata": {},
     "output_type": "execute_result"
    }
   ],
   "source": [
    "# Group by many categories at once. Use `unstack()` to put the inner-level (quarter) on the columns.\n",
    "weather.query('datatype == \"PRCP\"').groupby(['station_name', pd.Grouper(freq='Q')]).sum().sample(5, random_state=1)"
   ],
   "metadata": {
    "collapsed": false
   }
  },
  {
   "cell_type": "code",
   "execution_count": 226,
   "outputs": [
    {
     "data": {
      "text/plain": "date\n2018-11-30   210.59\n2018-09-30   193.09\n2018-08-31   192.45\n2018-07-31   160.98\n2018-02-28   158.11\nName: value, dtype: float64"
     },
     "execution_count": 226,
     "metadata": {},
     "output_type": "execute_result"
    }
   ],
   "source": [
    "# Find which months have the greatest amount of precipitation. Group by day, then by month; sum, and take `.nlargest()`.\n",
    "weather.query('datatype == \"PRCP\"').groupby(pd.Grouper(freq='D')).mean().groupby(pd.Grouper(freq='M')).sum().value.nlargest()"
   ],
   "metadata": {
    "collapsed": false
   }
  },
  {
   "cell_type": "code",
   "execution_count": 227,
   "outputs": [
    {
     "data": {
      "text/plain": "             prcp\ndate             \n2018-01-28  69.31\n2018-01-29  69.31\n2018-01-30  69.31\n2018-01-31  69.31\n2018-02-01 158.11\n2018-02-02 158.11\n2018-02-03 158.11",
      "text/html": "<div>\n<style scoped>\n    .dataframe tbody tr th:only-of-type {\n        vertical-align: middle;\n    }\n\n    .dataframe tbody tr th {\n        vertical-align: top;\n    }\n\n    .dataframe thead th {\n        text-align: right;\n    }\n</style>\n<table border=\"1\" class=\"dataframe\">\n  <thead>\n    <tr style=\"text-align: right;\">\n      <th></th>\n      <th>prcp</th>\n    </tr>\n    <tr>\n      <th>date</th>\n      <th></th>\n    </tr>\n  </thead>\n  <tbody>\n    <tr>\n      <th>2018-01-28</th>\n      <td>69.31</td>\n    </tr>\n    <tr>\n      <th>2018-01-29</th>\n      <td>69.31</td>\n    </tr>\n    <tr>\n      <th>2018-01-30</th>\n      <td>69.31</td>\n    </tr>\n    <tr>\n      <th>2018-01-31</th>\n      <td>69.31</td>\n    </tr>\n    <tr>\n      <th>2018-02-01</th>\n      <td>158.11</td>\n    </tr>\n    <tr>\n      <th>2018-02-02</th>\n      <td>158.11</td>\n    </tr>\n    <tr>\n      <th>2018-02-03</th>\n      <td>158.11</td>\n    </tr>\n  </tbody>\n</table>\n</div>"
     },
     "execution_count": 227,
     "metadata": {},
     "output_type": "execute_result"
    }
   ],
   "source": [
    "weather.query('datatype == \"PRCP\"').rename(dict(value='prcp'), axis=1).groupby(pd.Grouper(freq='D')).mean().groupby(pd.Grouper(freq='M')).transform(np.sum)['2018-01-28':'2018-02-03']"
   ],
   "metadata": {
    "collapsed": false
   }
  },
  {
   "cell_type": "code",
   "execution_count": 228,
   "outputs": [
    {
     "data": {
      "text/plain": "            prcp  total_prcp_in_month  pct_monthly_prcp\ndate                                                   \n2018-10-12 34.77               105.63              0.33\n2018-01-13 21.66                69.31              0.31\n2018-03-02 38.77               137.46              0.28\n2018-04-16 39.34               140.57              0.28\n2018-04-17 37.30               140.57              0.27",
      "text/html": "<div>\n<style scoped>\n    .dataframe tbody tr th:only-of-type {\n        vertical-align: middle;\n    }\n\n    .dataframe tbody tr th {\n        vertical-align: top;\n    }\n\n    .dataframe thead th {\n        text-align: right;\n    }\n</style>\n<table border=\"1\" class=\"dataframe\">\n  <thead>\n    <tr style=\"text-align: right;\">\n      <th></th>\n      <th>prcp</th>\n      <th>total_prcp_in_month</th>\n      <th>pct_monthly_prcp</th>\n    </tr>\n    <tr>\n      <th>date</th>\n      <th></th>\n      <th></th>\n      <th></th>\n    </tr>\n  </thead>\n  <tbody>\n    <tr>\n      <th>2018-10-12</th>\n      <td>34.77</td>\n      <td>105.63</td>\n      <td>0.33</td>\n    </tr>\n    <tr>\n      <th>2018-01-13</th>\n      <td>21.66</td>\n      <td>69.31</td>\n      <td>0.31</td>\n    </tr>\n    <tr>\n      <th>2018-03-02</th>\n      <td>38.77</td>\n      <td>137.46</td>\n      <td>0.28</td>\n    </tr>\n    <tr>\n      <th>2018-04-16</th>\n      <td>39.34</td>\n      <td>140.57</td>\n      <td>0.28</td>\n    </tr>\n    <tr>\n      <th>2018-04-17</th>\n      <td>37.30</td>\n      <td>140.57</td>\n      <td>0.27</td>\n    </tr>\n  </tbody>\n</table>\n</div>"
     },
     "execution_count": 228,
     "metadata": {},
     "output_type": "execute_result"
    }
   ],
   "source": [
    "weather.query('datatype==\"PRCP\"')\\\n",
    "    .rename(dict(value='prcp'), axis=1)\\\n",
    "    .groupby(pd.Grouper(freq='D')).mean()\\\n",
    "    .assign(\n",
    "    total_prcp_in_month=lambda x: x.groupby(\n",
    "        pd.Grouper(freq='M')\n",
    "    ).transform(np.sum),\n",
    "    pct_monthly_prcp=lambda x: x.prcp.div(\n",
    "        x.total_prcp_in_month\n",
    "    )\n",
    ").nlargest(5, 'pct_monthly_prcp')"
   ],
   "metadata": {
    "collapsed": false
   }
  },
  {
   "cell_type": "markdown",
   "source": [
    "### Pivot tables and crosstabs"
   ],
   "metadata": {
    "collapsed": false
   }
  },
  {
   "cell_type": "code",
   "execution_count": 229,
   "outputs": [
    {
     "data": {
      "text/plain": "trading_volume         low      medium         high\nclose               171.43      175.14       168.16\nhigh                173.46      179.42       170.48\nlow                 169.31      172.11       161.57\nopen                171.36      175.82       167.73\nvolume         24547207.71 79072559.12 141924023.33",
      "text/html": "<div>\n<style scoped>\n    .dataframe tbody tr th:only-of-type {\n        vertical-align: middle;\n    }\n\n    .dataframe tbody tr th {\n        vertical-align: top;\n    }\n\n    .dataframe thead th {\n        text-align: right;\n    }\n</style>\n<table border=\"1\" class=\"dataframe\">\n  <thead>\n    <tr style=\"text-align: right;\">\n      <th>trading_volume</th>\n      <th>low</th>\n      <th>medium</th>\n      <th>high</th>\n    </tr>\n  </thead>\n  <tbody>\n    <tr>\n      <th>close</th>\n      <td>171.43</td>\n      <td>175.14</td>\n      <td>168.16</td>\n    </tr>\n    <tr>\n      <th>high</th>\n      <td>173.46</td>\n      <td>179.42</td>\n      <td>170.48</td>\n    </tr>\n    <tr>\n      <th>low</th>\n      <td>169.31</td>\n      <td>172.11</td>\n      <td>161.57</td>\n    </tr>\n    <tr>\n      <th>open</th>\n      <td>171.36</td>\n      <td>175.82</td>\n      <td>167.73</td>\n    </tr>\n    <tr>\n      <th>volume</th>\n      <td>24547207.71</td>\n      <td>79072559.12</td>\n      <td>141924023.33</td>\n    </tr>\n  </tbody>\n</table>\n</div>"
     },
     "execution_count": 229,
     "metadata": {},
     "output_type": "execute_result"
    }
   ],
   "source": [
    "# Default aggregation for pivot tables is the average.\n",
    "fb.pivot_table(columns='trading_volume')"
   ],
   "metadata": {
    "collapsed": false
   }
  },
  {
   "cell_type": "code",
   "execution_count": 230,
   "outputs": [
    {
     "data": {
      "text/plain": "                close   high    low   open       volume\ntrading_volume                                         \nlow            171.43 173.46 169.31 171.36  24547207.71\nmedium         175.14 179.42 172.11 175.82  79072559.12\nhigh           168.16 170.48 161.57 167.73 141924023.33",
      "text/html": "<div>\n<style scoped>\n    .dataframe tbody tr th:only-of-type {\n        vertical-align: middle;\n    }\n\n    .dataframe tbody tr th {\n        vertical-align: top;\n    }\n\n    .dataframe thead th {\n        text-align: right;\n    }\n</style>\n<table border=\"1\" class=\"dataframe\">\n  <thead>\n    <tr style=\"text-align: right;\">\n      <th></th>\n      <th>close</th>\n      <th>high</th>\n      <th>low</th>\n      <th>open</th>\n      <th>volume</th>\n    </tr>\n    <tr>\n      <th>trading_volume</th>\n      <th></th>\n      <th></th>\n      <th></th>\n      <th></th>\n      <th></th>\n    </tr>\n  </thead>\n  <tbody>\n    <tr>\n      <th>low</th>\n      <td>171.43</td>\n      <td>173.46</td>\n      <td>169.31</td>\n      <td>171.36</td>\n      <td>24547207.71</td>\n    </tr>\n    <tr>\n      <th>medium</th>\n      <td>175.14</td>\n      <td>179.42</td>\n      <td>172.11</td>\n      <td>175.82</td>\n      <td>79072559.12</td>\n    </tr>\n    <tr>\n      <th>high</th>\n      <td>168.16</td>\n      <td>170.48</td>\n      <td>161.57</td>\n      <td>167.73</td>\n      <td>141924023.33</td>\n    </tr>\n  </tbody>\n</table>\n</div>"
     },
     "execution_count": 230,
     "metadata": {},
     "output_type": "execute_result"
    }
   ],
   "source": [
    "# Passing `trading_volume` as the index gives the same result as using `.groupby()`. You don't need to pass a column name: any Series object that is the same length\n",
    "# as the df will do.\n",
    "fb.pivot_table(index='trading_volume')"
   ],
   "metadata": {
    "collapsed": false
   }
  },
  {
   "cell_type": "code",
   "execution_count": 231,
   "outputs": [
    {
     "data": {
      "text/plain": "datatype       date            station                         station_name  \\\n28740    2018-12-31  GHCND:USW00054787  FARMINGDALE REPUBLIC AIRPORT, NY US   \n28741    2018-12-31  GHCND:USW00094728          NY CITY CENTRAL PARK, NY US   \n28742    2018-12-31  GHCND:USW00094741             TETERBORO AIRPORT, NJ US   \n28743    2018-12-31  GHCND:USW00094745        WESTCHESTER CO AIRPORT, NY US   \n28744    2018-12-31  GHCND:USW00094789     JFK INTERNATIONAL AIRPORT, NY US   \n\ndatatype  AWND  DAPR  MDPR    PGTM  PRCP  SNOW  SNWD  ...  WSF5  WT01  WT02  \\\n28740     5.00   NaN   NaN 2052.00 28.70   NaN   NaN  ... 15.70   NaN   NaN   \n28741      NaN   NaN   NaN     NaN 25.90  0.00  0.00  ...   NaN  1.00   NaN   \n28742     1.70   NaN   NaN 1954.00 29.20   NaN   NaN  ...  8.90   NaN   NaN   \n28743     2.70   NaN   NaN 2212.00 24.40   NaN   NaN  ... 11.20   NaN   NaN   \n28744     4.10   NaN   NaN     NaN 31.20  0.00  0.00  ... 12.50  1.00  1.00   \n\ndatatype  WT03  WT04  WT05  WT06  WT08  WT09  WT11  \n28740      NaN   NaN   NaN   NaN   NaN   NaN   NaN  \n28741      NaN   NaN   NaN   NaN   NaN   NaN   NaN  \n28742      NaN   NaN   NaN   NaN   NaN   NaN   NaN  \n28743      NaN   NaN   NaN   NaN   NaN   NaN   NaN  \n28744      NaN   NaN   NaN   NaN   NaN   NaN   NaN  \n\n[5 rows x 30 columns]",
      "text/html": "<div>\n<style scoped>\n    .dataframe tbody tr th:only-of-type {\n        vertical-align: middle;\n    }\n\n    .dataframe tbody tr th {\n        vertical-align: top;\n    }\n\n    .dataframe thead th {\n        text-align: right;\n    }\n</style>\n<table border=\"1\" class=\"dataframe\">\n  <thead>\n    <tr style=\"text-align: right;\">\n      <th>datatype</th>\n      <th>date</th>\n      <th>station</th>\n      <th>station_name</th>\n      <th>AWND</th>\n      <th>DAPR</th>\n      <th>MDPR</th>\n      <th>PGTM</th>\n      <th>PRCP</th>\n      <th>SNOW</th>\n      <th>SNWD</th>\n      <th>...</th>\n      <th>WSF5</th>\n      <th>WT01</th>\n      <th>WT02</th>\n      <th>WT03</th>\n      <th>WT04</th>\n      <th>WT05</th>\n      <th>WT06</th>\n      <th>WT08</th>\n      <th>WT09</th>\n      <th>WT11</th>\n    </tr>\n  </thead>\n  <tbody>\n    <tr>\n      <th>28740</th>\n      <td>2018-12-31</td>\n      <td>GHCND:USW00054787</td>\n      <td>FARMINGDALE REPUBLIC AIRPORT, NY US</td>\n      <td>5.00</td>\n      <td>NaN</td>\n      <td>NaN</td>\n      <td>2052.00</td>\n      <td>28.70</td>\n      <td>NaN</td>\n      <td>NaN</td>\n      <td>...</td>\n      <td>15.70</td>\n      <td>NaN</td>\n      <td>NaN</td>\n      <td>NaN</td>\n      <td>NaN</td>\n      <td>NaN</td>\n      <td>NaN</td>\n      <td>NaN</td>\n      <td>NaN</td>\n      <td>NaN</td>\n    </tr>\n    <tr>\n      <th>28741</th>\n      <td>2018-12-31</td>\n      <td>GHCND:USW00094728</td>\n      <td>NY CITY CENTRAL PARK, NY US</td>\n      <td>NaN</td>\n      <td>NaN</td>\n      <td>NaN</td>\n      <td>NaN</td>\n      <td>25.90</td>\n      <td>0.00</td>\n      <td>0.00</td>\n      <td>...</td>\n      <td>NaN</td>\n      <td>1.00</td>\n      <td>NaN</td>\n      <td>NaN</td>\n      <td>NaN</td>\n      <td>NaN</td>\n      <td>NaN</td>\n      <td>NaN</td>\n      <td>NaN</td>\n      <td>NaN</td>\n    </tr>\n    <tr>\n      <th>28742</th>\n      <td>2018-12-31</td>\n      <td>GHCND:USW00094741</td>\n      <td>TETERBORO AIRPORT, NJ US</td>\n      <td>1.70</td>\n      <td>NaN</td>\n      <td>NaN</td>\n      <td>1954.00</td>\n      <td>29.20</td>\n      <td>NaN</td>\n      <td>NaN</td>\n      <td>...</td>\n      <td>8.90</td>\n      <td>NaN</td>\n      <td>NaN</td>\n      <td>NaN</td>\n      <td>NaN</td>\n      <td>NaN</td>\n      <td>NaN</td>\n      <td>NaN</td>\n      <td>NaN</td>\n      <td>NaN</td>\n    </tr>\n    <tr>\n      <th>28743</th>\n      <td>2018-12-31</td>\n      <td>GHCND:USW00094745</td>\n      <td>WESTCHESTER CO AIRPORT, NY US</td>\n      <td>2.70</td>\n      <td>NaN</td>\n      <td>NaN</td>\n      <td>2212.00</td>\n      <td>24.40</td>\n      <td>NaN</td>\n      <td>NaN</td>\n      <td>...</td>\n      <td>11.20</td>\n      <td>NaN</td>\n      <td>NaN</td>\n      <td>NaN</td>\n      <td>NaN</td>\n      <td>NaN</td>\n      <td>NaN</td>\n      <td>NaN</td>\n      <td>NaN</td>\n      <td>NaN</td>\n    </tr>\n    <tr>\n      <th>28744</th>\n      <td>2018-12-31</td>\n      <td>GHCND:USW00094789</td>\n      <td>JFK INTERNATIONAL AIRPORT, NY US</td>\n      <td>4.10</td>\n      <td>NaN</td>\n      <td>NaN</td>\n      <td>NaN</td>\n      <td>31.20</td>\n      <td>0.00</td>\n      <td>0.00</td>\n      <td>...</td>\n      <td>12.50</td>\n      <td>1.00</td>\n      <td>1.00</td>\n      <td>NaN</td>\n      <td>NaN</td>\n      <td>NaN</td>\n      <td>NaN</td>\n      <td>NaN</td>\n      <td>NaN</td>\n      <td>NaN</td>\n    </tr>\n  </tbody>\n</table>\n<p>5 rows × 30 columns</p>\n</div>"
     },
     "execution_count": 231,
     "metadata": {},
     "output_type": "execute_result"
    }
   ],
   "source": [
    "weather.reset_index().pivot_table(\n",
    "    index=['date', 'station', 'station_name'],\n",
    "    columns='datatype',\n",
    "    values='value',\n",
    "    aggfunc='median'\n",
    ").reset_index().tail()"
   ],
   "metadata": {
    "collapsed": false
   }
  },
  {
   "cell_type": "code",
   "execution_count": 232,
   "outputs": [
    {
     "data": {
      "text/plain": "month           1   2   3   4   5   6   7   8   9   10  11  12\ntrading_volume                                                \nlow             20  19  15  20  22  21  18  23  19  23  21  19\nmedium           1   0   4   1   0   0   2   0   0   0   0   0\nhigh             0   0   2   0   0   0   1   0   0   0   0   0",
      "text/html": "<div>\n<style scoped>\n    .dataframe tbody tr th:only-of-type {\n        vertical-align: middle;\n    }\n\n    .dataframe tbody tr th {\n        vertical-align: top;\n    }\n\n    .dataframe thead th {\n        text-align: right;\n    }\n</style>\n<table border=\"1\" class=\"dataframe\">\n  <thead>\n    <tr style=\"text-align: right;\">\n      <th>month</th>\n      <th>1</th>\n      <th>2</th>\n      <th>3</th>\n      <th>4</th>\n      <th>5</th>\n      <th>6</th>\n      <th>7</th>\n      <th>8</th>\n      <th>9</th>\n      <th>10</th>\n      <th>11</th>\n      <th>12</th>\n    </tr>\n    <tr>\n      <th>trading_volume</th>\n      <th></th>\n      <th></th>\n      <th></th>\n      <th></th>\n      <th></th>\n      <th></th>\n      <th></th>\n      <th></th>\n      <th></th>\n      <th></th>\n      <th></th>\n      <th></th>\n    </tr>\n  </thead>\n  <tbody>\n    <tr>\n      <th>low</th>\n      <td>20</td>\n      <td>19</td>\n      <td>15</td>\n      <td>20</td>\n      <td>22</td>\n      <td>21</td>\n      <td>18</td>\n      <td>23</td>\n      <td>19</td>\n      <td>23</td>\n      <td>21</td>\n      <td>19</td>\n    </tr>\n    <tr>\n      <th>medium</th>\n      <td>1</td>\n      <td>0</td>\n      <td>4</td>\n      <td>1</td>\n      <td>0</td>\n      <td>0</td>\n      <td>2</td>\n      <td>0</td>\n      <td>0</td>\n      <td>0</td>\n      <td>0</td>\n      <td>0</td>\n    </tr>\n    <tr>\n      <th>high</th>\n      <td>0</td>\n      <td>0</td>\n      <td>2</td>\n      <td>0</td>\n      <td>0</td>\n      <td>0</td>\n      <td>1</td>\n      <td>0</td>\n      <td>0</td>\n      <td>0</td>\n      <td>0</td>\n      <td>0</td>\n    </tr>\n  </tbody>\n</table>\n</div>"
     },
     "execution_count": 232,
     "metadata": {},
     "output_type": "execute_result"
    }
   ],
   "source": [
    "# Use pd.crosstab() to create a frequency table. Cells are counts by default.\n",
    "pd.crosstab(\n",
    "    index=fb.trading_volume,\n",
    "    columns=fb.index.month,\n",
    "    colnames=['month']    # name the columns index\n",
    ")"
   ],
   "metadata": {
    "collapsed": false
   }
  },
  {
   "cell_type": "code",
   "execution_count": 233,
   "outputs": [
    {
     "data": {
      "text/plain": "month              1      2      3      4      5      6      7      8      9   \\\ntrading_volume                                                                  \nlow            185.24 180.27 177.07 163.29 182.93 195.27 201.92 177.49 164.38   \nmedium         179.37    NaN 164.76 174.16    NaN    NaN 194.28    NaN    NaN   \nhigh              NaN    NaN 164.11    NaN    NaN    NaN 176.26    NaN    NaN   \n\nmonth              10     11     12  \ntrading_volume                       \nlow            154.19 141.64 137.16  \nmedium            NaN    NaN    NaN  \nhigh              NaN    NaN    NaN  ",
      "text/html": "<div>\n<style scoped>\n    .dataframe tbody tr th:only-of-type {\n        vertical-align: middle;\n    }\n\n    .dataframe tbody tr th {\n        vertical-align: top;\n    }\n\n    .dataframe thead th {\n        text-align: right;\n    }\n</style>\n<table border=\"1\" class=\"dataframe\">\n  <thead>\n    <tr style=\"text-align: right;\">\n      <th>month</th>\n      <th>1</th>\n      <th>2</th>\n      <th>3</th>\n      <th>4</th>\n      <th>5</th>\n      <th>6</th>\n      <th>7</th>\n      <th>8</th>\n      <th>9</th>\n      <th>10</th>\n      <th>11</th>\n      <th>12</th>\n    </tr>\n    <tr>\n      <th>trading_volume</th>\n      <th></th>\n      <th></th>\n      <th></th>\n      <th></th>\n      <th></th>\n      <th></th>\n      <th></th>\n      <th></th>\n      <th></th>\n      <th></th>\n      <th></th>\n      <th></th>\n    </tr>\n  </thead>\n  <tbody>\n    <tr>\n      <th>low</th>\n      <td>185.24</td>\n      <td>180.27</td>\n      <td>177.07</td>\n      <td>163.29</td>\n      <td>182.93</td>\n      <td>195.27</td>\n      <td>201.92</td>\n      <td>177.49</td>\n      <td>164.38</td>\n      <td>154.19</td>\n      <td>141.64</td>\n      <td>137.16</td>\n    </tr>\n    <tr>\n      <th>medium</th>\n      <td>179.37</td>\n      <td>NaN</td>\n      <td>164.76</td>\n      <td>174.16</td>\n      <td>NaN</td>\n      <td>NaN</td>\n      <td>194.28</td>\n      <td>NaN</td>\n      <td>NaN</td>\n      <td>NaN</td>\n      <td>NaN</td>\n      <td>NaN</td>\n    </tr>\n    <tr>\n      <th>high</th>\n      <td>NaN</td>\n      <td>NaN</td>\n      <td>164.11</td>\n      <td>NaN</td>\n      <td>NaN</td>\n      <td>NaN</td>\n      <td>176.26</td>\n      <td>NaN</td>\n      <td>NaN</td>\n      <td>NaN</td>\n      <td>NaN</td>\n      <td>NaN</td>\n    </tr>\n  </tbody>\n</table>\n</div>"
     },
     "execution_count": 233,
     "metadata": {},
     "output_type": "execute_result"
    }
   ],
   "source": [
    "# Change the aggregation by providing an argument to `values` and specifying `aggfunc`.\n",
    "pd.crosstab(\n",
    "    index=fb.trading_volume,\n",
    "    columns=fb.index.month,\n",
    "    colnames=['month'],    # name the columns index\n",
    "    values=fb.close,\n",
    "    aggfunc=np.mean\n",
    ")"
   ],
   "metadata": {
    "collapsed": false
   }
  },
  {
   "cell_type": "code",
   "execution_count": 234,
   "outputs": [
    {
     "data": {
      "text/plain": "month                              1     2      3     4    5    6    7    8  \\\nstation_name                                                                  \nALBERTSON 0.2 SSE, NY US        3.00  1.00   3.00  1.00 0.00 0.00 0.00 0.00   \nAMITYVILLE 0.1 WSW, NY US       1.00  0.00   1.00  1.00 0.00 0.00 0.00 0.00   \nAMITYVILLE 0.6 NNE, NY US       3.00  1.00   3.00  1.00 0.00 0.00 0.00 0.00   \nARMONK 0.3 SE, NY US            6.00  4.00   6.00  3.00 0.00 0.00 0.00 0.00   \nBLOOMINGDALE 0.7 SSE, NJ US     2.00  1.00   3.00  1.00 0.00 0.00 0.00 0.00   \n...                              ...   ...    ...   ...  ...  ...  ...  ...   \nWESTFIELD 0.6 NE, NJ US         3.00  0.00   4.00  1.00 0.00  NaN 0.00 0.00   \nWOODBRIDGE TWP 1.1 ESE, NJ US   4.00  1.00   3.00  2.00 0.00 0.00 0.00 0.00   \nWOODBRIDGE TWP 1.1 NNE, NJ US   2.00  1.00   3.00  0.00 0.00 0.00 0.00 0.00   \nWOODBRIDGE TWP 3.0 NNW, NJ US    NaN  0.00   0.00   NaN  NaN 0.00  NaN  NaN   \ntotal observations of snow    190.00 97.00 237.00 81.00 0.00 0.00 0.00 0.00   \n\nmonth                            9   10    11    12  \\\nstation_name                                          \nALBERTSON 0.2 SSE, NY US      0.00 0.00  1.00  0.00   \nAMITYVILLE 0.1 WSW, NY US     0.00 0.00  0.00  0.00   \nAMITYVILLE 0.6 NNE, NY US     0.00 0.00  0.00  0.00   \nARMONK 0.3 SE, NY US          0.00 0.00  1.00  3.00   \nBLOOMINGDALE 0.7 SSE, NJ US   0.00 0.00  0.00  1.00   \n...                            ...  ...   ...   ...   \nWESTFIELD 0.6 NE, NJ US       0.00  NaN  1.00   NaN   \nWOODBRIDGE TWP 1.1 ESE, NJ US 0.00 0.00  1.00  0.00   \nWOODBRIDGE TWP 1.1 NNE, NJ US 0.00 0.00  1.00  0.00   \nWOODBRIDGE TWP 3.0 NNW, NJ US  NaN 0.00  0.00   NaN   \ntotal observations of snow    0.00 0.00 49.00 13.00   \n\nmonth                          total observations of snow  \nstation_name                                               \nALBERTSON 0.2 SSE, NY US                                9  \nAMITYVILLE 0.1 WSW, NY US                               3  \nAMITYVILLE 0.6 NNE, NY US                               8  \nARMONK 0.3 SE, NY US                                   23  \nBLOOMINGDALE 0.7 SSE, NJ US                             8  \n...                                                   ...  \nWESTFIELD 0.6 NE, NJ US                                 9  \nWOODBRIDGE TWP 1.1 ESE, NJ US                          11  \nWOODBRIDGE TWP 1.1 NNE, NJ US                           7  \nWOODBRIDGE TWP 3.0 NNW, NJ US                           0  \ntotal observations of snow                            667  \n\n[99 rows x 13 columns]",
      "text/html": "<div>\n<style scoped>\n    .dataframe tbody tr th:only-of-type {\n        vertical-align: middle;\n    }\n\n    .dataframe tbody tr th {\n        vertical-align: top;\n    }\n\n    .dataframe thead th {\n        text-align: right;\n    }\n</style>\n<table border=\"1\" class=\"dataframe\">\n  <thead>\n    <tr style=\"text-align: right;\">\n      <th>month</th>\n      <th>1</th>\n      <th>2</th>\n      <th>3</th>\n      <th>4</th>\n      <th>5</th>\n      <th>6</th>\n      <th>7</th>\n      <th>8</th>\n      <th>9</th>\n      <th>10</th>\n      <th>11</th>\n      <th>12</th>\n      <th>total observations of snow</th>\n    </tr>\n    <tr>\n      <th>station_name</th>\n      <th></th>\n      <th></th>\n      <th></th>\n      <th></th>\n      <th></th>\n      <th></th>\n      <th></th>\n      <th></th>\n      <th></th>\n      <th></th>\n      <th></th>\n      <th></th>\n      <th></th>\n    </tr>\n  </thead>\n  <tbody>\n    <tr>\n      <th>ALBERTSON 0.2 SSE, NY US</th>\n      <td>3.00</td>\n      <td>1.00</td>\n      <td>3.00</td>\n      <td>1.00</td>\n      <td>0.00</td>\n      <td>0.00</td>\n      <td>0.00</td>\n      <td>0.00</td>\n      <td>0.00</td>\n      <td>0.00</td>\n      <td>1.00</td>\n      <td>0.00</td>\n      <td>9</td>\n    </tr>\n    <tr>\n      <th>AMITYVILLE 0.1 WSW, NY US</th>\n      <td>1.00</td>\n      <td>0.00</td>\n      <td>1.00</td>\n      <td>1.00</td>\n      <td>0.00</td>\n      <td>0.00</td>\n      <td>0.00</td>\n      <td>0.00</td>\n      <td>0.00</td>\n      <td>0.00</td>\n      <td>0.00</td>\n      <td>0.00</td>\n      <td>3</td>\n    </tr>\n    <tr>\n      <th>AMITYVILLE 0.6 NNE, NY US</th>\n      <td>3.00</td>\n      <td>1.00</td>\n      <td>3.00</td>\n      <td>1.00</td>\n      <td>0.00</td>\n      <td>0.00</td>\n      <td>0.00</td>\n      <td>0.00</td>\n      <td>0.00</td>\n      <td>0.00</td>\n      <td>0.00</td>\n      <td>0.00</td>\n      <td>8</td>\n    </tr>\n    <tr>\n      <th>ARMONK 0.3 SE, NY US</th>\n      <td>6.00</td>\n      <td>4.00</td>\n      <td>6.00</td>\n      <td>3.00</td>\n      <td>0.00</td>\n      <td>0.00</td>\n      <td>0.00</td>\n      <td>0.00</td>\n      <td>0.00</td>\n      <td>0.00</td>\n      <td>1.00</td>\n      <td>3.00</td>\n      <td>23</td>\n    </tr>\n    <tr>\n      <th>BLOOMINGDALE 0.7 SSE, NJ US</th>\n      <td>2.00</td>\n      <td>1.00</td>\n      <td>3.00</td>\n      <td>1.00</td>\n      <td>0.00</td>\n      <td>0.00</td>\n      <td>0.00</td>\n      <td>0.00</td>\n      <td>0.00</td>\n      <td>0.00</td>\n      <td>0.00</td>\n      <td>1.00</td>\n      <td>8</td>\n    </tr>\n    <tr>\n      <th>...</th>\n      <td>...</td>\n      <td>...</td>\n      <td>...</td>\n      <td>...</td>\n      <td>...</td>\n      <td>...</td>\n      <td>...</td>\n      <td>...</td>\n      <td>...</td>\n      <td>...</td>\n      <td>...</td>\n      <td>...</td>\n      <td>...</td>\n    </tr>\n    <tr>\n      <th>WESTFIELD 0.6 NE, NJ US</th>\n      <td>3.00</td>\n      <td>0.00</td>\n      <td>4.00</td>\n      <td>1.00</td>\n      <td>0.00</td>\n      <td>NaN</td>\n      <td>0.00</td>\n      <td>0.00</td>\n      <td>0.00</td>\n      <td>NaN</td>\n      <td>1.00</td>\n      <td>NaN</td>\n      <td>9</td>\n    </tr>\n    <tr>\n      <th>WOODBRIDGE TWP 1.1 ESE, NJ US</th>\n      <td>4.00</td>\n      <td>1.00</td>\n      <td>3.00</td>\n      <td>2.00</td>\n      <td>0.00</td>\n      <td>0.00</td>\n      <td>0.00</td>\n      <td>0.00</td>\n      <td>0.00</td>\n      <td>0.00</td>\n      <td>1.00</td>\n      <td>0.00</td>\n      <td>11</td>\n    </tr>\n    <tr>\n      <th>WOODBRIDGE TWP 1.1 NNE, NJ US</th>\n      <td>2.00</td>\n      <td>1.00</td>\n      <td>3.00</td>\n      <td>0.00</td>\n      <td>0.00</td>\n      <td>0.00</td>\n      <td>0.00</td>\n      <td>0.00</td>\n      <td>0.00</td>\n      <td>0.00</td>\n      <td>1.00</td>\n      <td>0.00</td>\n      <td>7</td>\n    </tr>\n    <tr>\n      <th>WOODBRIDGE TWP 3.0 NNW, NJ US</th>\n      <td>NaN</td>\n      <td>0.00</td>\n      <td>0.00</td>\n      <td>NaN</td>\n      <td>NaN</td>\n      <td>0.00</td>\n      <td>NaN</td>\n      <td>NaN</td>\n      <td>NaN</td>\n      <td>0.00</td>\n      <td>0.00</td>\n      <td>NaN</td>\n      <td>0</td>\n    </tr>\n    <tr>\n      <th>total observations of snow</th>\n      <td>190.00</td>\n      <td>97.00</td>\n      <td>237.00</td>\n      <td>81.00</td>\n      <td>0.00</td>\n      <td>0.00</td>\n      <td>0.00</td>\n      <td>0.00</td>\n      <td>0.00</td>\n      <td>0.00</td>\n      <td>49.00</td>\n      <td>13.00</td>\n      <td>667</td>\n    </tr>\n  </tbody>\n</table>\n<p>99 rows × 13 columns</p>\n</div>"
     },
     "execution_count": 234,
     "metadata": {},
     "output_type": "execute_result"
    }
   ],
   "source": [
    "# Create row/column subtotals using the `margins` parameter\n",
    "snow_data = weather.query('datatype == \"SNOW\"')\n",
    "pd.crosstab(\n",
    "    index=snow_data.station_name,\n",
    "    columns=snow_data.index.month,\n",
    "    colnames=['month'],\n",
    "    values=snow_data.value,\n",
    "    aggfunc=lambda x: (x>0).sum(),\n",
    "    margins=True,\n",
    "    margins_name='total observations of snow'\n",
    ")"
   ],
   "metadata": {
    "collapsed": false
   }
  },
  {
   "cell_type": "markdown",
   "source": [
    "## Time Series\n",
    "Setting our index to our time/datetime column helps with additional features.\n",
    "\n",
    "### Time-based selection and filtering\n",
    "Remember: we can filter and slice datetime objects."
   ],
   "metadata": {
    "collapsed": false
   }
  },
  {
   "cell_type": "code",
   "execution_count": 235,
   "outputs": [
    {
     "data": {
      "text/plain": "             open   high    low  close    volume trading_volume\ndate                                                           \n2018-10-11 150.13 154.81 149.16 153.35  35338901            low\n2018-10-12 156.73 156.89 151.30 153.74  25293492            low\n2018-10-15 153.32 155.57 152.55 153.52  15433521            low",
      "text/html": "<div>\n<style scoped>\n    .dataframe tbody tr th:only-of-type {\n        vertical-align: middle;\n    }\n\n    .dataframe tbody tr th {\n        vertical-align: top;\n    }\n\n    .dataframe thead th {\n        text-align: right;\n    }\n</style>\n<table border=\"1\" class=\"dataframe\">\n  <thead>\n    <tr style=\"text-align: right;\">\n      <th></th>\n      <th>open</th>\n      <th>high</th>\n      <th>low</th>\n      <th>close</th>\n      <th>volume</th>\n      <th>trading_volume</th>\n    </tr>\n    <tr>\n      <th>date</th>\n      <th></th>\n      <th></th>\n      <th></th>\n      <th></th>\n      <th></th>\n      <th></th>\n    </tr>\n  </thead>\n  <tbody>\n    <tr>\n      <th>2018-10-11</th>\n      <td>150.13</td>\n      <td>154.81</td>\n      <td>149.16</td>\n      <td>153.35</td>\n      <td>35338901</td>\n      <td>low</td>\n    </tr>\n    <tr>\n      <th>2018-10-12</th>\n      <td>156.73</td>\n      <td>156.89</td>\n      <td>151.30</td>\n      <td>153.74</td>\n      <td>25293492</td>\n      <td>low</td>\n    </tr>\n    <tr>\n      <th>2018-10-15</th>\n      <td>153.32</td>\n      <td>155.57</td>\n      <td>152.55</td>\n      <td>153.52</td>\n      <td>15433521</td>\n      <td>low</td>\n    </tr>\n  </tbody>\n</table>\n</div>"
     },
     "execution_count": 235,
     "metadata": {},
     "output_type": "execute_result"
    }
   ],
   "source": [
    "fb['2018-10-11':'2018-10-15']"
   ],
   "metadata": {
    "collapsed": false
   }
  },
  {
   "cell_type": "code",
   "execution_count": 236,
   "outputs": [
    {
     "name": "stderr",
     "output_type": "stream",
     "text": [
      "/var/folders/rk/qwqd81bx00b1rl2fj8gy_vnc0000gn/T/ipykernel_14170/16389067.py:1: FutureWarning: Indexing a DataFrame with a datetimelike index using a single string to slice the rows, like `frame[string]`, is deprecated and will be removed in a future version. Use `frame.loc[string]` instead.\n",
      "  fb['2018-q1'].equals(fb['2018-01':'2018-03'])\n"
     ]
    },
    {
     "data": {
      "text/plain": "True"
     },
     "execution_count": 236,
     "metadata": {},
     "output_type": "execute_result"
    }
   ],
   "source": [
    "fb['2018-q1'].equals(fb['2018-01':'2018-03'])"
   ],
   "metadata": {
    "collapsed": false
   }
  },
  {
   "cell_type": "code",
   "execution_count": 237,
   "outputs": [
    {
     "data": {
      "text/plain": "             open   high    low  close    volume trading_volume\ndate                                                           \n2018-01-02 177.68 181.58 177.55 181.42  18151903            low\n2018-01-03 181.88 184.78 181.33 184.67  16886563            low\n2018-01-04 184.90 186.21 184.10 184.33  13880896            low\n2018-01-05 185.59 186.90 184.93 186.85  13574535            low",
      "text/html": "<div>\n<style scoped>\n    .dataframe tbody tr th:only-of-type {\n        vertical-align: middle;\n    }\n\n    .dataframe tbody tr th {\n        vertical-align: top;\n    }\n\n    .dataframe thead th {\n        text-align: right;\n    }\n</style>\n<table border=\"1\" class=\"dataframe\">\n  <thead>\n    <tr style=\"text-align: right;\">\n      <th></th>\n      <th>open</th>\n      <th>high</th>\n      <th>low</th>\n      <th>close</th>\n      <th>volume</th>\n      <th>trading_volume</th>\n    </tr>\n    <tr>\n      <th>date</th>\n      <th></th>\n      <th></th>\n      <th></th>\n      <th></th>\n      <th></th>\n      <th></th>\n    </tr>\n  </thead>\n  <tbody>\n    <tr>\n      <th>2018-01-02</th>\n      <td>177.68</td>\n      <td>181.58</td>\n      <td>177.55</td>\n      <td>181.42</td>\n      <td>18151903</td>\n      <td>low</td>\n    </tr>\n    <tr>\n      <th>2018-01-03</th>\n      <td>181.88</td>\n      <td>184.78</td>\n      <td>181.33</td>\n      <td>184.67</td>\n      <td>16886563</td>\n      <td>low</td>\n    </tr>\n    <tr>\n      <th>2018-01-04</th>\n      <td>184.90</td>\n      <td>186.21</td>\n      <td>184.10</td>\n      <td>184.33</td>\n      <td>13880896</td>\n      <td>low</td>\n    </tr>\n    <tr>\n      <th>2018-01-05</th>\n      <td>185.59</td>\n      <td>186.90</td>\n      <td>184.93</td>\n      <td>186.85</td>\n      <td>13574535</td>\n      <td>low</td>\n    </tr>\n  </tbody>\n</table>\n</div>"
     },
     "execution_count": 237,
     "metadata": {},
     "output_type": "execute_result"
    }
   ],
   "source": [
    "fb.first('1W')"
   ],
   "metadata": {
    "collapsed": false
   }
  },
  {
   "cell_type": "code",
   "execution_count": 238,
   "outputs": [
    {
     "data": {
      "text/plain": "             open   high    low  close    volume trading_volume\ndate                                                           \n2018-12-31 134.45 134.64 129.95 131.09  24625308            low",
      "text/html": "<div>\n<style scoped>\n    .dataframe tbody tr th:only-of-type {\n        vertical-align: middle;\n    }\n\n    .dataframe tbody tr th {\n        vertical-align: top;\n    }\n\n    .dataframe thead th {\n        text-align: right;\n    }\n</style>\n<table border=\"1\" class=\"dataframe\">\n  <thead>\n    <tr style=\"text-align: right;\">\n      <th></th>\n      <th>open</th>\n      <th>high</th>\n      <th>low</th>\n      <th>close</th>\n      <th>volume</th>\n      <th>trading_volume</th>\n    </tr>\n    <tr>\n      <th>date</th>\n      <th></th>\n      <th></th>\n      <th></th>\n      <th></th>\n      <th></th>\n      <th></th>\n    </tr>\n  </thead>\n  <tbody>\n    <tr>\n      <th>2018-12-31</th>\n      <td>134.45</td>\n      <td>134.64</td>\n      <td>129.95</td>\n      <td>131.09</td>\n      <td>24625308</td>\n      <td>low</td>\n    </tr>\n  </tbody>\n</table>\n</div>"
     },
     "execution_count": 238,
     "metadata": {},
     "output_type": "execute_result"
    }
   ],
   "source": [
    "fb.last('1W')"
   ],
   "metadata": {
    "collapsed": false
   }
  },
  {
   "cell_type": "code",
   "execution_count": 239,
   "outputs": [],
   "source": [
    "stock_data_per_minute = pd.read_csv('book_code/ch_04/data/fb_week_of_may_20_per_minute.csv', index_col='date', parse_dates=True, date_parser=lambda x: pd.to_datetime(x, format='%Y-%m-%d %H-%M'))"
   ],
   "metadata": {
    "collapsed": false
   }
  },
  {
   "cell_type": "code",
   "execution_count": 240,
   "outputs": [
    {
     "data": {
      "text/plain": "             open   high    low  close      volume\ndate                                              \n2019-05-20 181.62 184.18 181.62 182.72 10044838.00\n2019-05-21 184.53 185.58 183.97 184.82  7198405.00\n2019-05-22 184.81 186.56 184.01 185.32  8412433.00\n2019-05-23 182.50 183.73 179.76 180.87 12479171.00\n2019-05-24 182.33 183.52 181.04 181.06  7686030.00",
      "text/html": "<div>\n<style scoped>\n    .dataframe tbody tr th:only-of-type {\n        vertical-align: middle;\n    }\n\n    .dataframe tbody tr th {\n        vertical-align: top;\n    }\n\n    .dataframe thead th {\n        text-align: right;\n    }\n</style>\n<table border=\"1\" class=\"dataframe\">\n  <thead>\n    <tr style=\"text-align: right;\">\n      <th></th>\n      <th>open</th>\n      <th>high</th>\n      <th>low</th>\n      <th>close</th>\n      <th>volume</th>\n    </tr>\n    <tr>\n      <th>date</th>\n      <th></th>\n      <th></th>\n      <th></th>\n      <th></th>\n      <th></th>\n    </tr>\n  </thead>\n  <tbody>\n    <tr>\n      <th>2019-05-20</th>\n      <td>181.62</td>\n      <td>184.18</td>\n      <td>181.62</td>\n      <td>182.72</td>\n      <td>10044838.00</td>\n    </tr>\n    <tr>\n      <th>2019-05-21</th>\n      <td>184.53</td>\n      <td>185.58</td>\n      <td>183.97</td>\n      <td>184.82</td>\n      <td>7198405.00</td>\n    </tr>\n    <tr>\n      <th>2019-05-22</th>\n      <td>184.81</td>\n      <td>186.56</td>\n      <td>184.01</td>\n      <td>185.32</td>\n      <td>8412433.00</td>\n    </tr>\n    <tr>\n      <th>2019-05-23</th>\n      <td>182.50</td>\n      <td>183.73</td>\n      <td>179.76</td>\n      <td>180.87</td>\n      <td>12479171.00</td>\n    </tr>\n    <tr>\n      <th>2019-05-24</th>\n      <td>182.33</td>\n      <td>183.52</td>\n      <td>181.04</td>\n      <td>181.06</td>\n      <td>7686030.00</td>\n    </tr>\n  </tbody>\n</table>\n</div>"
     },
     "execution_count": 240,
     "metadata": {},
     "output_type": "execute_result"
    }
   ],
   "source": [
    "stock_data_per_minute.groupby(pd.Grouper(freq='1D')).agg({\n",
    "    'open': 'first', 'high': 'max', 'low': 'min',\n",
    "    'close': 'last', 'volume': 'sum'\n",
    "})"
   ],
   "metadata": {
    "collapsed": false
   }
  },
  {
   "cell_type": "code",
   "execution_count": 241,
   "outputs": [
    {
     "data": {
      "text/plain": "            open  high  low  close  volume\ndate                                      \n2019-05-20   391   213 0.02 182.94   14.27\n2019-05-21   390   186 0.02 185.01   13.38\n2019-05-22   390   200 0.02 185.73   15.40\n2019-05-23   390   262 0.05 181.15   15.66\n2019-05-24   390   223 0.03 182.20   13.72",
      "text/html": "<div>\n<style scoped>\n    .dataframe tbody tr th:only-of-type {\n        vertical-align: middle;\n    }\n\n    .dataframe tbody tr th {\n        vertical-align: top;\n    }\n\n    .dataframe thead th {\n        text-align: right;\n    }\n</style>\n<table border=\"1\" class=\"dataframe\">\n  <thead>\n    <tr style=\"text-align: right;\">\n      <th></th>\n      <th>open</th>\n      <th>high</th>\n      <th>low</th>\n      <th>close</th>\n      <th>volume</th>\n    </tr>\n    <tr>\n      <th>date</th>\n      <th></th>\n      <th></th>\n      <th></th>\n      <th></th>\n      <th></th>\n    </tr>\n  </thead>\n  <tbody>\n    <tr>\n      <th>2019-05-20</th>\n      <td>391</td>\n      <td>213</td>\n      <td>0.02</td>\n      <td>182.94</td>\n      <td>14.27</td>\n    </tr>\n    <tr>\n      <th>2019-05-21</th>\n      <td>390</td>\n      <td>186</td>\n      <td>0.02</td>\n      <td>185.01</td>\n      <td>13.38</td>\n    </tr>\n    <tr>\n      <th>2019-05-22</th>\n      <td>390</td>\n      <td>200</td>\n      <td>0.02</td>\n      <td>185.73</td>\n      <td>15.40</td>\n    </tr>\n    <tr>\n      <th>2019-05-23</th>\n      <td>390</td>\n      <td>262</td>\n      <td>0.05</td>\n      <td>181.15</td>\n      <td>15.66</td>\n    </tr>\n    <tr>\n      <th>2019-05-24</th>\n      <td>390</td>\n      <td>223</td>\n      <td>0.03</td>\n      <td>182.20</td>\n      <td>13.72</td>\n    </tr>\n  </tbody>\n</table>\n</div>"
     },
     "execution_count": 241,
     "metadata": {},
     "output_type": "execute_result"
    }
   ],
   "source": [
    "# This is just me futzing around with aggregations to see what I can do.\n",
    "stock_data_per_minute.groupby(pd.Grouper(freq='1D')).agg({\n",
    "    'open': 'count', 'high': 'nunique', 'low': 'sem',\n",
    "    'close': 'median', 'volume': 'skew'\n",
    "})"
   ],
   "metadata": {
    "collapsed": false
   }
  },
  {
   "cell_type": "code",
   "execution_count": 242,
   "outputs": [
    {
     "data": {
      "text/plain": "                      open   high    low  close    volume\ndate                                                     \n2019-05-20 09:30:00 181.62 181.62 181.62 181.62 159049.00\n2019-05-21 09:30:00 184.53 184.53 184.53 184.53  58171.00\n2019-05-22 09:30:00 184.81 184.81 184.81 184.81  41585.00\n2019-05-23 09:30:00 182.50 182.50 182.50 182.50 121930.00\n2019-05-24 09:30:00 182.33 182.33 182.33 182.33  52681.00",
      "text/html": "<div>\n<style scoped>\n    .dataframe tbody tr th:only-of-type {\n        vertical-align: middle;\n    }\n\n    .dataframe tbody tr th {\n        vertical-align: top;\n    }\n\n    .dataframe thead th {\n        text-align: right;\n    }\n</style>\n<table border=\"1\" class=\"dataframe\">\n  <thead>\n    <tr style=\"text-align: right;\">\n      <th></th>\n      <th>open</th>\n      <th>high</th>\n      <th>low</th>\n      <th>close</th>\n      <th>volume</th>\n    </tr>\n    <tr>\n      <th>date</th>\n      <th></th>\n      <th></th>\n      <th></th>\n      <th></th>\n      <th></th>\n    </tr>\n  </thead>\n  <tbody>\n    <tr>\n      <th>2019-05-20 09:30:00</th>\n      <td>181.62</td>\n      <td>181.62</td>\n      <td>181.62</td>\n      <td>181.62</td>\n      <td>159049.00</td>\n    </tr>\n    <tr>\n      <th>2019-05-21 09:30:00</th>\n      <td>184.53</td>\n      <td>184.53</td>\n      <td>184.53</td>\n      <td>184.53</td>\n      <td>58171.00</td>\n    </tr>\n    <tr>\n      <th>2019-05-22 09:30:00</th>\n      <td>184.81</td>\n      <td>184.81</td>\n      <td>184.81</td>\n      <td>184.81</td>\n      <td>41585.00</td>\n    </tr>\n    <tr>\n      <th>2019-05-23 09:30:00</th>\n      <td>182.50</td>\n      <td>182.50</td>\n      <td>182.50</td>\n      <td>182.50</td>\n      <td>121930.00</td>\n    </tr>\n    <tr>\n      <th>2019-05-24 09:30:00</th>\n      <td>182.33</td>\n      <td>182.33</td>\n      <td>182.33</td>\n      <td>182.33</td>\n      <td>52681.00</td>\n    </tr>\n  </tbody>\n</table>\n</div>"
     },
     "execution_count": 242,
     "metadata": {},
     "output_type": "execute_result"
    }
   ],
   "source": [
    "stock_data_per_minute.at_time('9:30')"
   ],
   "metadata": {
    "collapsed": false
   }
  },
  {
   "cell_type": "code",
   "execution_count": 243,
   "outputs": [
    {
     "data": {
      "text/plain": "                      open   high    low  close     volume\ndate                                                      \n2019-05-20 15:59:00 182.91 182.91 182.91 182.91  134569.00\n2019-05-20 16:00:00 182.72 182.72 182.72 182.72 1113672.00\n2019-05-21 15:59:00 184.84 184.84 184.84 184.84   61606.00\n2019-05-21 16:00:00 184.82 184.82 184.82 184.82  801080.00\n2019-05-22 15:59:00 185.29 185.29 185.29 185.29   96099.00\n2019-05-22 16:00:00 185.32 185.32 185.32 185.32 1220993.00\n2019-05-23 15:59:00 180.72 180.72 180.72 180.72  109648.00\n2019-05-23 16:00:00 180.87 180.87 180.87 180.87 1329217.00\n2019-05-24 15:59:00 181.07 181.07 181.07 181.07   52994.00\n2019-05-24 16:00:00 181.06 181.06 181.06 181.06  764906.00",
      "text/html": "<div>\n<style scoped>\n    .dataframe tbody tr th:only-of-type {\n        vertical-align: middle;\n    }\n\n    .dataframe tbody tr th {\n        vertical-align: top;\n    }\n\n    .dataframe thead th {\n        text-align: right;\n    }\n</style>\n<table border=\"1\" class=\"dataframe\">\n  <thead>\n    <tr style=\"text-align: right;\">\n      <th></th>\n      <th>open</th>\n      <th>high</th>\n      <th>low</th>\n      <th>close</th>\n      <th>volume</th>\n    </tr>\n    <tr>\n      <th>date</th>\n      <th></th>\n      <th></th>\n      <th></th>\n      <th></th>\n      <th></th>\n    </tr>\n  </thead>\n  <tbody>\n    <tr>\n      <th>2019-05-20 15:59:00</th>\n      <td>182.91</td>\n      <td>182.91</td>\n      <td>182.91</td>\n      <td>182.91</td>\n      <td>134569.00</td>\n    </tr>\n    <tr>\n      <th>2019-05-20 16:00:00</th>\n      <td>182.72</td>\n      <td>182.72</td>\n      <td>182.72</td>\n      <td>182.72</td>\n      <td>1113672.00</td>\n    </tr>\n    <tr>\n      <th>2019-05-21 15:59:00</th>\n      <td>184.84</td>\n      <td>184.84</td>\n      <td>184.84</td>\n      <td>184.84</td>\n      <td>61606.00</td>\n    </tr>\n    <tr>\n      <th>2019-05-21 16:00:00</th>\n      <td>184.82</td>\n      <td>184.82</td>\n      <td>184.82</td>\n      <td>184.82</td>\n      <td>801080.00</td>\n    </tr>\n    <tr>\n      <th>2019-05-22 15:59:00</th>\n      <td>185.29</td>\n      <td>185.29</td>\n      <td>185.29</td>\n      <td>185.29</td>\n      <td>96099.00</td>\n    </tr>\n    <tr>\n      <th>2019-05-22 16:00:00</th>\n      <td>185.32</td>\n      <td>185.32</td>\n      <td>185.32</td>\n      <td>185.32</td>\n      <td>1220993.00</td>\n    </tr>\n    <tr>\n      <th>2019-05-23 15:59:00</th>\n      <td>180.72</td>\n      <td>180.72</td>\n      <td>180.72</td>\n      <td>180.72</td>\n      <td>109648.00</td>\n    </tr>\n    <tr>\n      <th>2019-05-23 16:00:00</th>\n      <td>180.87</td>\n      <td>180.87</td>\n      <td>180.87</td>\n      <td>180.87</td>\n      <td>1329217.00</td>\n    </tr>\n    <tr>\n      <th>2019-05-24 15:59:00</th>\n      <td>181.07</td>\n      <td>181.07</td>\n      <td>181.07</td>\n      <td>181.07</td>\n      <td>52994.00</td>\n    </tr>\n    <tr>\n      <th>2019-05-24 16:00:00</th>\n      <td>181.06</td>\n      <td>181.06</td>\n      <td>181.06</td>\n      <td>181.06</td>\n      <td>764906.00</td>\n    </tr>\n  </tbody>\n</table>\n</div>"
     },
     "execution_count": 243,
     "metadata": {},
     "output_type": "execute_result"
    }
   ],
   "source": [
    "stock_data_per_minute.between_time('15:59', '16:00')"
   ],
   "metadata": {
    "collapsed": false
   }
  },
  {
   "cell_type": "code",
   "execution_count": 244,
   "outputs": [],
   "source": [
    "shares_traded_in_first_30_minutes = stock_data_per_minute\\\n",
    "    .between_time('9:30', '10:00')\\\n",
    "    .groupby(pd.Grouper(freq='1D'))\\\n",
    "    .filter(lambda x: (x.volume > 0).all())\\\n",
    "    .volume.mean()\n",
    "\n",
    "shares_traded_in_last_30_minutes = stock_data_per_minute\\\n",
    "    .between_time('15:30', '16:00')\\\n",
    "    .groupby(pd.Grouper(freq='1D'))\\\n",
    "    .filter(lambda x: (x.volume > 0).all())\\\n",
    "    .volume.mean()"
   ],
   "metadata": {
    "collapsed": false
   }
  },
  {
   "cell_type": "code",
   "execution_count": 245,
   "outputs": [
    {
     "data": {
      "text/plain": "18592.967741935485"
     },
     "execution_count": 245,
     "metadata": {},
     "output_type": "execute_result"
    }
   ],
   "source": [
    "shares_traded_in_first_30_minutes-shares_traded_in_last_30_minutes"
   ],
   "metadata": {
    "collapsed": false
   }
  },
  {
   "cell_type": "markdown",
   "source": [
    "### Shifting for lagged data"
   ],
   "metadata": {
    "collapsed": false
   }
  },
  {
   "cell_type": "code",
   "execution_count": 246,
   "outputs": [
    {
     "data": {
      "text/plain": "             open   high    low  close     volume trading_volume  prior_close  \\\ndate                                                                            \n2018-07-26 174.89 180.13 173.75 176.26  169803668           high       217.50   \n2018-04-26 173.22 176.27 170.80 174.16   77556934         medium       159.69   \n2018-01-12 178.06 181.48 177.40 179.37   77551299         medium       187.77   \n2018-10-31 155.00 156.40 148.96 151.79   60101251            low       146.22   \n2018-03-19 177.01 177.17 170.06 172.56   88140060         medium       185.09   \n\n            after_hours_change_in_price  abs_change  \ndate                                                 \n2018-07-26                       -42.61       42.61  \n2018-04-26                        13.53       13.53  \n2018-01-12                        -9.71        9.71  \n2018-10-31                         8.78        8.78  \n2018-03-19                        -8.08        8.08  ",
      "text/html": "<div>\n<style scoped>\n    .dataframe tbody tr th:only-of-type {\n        vertical-align: middle;\n    }\n\n    .dataframe tbody tr th {\n        vertical-align: top;\n    }\n\n    .dataframe thead th {\n        text-align: right;\n    }\n</style>\n<table border=\"1\" class=\"dataframe\">\n  <thead>\n    <tr style=\"text-align: right;\">\n      <th></th>\n      <th>open</th>\n      <th>high</th>\n      <th>low</th>\n      <th>close</th>\n      <th>volume</th>\n      <th>trading_volume</th>\n      <th>prior_close</th>\n      <th>after_hours_change_in_price</th>\n      <th>abs_change</th>\n    </tr>\n    <tr>\n      <th>date</th>\n      <th></th>\n      <th></th>\n      <th></th>\n      <th></th>\n      <th></th>\n      <th></th>\n      <th></th>\n      <th></th>\n      <th></th>\n    </tr>\n  </thead>\n  <tbody>\n    <tr>\n      <th>2018-07-26</th>\n      <td>174.89</td>\n      <td>180.13</td>\n      <td>173.75</td>\n      <td>176.26</td>\n      <td>169803668</td>\n      <td>high</td>\n      <td>217.50</td>\n      <td>-42.61</td>\n      <td>42.61</td>\n    </tr>\n    <tr>\n      <th>2018-04-26</th>\n      <td>173.22</td>\n      <td>176.27</td>\n      <td>170.80</td>\n      <td>174.16</td>\n      <td>77556934</td>\n      <td>medium</td>\n      <td>159.69</td>\n      <td>13.53</td>\n      <td>13.53</td>\n    </tr>\n    <tr>\n      <th>2018-01-12</th>\n      <td>178.06</td>\n      <td>181.48</td>\n      <td>177.40</td>\n      <td>179.37</td>\n      <td>77551299</td>\n      <td>medium</td>\n      <td>187.77</td>\n      <td>-9.71</td>\n      <td>9.71</td>\n    </tr>\n    <tr>\n      <th>2018-10-31</th>\n      <td>155.00</td>\n      <td>156.40</td>\n      <td>148.96</td>\n      <td>151.79</td>\n      <td>60101251</td>\n      <td>low</td>\n      <td>146.22</td>\n      <td>8.78</td>\n      <td>8.78</td>\n    </tr>\n    <tr>\n      <th>2018-03-19</th>\n      <td>177.01</td>\n      <td>177.17</td>\n      <td>170.06</td>\n      <td>172.56</td>\n      <td>88140060</td>\n      <td>medium</td>\n      <td>185.09</td>\n      <td>-8.08</td>\n      <td>8.08</td>\n    </tr>\n  </tbody>\n</table>\n</div>"
     },
     "execution_count": 246,
     "metadata": {},
     "output_type": "execute_result"
    }
   ],
   "source": [
    "fb.assign(\n",
    "    prior_close=lambda x: x.close.shift(),\n",
    "    after_hours_change_in_price=lambda x: x.open - x.prior_close,\n",
    "    abs_change=lambda x: x.after_hours_change_in_price.abs()\n",
    ").nlargest(5, 'abs_change')"
   ],
   "metadata": {
    "collapsed": false
   }
  },
  {
   "cell_type": "code",
   "execution_count": 247,
   "outputs": [
    {
     "data": {
      "text/plain": "Timestamp('2018-09-04 00:00:00')"
     },
     "execution_count": 247,
     "metadata": {},
     "output_type": "execute_result"
    }
   ],
   "source": [
    "fb.loc['2018-09'].first_valid_index()"
   ],
   "metadata": {
    "collapsed": false
   }
  },
  {
   "cell_type": "code",
   "execution_count": 248,
   "outputs": [
    {
     "data": {
      "text/plain": "Timestamp('2018-09-28 00:00:00')"
     },
     "execution_count": 248,
     "metadata": {},
     "output_type": "execute_result"
    }
   ],
   "source": [
    "fb.loc['2018-09'].last_valid_index()"
   ],
   "metadata": {
    "collapsed": false
   }
  },
  {
   "cell_type": "code",
   "execution_count": 249,
   "outputs": [
    {
     "data": {
      "text/plain": "open                  168.33\nhigh                  168.79\nlow                   162.56\nclose                 164.46\nvolume           34265638.00\ntrading_volume           low\nName: 2018-09-30 00:00:00, dtype: object"
     },
     "execution_count": 249,
     "metadata": {},
     "output_type": "execute_result"
    }
   ],
   "source": [
    "# Slicing a non-existent index (e.g. '2018-09-30') will result in an error. (Specifically, it will return `False`.) Use `.asof()` to get the closest data to the requested datetime.\n",
    "fb.asof('2018-09-30')"
   ],
   "metadata": {
    "collapsed": false
   }
  },
  {
   "cell_type": "markdown",
   "source": [
    "### Differenced data\n",
    "Slightly different from `.shift()`, this calculates $x_{t+1}-x_t$."
   ],
   "metadata": {
    "collapsed": false
   }
  },
  {
   "cell_type": "code",
   "execution_count": 250,
   "outputs": [
    {
     "data": {
      "text/plain": "True"
     },
     "execution_count": 250,
     "metadata": {},
     "output_type": "execute_result"
    }
   ],
   "source": [
    "(fb.drop(columns='trading_volume')-fb.drop(columns='trading_volume').shift()).equals(fb.drop(columns='trading_volume').diff())"
   ],
   "metadata": {
    "collapsed": false
   }
  },
  {
   "cell_type": "code",
   "execution_count": 251,
   "outputs": [
    {
     "data": {
      "text/plain": "            open  high  low  close      volume\ndate                                          \n2018-01-02   NaN   NaN  NaN    NaN         NaN\n2018-01-03  4.20  3.20 3.78   3.25 -1265340.00\n2018-01-04  3.02  1.43 2.77  -0.34 -3005667.00\n2018-01-05  0.69  0.69 0.83   2.52  -306361.00\n2018-01-08  1.61  2.00 1.40   1.43  4420191.00",
      "text/html": "<div>\n<style scoped>\n    .dataframe tbody tr th:only-of-type {\n        vertical-align: middle;\n    }\n\n    .dataframe tbody tr th {\n        vertical-align: top;\n    }\n\n    .dataframe thead th {\n        text-align: right;\n    }\n</style>\n<table border=\"1\" class=\"dataframe\">\n  <thead>\n    <tr style=\"text-align: right;\">\n      <th></th>\n      <th>open</th>\n      <th>high</th>\n      <th>low</th>\n      <th>close</th>\n      <th>volume</th>\n    </tr>\n    <tr>\n      <th>date</th>\n      <th></th>\n      <th></th>\n      <th></th>\n      <th></th>\n      <th></th>\n    </tr>\n  </thead>\n  <tbody>\n    <tr>\n      <th>2018-01-02</th>\n      <td>NaN</td>\n      <td>NaN</td>\n      <td>NaN</td>\n      <td>NaN</td>\n      <td>NaN</td>\n    </tr>\n    <tr>\n      <th>2018-01-03</th>\n      <td>4.20</td>\n      <td>3.20</td>\n      <td>3.78</td>\n      <td>3.25</td>\n      <td>-1265340.00</td>\n    </tr>\n    <tr>\n      <th>2018-01-04</th>\n      <td>3.02</td>\n      <td>1.43</td>\n      <td>2.77</td>\n      <td>-0.34</td>\n      <td>-3005667.00</td>\n    </tr>\n    <tr>\n      <th>2018-01-05</th>\n      <td>0.69</td>\n      <td>0.69</td>\n      <td>0.83</td>\n      <td>2.52</td>\n      <td>-306361.00</td>\n    </tr>\n    <tr>\n      <th>2018-01-08</th>\n      <td>1.61</td>\n      <td>2.00</td>\n      <td>1.40</td>\n      <td>1.43</td>\n      <td>4420191.00</td>\n    </tr>\n  </tbody>\n</table>\n</div>"
     },
     "execution_count": 251,
     "metadata": {},
     "output_type": "execute_result"
    }
   ],
   "source": [
    "fb.drop(columns='trading_volume').diff().head()"
   ],
   "metadata": {
    "collapsed": false
   }
  },
  {
   "cell_type": "markdown",
   "source": [
    "### Resampling\n",
    "Resampling aggregates the data to a less-granular level. E.g., data for stock price for every minute of 2018 may be unhelpful, so you may resample it to every day."
   ],
   "metadata": {
    "collapsed": false
   }
  },
  {
   "cell_type": "code",
   "execution_count": 252,
   "outputs": [
    {
     "data": {
      "text/plain": "             open   high    low  close      volume\ndate                                              \n2019-05-20 181.62 184.18 181.62 182.72 10044838.00\n2019-05-21 184.53 185.58 183.97 184.82  7198405.00\n2019-05-22 184.81 186.56 184.01 185.32  8412433.00\n2019-05-23 182.50 183.73 179.76 180.87 12479171.00\n2019-05-24 182.33 183.52 181.04 181.06  7686030.00",
      "text/html": "<div>\n<style scoped>\n    .dataframe tbody tr th:only-of-type {\n        vertical-align: middle;\n    }\n\n    .dataframe tbody tr th {\n        vertical-align: top;\n    }\n\n    .dataframe thead th {\n        text-align: right;\n    }\n</style>\n<table border=\"1\" class=\"dataframe\">\n  <thead>\n    <tr style=\"text-align: right;\">\n      <th></th>\n      <th>open</th>\n      <th>high</th>\n      <th>low</th>\n      <th>close</th>\n      <th>volume</th>\n    </tr>\n    <tr>\n      <th>date</th>\n      <th></th>\n      <th></th>\n      <th></th>\n      <th></th>\n      <th></th>\n    </tr>\n  </thead>\n  <tbody>\n    <tr>\n      <th>2019-05-20</th>\n      <td>181.62</td>\n      <td>184.18</td>\n      <td>181.62</td>\n      <td>182.72</td>\n      <td>10044838.00</td>\n    </tr>\n    <tr>\n      <th>2019-05-21</th>\n      <td>184.53</td>\n      <td>185.58</td>\n      <td>183.97</td>\n      <td>184.82</td>\n      <td>7198405.00</td>\n    </tr>\n    <tr>\n      <th>2019-05-22</th>\n      <td>184.81</td>\n      <td>186.56</td>\n      <td>184.01</td>\n      <td>185.32</td>\n      <td>8412433.00</td>\n    </tr>\n    <tr>\n      <th>2019-05-23</th>\n      <td>182.50</td>\n      <td>183.73</td>\n      <td>179.76</td>\n      <td>180.87</td>\n      <td>12479171.00</td>\n    </tr>\n    <tr>\n      <th>2019-05-24</th>\n      <td>182.33</td>\n      <td>183.52</td>\n      <td>181.04</td>\n      <td>181.06</td>\n      <td>7686030.00</td>\n    </tr>\n  </tbody>\n</table>\n</div>"
     },
     "execution_count": 252,
     "metadata": {},
     "output_type": "execute_result"
    }
   ],
   "source": [
    "# Equivalent to a previous example of aggregating using a Grouper.\n",
    "stock_data_per_minute.resample('1D').agg({\n",
    "    'open': 'first', 'high': 'max', 'low': 'min',\n",
    "    'close': 'last', 'volume': 'sum'\n",
    "})"
   ],
   "metadata": {
    "collapsed": false
   }
  },
  {
   "cell_type": "code",
   "execution_count": 253,
   "outputs": [
    {
     "data": {
      "text/plain": "             open   high    low  close      volume\ndate                                              \n2018-03-31 179.47 181.79 177.04 179.55 32926396.70\n2018-06-30 180.37 182.28 178.60 180.70 24055317.75\n2018-09-30 180.81 182.89 178.96 181.03 27019824.76\n2018-12-31 145.27 147.62 142.72 144.87 26974331.73",
      "text/html": "<div>\n<style scoped>\n    .dataframe tbody tr th:only-of-type {\n        vertical-align: middle;\n    }\n\n    .dataframe tbody tr th {\n        vertical-align: top;\n    }\n\n    .dataframe thead th {\n        text-align: right;\n    }\n</style>\n<table border=\"1\" class=\"dataframe\">\n  <thead>\n    <tr style=\"text-align: right;\">\n      <th></th>\n      <th>open</th>\n      <th>high</th>\n      <th>low</th>\n      <th>close</th>\n      <th>volume</th>\n    </tr>\n    <tr>\n      <th>date</th>\n      <th></th>\n      <th></th>\n      <th></th>\n      <th></th>\n      <th></th>\n    </tr>\n  </thead>\n  <tbody>\n    <tr>\n      <th>2018-03-31</th>\n      <td>179.47</td>\n      <td>181.79</td>\n      <td>177.04</td>\n      <td>179.55</td>\n      <td>32926396.70</td>\n    </tr>\n    <tr>\n      <th>2018-06-30</th>\n      <td>180.37</td>\n      <td>182.28</td>\n      <td>178.60</td>\n      <td>180.70</td>\n      <td>24055317.75</td>\n    </tr>\n    <tr>\n      <th>2018-09-30</th>\n      <td>180.81</td>\n      <td>182.89</td>\n      <td>178.96</td>\n      <td>181.03</td>\n      <td>27019824.76</td>\n    </tr>\n    <tr>\n      <th>2018-12-31</th>\n      <td>145.27</td>\n      <td>147.62</td>\n      <td>142.72</td>\n      <td>144.87</td>\n      <td>26974331.73</td>\n    </tr>\n  </tbody>\n</table>\n</div>"
     },
     "execution_count": 253,
     "metadata": {},
     "output_type": "execute_result"
    }
   ],
   "source": [
    "# Resample daily Facebook stock data to quarterly average\n",
    "fb.resample('Q').mean()"
   ],
   "metadata": {
    "collapsed": false
   }
  },
  {
   "cell_type": "code",
   "execution_count": 254,
   "outputs": [
    {
     "data": {
      "text/plain": "             open   high    low  close      volume\ndate                                              \n2018-01-31 184.36 186.21 182.92 184.96 23602654.10\n2018-02-28 180.72 183.13 177.76 180.27 27190631.11\n2018-03-31 173.45 176.17 170.51 173.49 47439641.52\n2018-04-30 164.16 166.09 161.55 163.81 35768113.71\n2018-05-31 181.91 183.87 180.95 182.93 18233826.50\n2018-06-30 194.97 196.80 193.18 195.27 18441226.90\n2018-07-31 199.33 201.60 197.50 199.97 31083964.71\n2018-08-31 177.60 179.43 175.68 177.49 23870295.17\n2018-09-30 164.23 166.40 162.42 164.38 26340469.05\n2018-10-31 154.87 157.12 152.10 154.19 27062879.78\n2018-11-30 141.76 143.66 139.59 141.64 24673829.29\n2018-12-31 137.53 140.49 134.81 137.16 29409802.58",
      "text/html": "<div>\n<style scoped>\n    .dataframe tbody tr th:only-of-type {\n        vertical-align: middle;\n    }\n\n    .dataframe tbody tr th {\n        vertical-align: top;\n    }\n\n    .dataframe thead th {\n        text-align: right;\n    }\n</style>\n<table border=\"1\" class=\"dataframe\">\n  <thead>\n    <tr style=\"text-align: right;\">\n      <th></th>\n      <th>open</th>\n      <th>high</th>\n      <th>low</th>\n      <th>close</th>\n      <th>volume</th>\n    </tr>\n    <tr>\n      <th>date</th>\n      <th></th>\n      <th></th>\n      <th></th>\n      <th></th>\n      <th></th>\n    </tr>\n  </thead>\n  <tbody>\n    <tr>\n      <th>2018-01-31</th>\n      <td>184.36</td>\n      <td>186.21</td>\n      <td>182.92</td>\n      <td>184.96</td>\n      <td>23602654.10</td>\n    </tr>\n    <tr>\n      <th>2018-02-28</th>\n      <td>180.72</td>\n      <td>183.13</td>\n      <td>177.76</td>\n      <td>180.27</td>\n      <td>27190631.11</td>\n    </tr>\n    <tr>\n      <th>2018-03-31</th>\n      <td>173.45</td>\n      <td>176.17</td>\n      <td>170.51</td>\n      <td>173.49</td>\n      <td>47439641.52</td>\n    </tr>\n    <tr>\n      <th>2018-04-30</th>\n      <td>164.16</td>\n      <td>166.09</td>\n      <td>161.55</td>\n      <td>163.81</td>\n      <td>35768113.71</td>\n    </tr>\n    <tr>\n      <th>2018-05-31</th>\n      <td>181.91</td>\n      <td>183.87</td>\n      <td>180.95</td>\n      <td>182.93</td>\n      <td>18233826.50</td>\n    </tr>\n    <tr>\n      <th>2018-06-30</th>\n      <td>194.97</td>\n      <td>196.80</td>\n      <td>193.18</td>\n      <td>195.27</td>\n      <td>18441226.90</td>\n    </tr>\n    <tr>\n      <th>2018-07-31</th>\n      <td>199.33</td>\n      <td>201.60</td>\n      <td>197.50</td>\n      <td>199.97</td>\n      <td>31083964.71</td>\n    </tr>\n    <tr>\n      <th>2018-08-31</th>\n      <td>177.60</td>\n      <td>179.43</td>\n      <td>175.68</td>\n      <td>177.49</td>\n      <td>23870295.17</td>\n    </tr>\n    <tr>\n      <th>2018-09-30</th>\n      <td>164.23</td>\n      <td>166.40</td>\n      <td>162.42</td>\n      <td>164.38</td>\n      <td>26340469.05</td>\n    </tr>\n    <tr>\n      <th>2018-10-31</th>\n      <td>154.87</td>\n      <td>157.12</td>\n      <td>152.10</td>\n      <td>154.19</td>\n      <td>27062879.78</td>\n    </tr>\n    <tr>\n      <th>2018-11-30</th>\n      <td>141.76</td>\n      <td>143.66</td>\n      <td>139.59</td>\n      <td>141.64</td>\n      <td>24673829.29</td>\n    </tr>\n    <tr>\n      <th>2018-12-31</th>\n      <td>137.53</td>\n      <td>140.49</td>\n      <td>134.81</td>\n      <td>137.16</td>\n      <td>29409802.58</td>\n    </tr>\n  </tbody>\n</table>\n</div>"
     },
     "execution_count": 254,
     "metadata": {},
     "output_type": "execute_result"
    }
   ],
   "source": [
    "# What does \"monthly\" look like?\n",
    "fb.resample('M').mean()"
   ],
   "metadata": {
    "collapsed": false
   }
  },
  {
   "cell_type": "code",
   "execution_count": 255,
   "outputs": [
    {
     "data": {
      "text/plain": "             open   high    low  close      volume\ndate                                              \n2018-03-31    NaN    NaN    NaN    NaN         NaN\n2018-06-30   0.90   0.48   1.56   1.15 -8871078.95\n2018-09-30   0.44   0.61   0.36   0.32  2964507.01\n2018-12-31 -35.54 -35.27 -36.24 -36.16   -45493.03",
      "text/html": "<div>\n<style scoped>\n    .dataframe tbody tr th:only-of-type {\n        vertical-align: middle;\n    }\n\n    .dataframe tbody tr th {\n        vertical-align: top;\n    }\n\n    .dataframe thead th {\n        text-align: right;\n    }\n</style>\n<table border=\"1\" class=\"dataframe\">\n  <thead>\n    <tr style=\"text-align: right;\">\n      <th></th>\n      <th>open</th>\n      <th>high</th>\n      <th>low</th>\n      <th>close</th>\n      <th>volume</th>\n    </tr>\n    <tr>\n      <th>date</th>\n      <th></th>\n      <th></th>\n      <th></th>\n      <th></th>\n      <th></th>\n    </tr>\n  </thead>\n  <tbody>\n    <tr>\n      <th>2018-03-31</th>\n      <td>NaN</td>\n      <td>NaN</td>\n      <td>NaN</td>\n      <td>NaN</td>\n      <td>NaN</td>\n    </tr>\n    <tr>\n      <th>2018-06-30</th>\n      <td>0.90</td>\n      <td>0.48</td>\n      <td>1.56</td>\n      <td>1.15</td>\n      <td>-8871078.95</td>\n    </tr>\n    <tr>\n      <th>2018-09-30</th>\n      <td>0.44</td>\n      <td>0.61</td>\n      <td>0.36</td>\n      <td>0.32</td>\n      <td>2964507.01</td>\n    </tr>\n    <tr>\n      <th>2018-12-31</th>\n      <td>-35.54</td>\n      <td>-35.27</td>\n      <td>-36.24</td>\n      <td>-36.16</td>\n      <td>-45493.03</td>\n    </tr>\n  </tbody>\n</table>\n</div>"
     },
     "execution_count": 255,
     "metadata": {},
     "output_type": "execute_result"
    }
   ],
   "source": [
    "# How does this play with .diff()?\n",
    "fb.resample('Q').mean().diff()"
   ],
   "metadata": {
    "collapsed": false
   }
  },
  {
   "cell_type": "code",
   "execution_count": 256,
   "outputs": [
    {
     "data": {
      "text/plain": "date\n2018-03-31    [[-22.53, -20.160000000000025, -23.41000000000...\n2018-06-30    [[39.50999999999999, 38.399700000000024, 39.84...\n2018-09-30    [[-25.039999999999992, -28.659999999999997, -2...\n2018-12-31    [[-28.580000000000013, -31.24000000000001, -31...\nFreq: Q-DEC, dtype: object"
     },
     "execution_count": 256,
     "metadata": {},
     "output_type": "execute_result"
    }
   ],
   "source": [
    "# Look at the difference between how a quarter began and ended\n",
    "fb.drop(columns='trading_volume').resample('Q').apply(\n",
    "    lambda x: x.last('1D').values - x.first('1D').values\n",
    ")"
   ],
   "metadata": {
    "collapsed": false
   }
  },
  {
   "cell_type": "code",
   "execution_count": 257,
   "outputs": [
    {
     "data": {
      "text/plain": "                     price\ndate                      \n2019-05-20 09:30:00 181.62\n2019-05-20 09:31:00 182.61\n2019-05-20 09:32:00 182.75\n2019-05-20 09:33:00 182.95\n2019-05-20 09:34:00 183.06",
      "text/html": "<div>\n<style scoped>\n    .dataframe tbody tr th:only-of-type {\n        vertical-align: middle;\n    }\n\n    .dataframe tbody tr th {\n        vertical-align: top;\n    }\n\n    .dataframe thead th {\n        text-align: right;\n    }\n</style>\n<table border=\"1\" class=\"dataframe\">\n  <thead>\n    <tr style=\"text-align: right;\">\n      <th></th>\n      <th>price</th>\n    </tr>\n    <tr>\n      <th>date</th>\n      <th></th>\n    </tr>\n  </thead>\n  <tbody>\n    <tr>\n      <th>2019-05-20 09:30:00</th>\n      <td>181.62</td>\n    </tr>\n    <tr>\n      <th>2019-05-20 09:31:00</th>\n      <td>182.61</td>\n    </tr>\n    <tr>\n      <th>2019-05-20 09:32:00</th>\n      <td>182.75</td>\n    </tr>\n    <tr>\n      <th>2019-05-20 09:33:00</th>\n      <td>182.95</td>\n    </tr>\n    <tr>\n      <th>2019-05-20 09:34:00</th>\n      <td>183.06</td>\n    </tr>\n  </tbody>\n</table>\n</div>"
     },
     "execution_count": 257,
     "metadata": {},
     "output_type": "execute_result"
    }
   ],
   "source": [
    "melted_stock_data = pd.read_csv('book_code/ch_04/data/melted_stock_data.csv', index_col='date', parse_dates=True)\n",
    "melted_stock_data.head()"
   ],
   "metadata": {
    "collapsed": false
   }
  },
  {
   "cell_type": "code",
   "execution_count": 258,
   "outputs": [
    {
     "data": {
      "text/plain": "             open   high    low  close\ndate                                  \n2019-05-20 181.62 184.18 181.62 182.72\n2019-05-21 184.53 185.58 183.97 184.82\n2019-05-22 184.81 186.56 184.01 185.32\n2019-05-23 182.50 183.73 179.76 180.87\n2019-05-24 182.33 183.52 181.04 181.06",
      "text/html": "<div>\n<style scoped>\n    .dataframe tbody tr th:only-of-type {\n        vertical-align: middle;\n    }\n\n    .dataframe tbody tr th {\n        vertical-align: top;\n    }\n\n    .dataframe thead th {\n        text-align: right;\n    }\n</style>\n<table border=\"1\" class=\"dataframe\">\n  <thead>\n    <tr style=\"text-align: right;\">\n      <th></th>\n      <th>open</th>\n      <th>high</th>\n      <th>low</th>\n      <th>close</th>\n    </tr>\n    <tr>\n      <th>date</th>\n      <th></th>\n      <th></th>\n      <th></th>\n      <th></th>\n    </tr>\n  </thead>\n  <tbody>\n    <tr>\n      <th>2019-05-20</th>\n      <td>181.62</td>\n      <td>184.18</td>\n      <td>181.62</td>\n      <td>182.72</td>\n    </tr>\n    <tr>\n      <th>2019-05-21</th>\n      <td>184.53</td>\n      <td>185.58</td>\n      <td>183.97</td>\n      <td>184.82</td>\n    </tr>\n    <tr>\n      <th>2019-05-22</th>\n      <td>184.81</td>\n      <td>186.56</td>\n      <td>184.01</td>\n      <td>185.32</td>\n    </tr>\n    <tr>\n      <th>2019-05-23</th>\n      <td>182.50</td>\n      <td>183.73</td>\n      <td>179.76</td>\n      <td>180.87</td>\n    </tr>\n    <tr>\n      <th>2019-05-24</th>\n      <td>182.33</td>\n      <td>183.52</td>\n      <td>181.04</td>\n      <td>181.06</td>\n    </tr>\n  </tbody>\n</table>\n</div>"
     },
     "execution_count": 258,
     "metadata": {},
     "output_type": "execute_result"
    }
   ],
   "source": [
    "# The Resampler from `resample()` has an `.ohlc()` method to handle data like the melted stock data.\n",
    "ohlc_data = melted_stock_data.resample('1D').ohlc()['price']\n",
    "ohlc_data.head()"
   ],
   "metadata": {
    "collapsed": false
   }
  },
  {
   "cell_type": "code",
   "execution_count": 259,
   "outputs": [
    {
     "data": {
      "text/plain": "                      open   high    low  close      volume trading_volume\ndate                                                                      \n2018-01-02 00:00:00 177.68 181.58 177.55 181.42 18151903.00            low\n2018-01-02 06:00:00    NaN    NaN    NaN    NaN         NaN            NaN\n2018-01-02 12:00:00    NaN    NaN    NaN    NaN         NaN            NaN\n2018-01-02 18:00:00    NaN    NaN    NaN    NaN         NaN            NaN\n2018-01-03 00:00:00 181.88 184.78 181.33 184.67 16886563.00            low",
      "text/html": "<div>\n<style scoped>\n    .dataframe tbody tr th:only-of-type {\n        vertical-align: middle;\n    }\n\n    .dataframe tbody tr th {\n        vertical-align: top;\n    }\n\n    .dataframe thead th {\n        text-align: right;\n    }\n</style>\n<table border=\"1\" class=\"dataframe\">\n  <thead>\n    <tr style=\"text-align: right;\">\n      <th></th>\n      <th>open</th>\n      <th>high</th>\n      <th>low</th>\n      <th>close</th>\n      <th>volume</th>\n      <th>trading_volume</th>\n    </tr>\n    <tr>\n      <th>date</th>\n      <th></th>\n      <th></th>\n      <th></th>\n      <th></th>\n      <th></th>\n      <th></th>\n    </tr>\n  </thead>\n  <tbody>\n    <tr>\n      <th>2018-01-02 00:00:00</th>\n      <td>177.68</td>\n      <td>181.58</td>\n      <td>177.55</td>\n      <td>181.42</td>\n      <td>18151903.00</td>\n      <td>low</td>\n    </tr>\n    <tr>\n      <th>2018-01-02 06:00:00</th>\n      <td>NaN</td>\n      <td>NaN</td>\n      <td>NaN</td>\n      <td>NaN</td>\n      <td>NaN</td>\n      <td>NaN</td>\n    </tr>\n    <tr>\n      <th>2018-01-02 12:00:00</th>\n      <td>NaN</td>\n      <td>NaN</td>\n      <td>NaN</td>\n      <td>NaN</td>\n      <td>NaN</td>\n      <td>NaN</td>\n    </tr>\n    <tr>\n      <th>2018-01-02 18:00:00</th>\n      <td>NaN</td>\n      <td>NaN</td>\n      <td>NaN</td>\n      <td>NaN</td>\n      <td>NaN</td>\n      <td>NaN</td>\n    </tr>\n    <tr>\n      <th>2018-01-03 00:00:00</th>\n      <td>181.88</td>\n      <td>184.78</td>\n      <td>181.33</td>\n      <td>184.67</td>\n      <td>16886563.00</td>\n      <td>low</td>\n    </tr>\n  </tbody>\n</table>\n</div>"
     },
     "execution_count": 259,
     "metadata": {},
     "output_type": "execute_result"
    }
   ],
   "source": [
    "# Upsample the data to increase granularity. NaNs can be handled in several ways, covered in the example notebook. `.pad()` can also be used to forward-fill.\n",
    "fb.resample('6h').asfreq().head()"
   ],
   "metadata": {
    "collapsed": false
   }
  },
  {
   "cell_type": "markdown",
   "source": [
    "### Merging"
   ],
   "metadata": {
    "collapsed": false
   }
  },
  {
   "cell_type": "code",
   "execution_count": 260,
   "outputs": [],
   "source": [
    "import sqlite3\n",
    "\n",
    "with sqlite3.connect('book_code/ch_04/data/stocks.db') as connection:\n",
    "    fb_prices = pd.read_sql(\n",
    "        'SELECT * FROM fb_prices', connection,\n",
    "        index_col='date', parse_dates=['date']\n",
    "    )\n",
    "    aapl_prices = pd.read_sql(\n",
    "        'SELECT * FROM aapl_prices', connection,\n",
    "        index_col='date', parse_dates=['date']\n",
    "    )"
   ],
   "metadata": {
    "collapsed": false
   }
  },
  {
   "cell_type": "code",
   "execution_count": 261,
   "outputs": [
    {
     "data": {
      "text/plain": "Int64Index([0], dtype='int64', name='date')"
     },
     "execution_count": 261,
     "metadata": {},
     "output_type": "execute_result"
    }
   ],
   "source": [
    "fb_prices.index.second.unique()"
   ],
   "metadata": {
    "collapsed": false
   }
  },
  {
   "cell_type": "code",
   "execution_count": 262,
   "outputs": [
    {
     "data": {
      "text/plain": "Int64Index([ 0, 52, 36, 34, 55, 35,  7, 12, 59, 17,  5, 20, 26, 23, 54, 49, 19,\n            53, 11, 22, 13, 21, 10, 46, 42, 38, 33, 18, 16,  9, 56, 39,  2, 50,\n            31, 58, 48, 24, 29,  6, 47, 51, 40,  3, 15, 14, 25,  4, 43,  8, 32,\n            27, 30, 45,  1, 44, 57, 41, 37, 28],\n           dtype='int64', name='date')"
     },
     "execution_count": 262,
     "metadata": {},
     "output_type": "execute_result"
    }
   ],
   "source": [
    "aapl_prices.index.second.unique()"
   ],
   "metadata": {
    "collapsed": false
   }
  },
  {
   "cell_type": "code",
   "execution_count": 263,
   "outputs": [
    {
     "data": {
      "text/plain": "                        FB   AAPL\ndate                             \n2019-05-20 09:30:00 181.62 183.52\n2019-05-20 09:31:00 182.61    NaN\n2019-05-20 09:32:00 182.75 182.87\n2019-05-20 09:33:00 182.95 182.50\n2019-05-20 09:34:00 183.06 182.11",
      "text/html": "<div>\n<style scoped>\n    .dataframe tbody tr th:only-of-type {\n        vertical-align: middle;\n    }\n\n    .dataframe tbody tr th {\n        vertical-align: top;\n    }\n\n    .dataframe thead th {\n        text-align: right;\n    }\n</style>\n<table border=\"1\" class=\"dataframe\">\n  <thead>\n    <tr style=\"text-align: right;\">\n      <th></th>\n      <th>FB</th>\n      <th>AAPL</th>\n    </tr>\n    <tr>\n      <th>date</th>\n      <th></th>\n      <th></th>\n    </tr>\n  </thead>\n  <tbody>\n    <tr>\n      <th>2019-05-20 09:30:00</th>\n      <td>181.62</td>\n      <td>183.52</td>\n    </tr>\n    <tr>\n      <th>2019-05-20 09:31:00</th>\n      <td>182.61</td>\n      <td>NaN</td>\n    </tr>\n    <tr>\n      <th>2019-05-20 09:32:00</th>\n      <td>182.75</td>\n      <td>182.87</td>\n    </tr>\n    <tr>\n      <th>2019-05-20 09:33:00</th>\n      <td>182.95</td>\n      <td>182.50</td>\n    </tr>\n    <tr>\n      <th>2019-05-20 09:34:00</th>\n      <td>183.06</td>\n      <td>182.11</td>\n    </tr>\n  </tbody>\n</table>\n</div>"
     },
     "execution_count": 263,
     "metadata": {},
     "output_type": "execute_result"
    }
   ],
   "source": [
    "# Merges based on nearest timestamp.\n",
    "pd.merge_asof(\n",
    "    fb_prices, aapl_prices,\n",
    "    left_index=True, right_index=True,\n",
    "    direction='nearest', tolerance=pd.Timedelta(30, unit='s')\n",
    ").head()"
   ],
   "metadata": {
    "collapsed": false
   }
  },
  {
   "cell_type": "code",
   "execution_count": 264,
   "outputs": [
    {
     "data": {
      "text/plain": "                        FB   AAPL\ndate                             \n2019-05-20 09:30:00 181.62 183.52\n2019-05-20 09:31:00 182.61    NaN\n2019-05-20 09:31:52    NaN 182.87\n2019-05-20 09:32:00 182.75    NaN\n2019-05-20 09:32:36    NaN 182.50",
      "text/html": "<div>\n<style scoped>\n    .dataframe tbody tr th:only-of-type {\n        vertical-align: middle;\n    }\n\n    .dataframe tbody tr th {\n        vertical-align: top;\n    }\n\n    .dataframe thead th {\n        text-align: right;\n    }\n</style>\n<table border=\"1\" class=\"dataframe\">\n  <thead>\n    <tr style=\"text-align: right;\">\n      <th></th>\n      <th>FB</th>\n      <th>AAPL</th>\n    </tr>\n    <tr>\n      <th>date</th>\n      <th></th>\n      <th></th>\n    </tr>\n  </thead>\n  <tbody>\n    <tr>\n      <th>2019-05-20 09:30:00</th>\n      <td>181.62</td>\n      <td>183.52</td>\n    </tr>\n    <tr>\n      <th>2019-05-20 09:31:00</th>\n      <td>182.61</td>\n      <td>NaN</td>\n    </tr>\n    <tr>\n      <th>2019-05-20 09:31:52</th>\n      <td>NaN</td>\n      <td>182.87</td>\n    </tr>\n    <tr>\n      <th>2019-05-20 09:32:00</th>\n      <td>182.75</td>\n      <td>NaN</td>\n    </tr>\n    <tr>\n      <th>2019-05-20 09:32:36</th>\n      <td>NaN</td>\n      <td>182.50</td>\n    </tr>\n  </tbody>\n</table>\n</div>"
     },
     "execution_count": 264,
     "metadata": {},
     "output_type": "execute_result"
    }
   ],
   "source": [
    "# Gives NaNs for inexact matches but keeps exact timestamps.\n",
    "pd.merge_ordered(\n",
    "    fb_prices.reset_index(), aapl_prices.reset_index()\n",
    ").set_index('date').head()"
   ],
   "metadata": {
    "collapsed": false
   }
  },
  {
   "cell_type": "markdown",
   "source": [
    "## Messing around"
   ],
   "metadata": {
    "collapsed": false
   }
  },
  {
   "cell_type": "code",
   "execution_count": 273,
   "outputs": [],
   "source": [
    "fb_six_hours = fb.sort_values(by='open').groupby(pd.Grouper(freq='6H')).count()"
   ],
   "metadata": {
    "collapsed": false
   }
  },
  {
   "cell_type": "code",
   "execution_count": 270,
   "outputs": [],
   "source": [
    "#"
   ],
   "metadata": {
    "collapsed": false
   }
  }
 ],
 "metadata": {
  "kernelspec": {
   "display_name": "Python 3",
   "language": "python",
   "name": "python3"
  },
  "language_info": {
   "codemirror_mode": {
    "name": "ipython",
    "version": 2
   },
   "file_extension": ".py",
   "mimetype": "text/x-python",
   "name": "python",
   "nbconvert_exporter": "python",
   "pygments_lexer": "ipython2",
   "version": "2.7.6"
  }
 },
 "nbformat": 4,
 "nbformat_minor": 0
}
