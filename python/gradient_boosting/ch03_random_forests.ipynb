{
 "cells": [
  {
   "cell_type": "markdown",
   "metadata": {},
   "source": [
    "# Bagging with Random Forests"
   ]
  },
  {
   "cell_type": "markdown",
   "metadata": {},
   "source": [
    "## Bagging ensembles\n",
    "Ensemble models aggregate the results of multiple machine models, making them superior to individual models because they are less prone to error. Ensemble methods are generally classified into two types. The first type combines different machine learning models as chosen by the user. The second type, such as XGBoost and random forests, combines many versions of the same model. The overall accuracy of ensemble methods tend to be higher than individual models, but they are more computationally expensive and take longer to train.\n",
    "\n",
    "Bootstrap aggregation, or bagging, is a method of combining multiple machine learning models to reduce variance. Bagging is a special case of the model averaging approach. In bagging, the same machine learning algorithm is trained many times using different subsets (with replacement) sampled from the training data. The final output is averaged across the predictions of all of the sub-models. Bagging can be used to reduce the variance of a model. It also reduces the chance of overfitting, since it is not as sensitive to small changes in the training data. Random forests aggregate the predictions of bootstrapped decision trees."
   ]
  },
  {
   "cell_type": "markdown",
   "metadata": {},
   "source": [
    "## Exploring random forests"
   ]
  },
  {
   "cell_type": "code",
   "execution_count": 38,
   "metadata": {},
   "outputs": [],
   "source": [
    "# Use a random forest classifier to predict whether a user makes more or less than $50,000 USD using census data.\n",
    "import pandas as pd\n",
    "import numpy as np\n",
    "from sklearn.ensemble import RandomForestClassifier\n",
    "from sklearn.model_selection import cross_val_score\n",
    "import warnings\n",
    "warnings.filterwarnings('ignore')"
   ]
  },
  {
   "cell_type": "code",
   "execution_count": 39,
   "metadata": {},
   "outputs": [],
   "source": [
    "df_census = pd.read_csv('census_cleaned.csv')\n",
    "X_census = df_census.iloc[:, :-1]\n",
    "y_census = df_census.iloc[:, -1]"
   ]
  },
  {
   "cell_type": "code",
   "execution_count": 40,
   "metadata": {},
   "outputs": [],
   "source": [
    "# Initialize a Random Forest classifier with 10 estimators\n",
    "rf = RandomForestClassifier(n_estimators=10, random_state=2, n_jobs=-1)\n",
    "scores = cross_val_score(rf, X_census, y_census, cv=5)"
   ]
  },
  {
   "cell_type": "code",
   "execution_count": 41,
   "metadata": {},
   "outputs": [
    {
     "name": "stdout",
     "output_type": "stream",
     "text": [
      "Accuracy: [0.851 0.844 0.851 0.852 0.851]\n",
      "Accuracy mean: 0.850\n"
     ]
    }
   ],
   "source": [
    "print('Accuracy:', np.round(scores, 3))\n",
    "print('Accuracy mean: %0.3f' % (scores.mean()))"
   ]
  },
  {
   "cell_type": "markdown",
   "metadata": {},
   "source": [
    "The bagging method described in the previous section probably explains why the random forest performs better than the decision tree in the previous chapter. (86% vs. 81%) The bootstrapped trees increase the diversity of the training set and then aggregated. Random forests also work with regression."
   ]
  },
  {
   "cell_type": "code",
   "execution_count": 42,
   "metadata": {},
   "outputs": [
    {
     "data": {
      "text/html": [
       "<div>\n",
       "<style scoped>\n",
       "    .dataframe tbody tr th:only-of-type {\n",
       "        vertical-align: middle;\n",
       "    }\n",
       "\n",
       "    .dataframe tbody tr th {\n",
       "        vertical-align: top;\n",
       "    }\n",
       "\n",
       "    .dataframe thead th {\n",
       "        text-align: right;\n",
       "    }\n",
       "</style>\n",
       "<table border=\"1\" class=\"dataframe\">\n",
       "  <thead>\n",
       "    <tr style=\"text-align: right;\">\n",
       "      <th></th>\n",
       "      <th>instant</th>\n",
       "      <th>season</th>\n",
       "      <th>yr</th>\n",
       "      <th>mnth</th>\n",
       "      <th>holiday</th>\n",
       "      <th>weekday</th>\n",
       "      <th>workingday</th>\n",
       "      <th>weathersit</th>\n",
       "      <th>temp</th>\n",
       "      <th>atemp</th>\n",
       "      <th>hum</th>\n",
       "      <th>windspeed</th>\n",
       "      <th>cnt</th>\n",
       "    </tr>\n",
       "  </thead>\n",
       "  <tbody>\n",
       "    <tr>\n",
       "      <th>0</th>\n",
       "      <td>1</td>\n",
       "      <td>1.0</td>\n",
       "      <td>0.0</td>\n",
       "      <td>1.0</td>\n",
       "      <td>0.0</td>\n",
       "      <td>6.0</td>\n",
       "      <td>0.0</td>\n",
       "      <td>2</td>\n",
       "      <td>0.344167</td>\n",
       "      <td>0.363625</td>\n",
       "      <td>0.805833</td>\n",
       "      <td>0.160446</td>\n",
       "      <td>985</td>\n",
       "    </tr>\n",
       "    <tr>\n",
       "      <th>1</th>\n",
       "      <td>2</td>\n",
       "      <td>1.0</td>\n",
       "      <td>0.0</td>\n",
       "      <td>1.0</td>\n",
       "      <td>0.0</td>\n",
       "      <td>0.0</td>\n",
       "      <td>0.0</td>\n",
       "      <td>2</td>\n",
       "      <td>0.363478</td>\n",
       "      <td>0.353739</td>\n",
       "      <td>0.696087</td>\n",
       "      <td>0.248539</td>\n",
       "      <td>801</td>\n",
       "    </tr>\n",
       "    <tr>\n",
       "      <th>2</th>\n",
       "      <td>3</td>\n",
       "      <td>1.0</td>\n",
       "      <td>0.0</td>\n",
       "      <td>1.0</td>\n",
       "      <td>0.0</td>\n",
       "      <td>1.0</td>\n",
       "      <td>1.0</td>\n",
       "      <td>1</td>\n",
       "      <td>0.196364</td>\n",
       "      <td>0.189405</td>\n",
       "      <td>0.437273</td>\n",
       "      <td>0.248309</td>\n",
       "      <td>1349</td>\n",
       "    </tr>\n",
       "    <tr>\n",
       "      <th>3</th>\n",
       "      <td>4</td>\n",
       "      <td>1.0</td>\n",
       "      <td>0.0</td>\n",
       "      <td>1.0</td>\n",
       "      <td>0.0</td>\n",
       "      <td>2.0</td>\n",
       "      <td>1.0</td>\n",
       "      <td>1</td>\n",
       "      <td>0.200000</td>\n",
       "      <td>0.212122</td>\n",
       "      <td>0.590435</td>\n",
       "      <td>0.160296</td>\n",
       "      <td>1562</td>\n",
       "    </tr>\n",
       "    <tr>\n",
       "      <th>4</th>\n",
       "      <td>5</td>\n",
       "      <td>1.0</td>\n",
       "      <td>0.0</td>\n",
       "      <td>1.0</td>\n",
       "      <td>0.0</td>\n",
       "      <td>3.0</td>\n",
       "      <td>1.0</td>\n",
       "      <td>1</td>\n",
       "      <td>0.226957</td>\n",
       "      <td>0.229270</td>\n",
       "      <td>0.436957</td>\n",
       "      <td>0.186900</td>\n",
       "      <td>1600</td>\n",
       "    </tr>\n",
       "  </tbody>\n",
       "</table>\n",
       "</div>"
      ],
      "text/plain": [
       "   instant  season   yr  mnth  holiday  weekday  workingday  weathersit  \\\n",
       "0        1     1.0  0.0   1.0      0.0      6.0         0.0           2   \n",
       "1        2     1.0  0.0   1.0      0.0      0.0         0.0           2   \n",
       "2        3     1.0  0.0   1.0      0.0      1.0         1.0           1   \n",
       "3        4     1.0  0.0   1.0      0.0      2.0         1.0           1   \n",
       "4        5     1.0  0.0   1.0      0.0      3.0         1.0           1   \n",
       "\n",
       "       temp     atemp       hum  windspeed   cnt  \n",
       "0  0.344167  0.363625  0.805833   0.160446   985  \n",
       "1  0.363478  0.353739  0.696087   0.248539   801  \n",
       "2  0.196364  0.189405  0.437273   0.248309  1349  \n",
       "3  0.200000  0.212122  0.590435   0.160296  1562  \n",
       "4  0.226957  0.229270  0.436957   0.186900  1600  "
      ]
     },
     "execution_count": 42,
     "metadata": {},
     "output_type": "execute_result"
    }
   ],
   "source": [
    "df_bikes = pd.read_csv('bike_rentals_cleaned.csv')\n",
    "df_bikes.head()"
   ]
  },
  {
   "cell_type": "code",
   "execution_count": 43,
   "metadata": {},
   "outputs": [],
   "source": [
    "X_bikes = df_bikes.iloc[:, :-1]\n",
    "y_bikes = df_bikes.iloc[:, -1]"
   ]
  },
  {
   "cell_type": "code",
   "execution_count": 44,
   "metadata": {},
   "outputs": [
    {
     "name": "stdout",
     "output_type": "stream",
     "text": [
      "RMSE: [ 801.486  579.987  551.347  846.698  895.05  1097.522  893.738  809.284\n",
      "  833.488 2145.046]\n",
      "RMSE mean: 945.365\n"
     ]
    }
   ],
   "source": [
    "# Import the regressor and initialize it with the same default hyperparameters\n",
    "from sklearn.ensemble import RandomForestRegressor\n",
    "rf = RandomForestRegressor(n_estimators=10, random_state=2, n_jobs=-1)\n",
    "\n",
    "# Use cross_val_score to calculate the MSE for 10-fold CV\n",
    "scores = cross_val_score(rf, X_bikes, y_bikes, scoring='neg_mean_squared_error', cv=10)\n",
    "                         \n",
    "# Find and display the RMSE\n",
    "rmse = np.sqrt(-scores)\n",
    "print('RMSE:', np.round(rmse, 3))\n",
    "print('RMSE mean: %0.3f' % (rmse.mean()))"
   ]
  },
  {
   "cell_type": "markdown",
   "metadata": {},
   "source": [
    "## Random forest hyperparameters\n",
    "`oob_score` is a boolean that tells the random forest whether to use out-of-bag samples to estimate the R^2 on unseen data. "
   ]
  },
  {
   "cell_type": "code",
   "execution_count": 45,
   "metadata": {},
   "outputs": [
    {
     "data": {
      "text/plain": [
       "0.8343109855348423"
      ]
     },
     "execution_count": 45,
     "metadata": {},
     "output_type": "execute_result"
    }
   ],
   "source": [
    "# Initialize a Random Forest classifier with 10 estimators and oob_score=True\n",
    "# 10 is probably not enough estimators to maximize accuracy, but oob_score=True is a good way to see how well the model is doing\n",
    "rf = RandomForestClassifier(n_estimators=10, random_state=2, n_jobs=-1, oob_score=True)\n",
    "rf.fit(X_census, y_census)\n",
    "rf.oob_score_"
   ]
  },
  {
   "cell_type": "code",
   "execution_count": 46,
   "metadata": {},
   "outputs": [
    {
     "data": {
      "text/plain": [
       "0.8518780135745216"
      ]
     },
     "execution_count": 46,
     "metadata": {},
     "output_type": "execute_result"
    }
   ],
   "source": [
    "# Let's look at a larger number of estimators\n",
    "rf = RandomForestClassifier(n_estimators=50, random_state=2, n_jobs=-1, oob_score=True)\n",
    "rf.fit(X_census, y_census)\n",
    "rf.oob_score_"
   ]
  },
  {
   "cell_type": "code",
   "execution_count": 47,
   "metadata": {},
   "outputs": [
    {
     "data": {
      "text/plain": [
       "0.8551334418476091"
      ]
     },
     "execution_count": 47,
     "metadata": {},
     "output_type": "execute_result"
    }
   ],
   "source": [
    "# And even more estimators\n",
    "rf = RandomForestClassifier(n_estimators=100, random_state=2, n_jobs=-1, oob_score=True)\n",
    "rf.fit(X_census, y_census)\n",
    "rf.oob_score_"
   ]
  },
  {
   "cell_type": "code",
   "execution_count": 48,
   "metadata": {},
   "outputs": [
    {
     "data": {
      "image/png": "[encoded data removed]",
      "text/plain": [
       "<Figure size 1500x700 with 1 Axes>"
      ]
     },
     "metadata": {},
     "output_type": "display_data"
    }
   ],
   "source": [
    "# warm_start allows us to add more trees without starting over from scratch\n",
    "import matplotlib.pyplot as plt\n",
    "import seaborn as sns\n",
    "sns.set()\n",
    "\n",
    "# Initialize an empty set of scores and a random forest classifier with 50 estimators\n",
    "oob_scores = []\n",
    "rf = RandomForestClassifier(n_estimators=50, random_state=2, n_jobs=-1, warm_start=True, oob_score=True)\n",
    "\n",
    "# Fit rf and append the oob_score to oob_scores\n",
    "rf.fit(X_census, y_census)\n",
    "oob_scores.append(rf.oob_score_)\n",
    "\n",
    "# Prepare a list of estimators that contains the number of trees starting with 50\n",
    "est = 50\n",
    "estimators = [est]\n",
    "\n",
    "for i in range(9):\n",
    "    est += 50\n",
    "    estimators.append(est)\n",
    "    rf.set_params(n_estimators=est)\n",
    "    rf.fit(X_census, y_census)\n",
    "    oob_scores.append(rf.oob_score_)\n",
    "\n",
    "# Plot the estimators and oob_scores\n",
    "plt.figure(figsize=(15,7))\n",
    "plt.plot(estimators, oob_scores)\n",
    "plt.xlabel('Number of Trees')\n",
    "plt.ylabel('oob_score_')\n",
    "plt.title('Random Forest Warm Start', fontsize=15)\n",
    "plt.savefig('Random_Forest_Warm_Start', dpi=325)\n",
    "plt.show()"
   ]
  },
  {
   "cell_type": "markdown",
   "metadata": {},
   "source": [
    "## Pushing random forest boundaries: case study\n",
    "We previously implemented a random forest regressor with CV to obtain an RMSE of 945. The goal is to modify the random forest to obtain the lowest error score possible."
   ]
  },
  {
   "cell_type": "code",
   "execution_count": 49,
   "metadata": {},
   "outputs": [],
   "source": [
    "# Prepare the dataset\n",
    "from sklearn.model_selection import train_test_split\n",
    "X_train, X_test, y_train, y_test = train_test_split(X_bikes, y_bikes, test_size=0.3, random_state=2)"
   ]
  },
  {
   "cell_type": "code",
   "execution_count": 50,
   "metadata": {},
   "outputs": [
    {
     "name": "stdout",
     "output_type": "stream",
     "text": [
      "RMSE: [ 836.482  541.898  533.086  812.782  894.877  881.117  794.103  828.968\n",
      "  772.517 2128.148]\n",
      "RMSE mean: 902.398\n"
     ]
    }
   ],
   "source": [
    "# Initialize a Random Forest regressor with 50 estimators\n",
    "rf = RandomForestRegressor(n_estimators=50, warm_start=True, random_state=2, n_jobs=-1)\n",
    "\n",
    "# Score the model using cross_val_score\n",
    "score = cross_val_score(rf, X_bikes, y_bikes, scoring='neg_mean_squared_error', cv=10)\n",
    "\n",
    "# Find the RMSE\n",
    "rmse = np.sqrt(-score)\n",
    "\n",
    "# Print the RMSE and RMSE averages\n",
    "print('RMSE:', np.round(rmse, 3))\n",
    "print('RMSE mean: %0.3f' % (rmse.mean()))"
   ]
  },
  {
   "cell_type": "code",
   "execution_count": 51,
   "metadata": {},
   "outputs": [],
   "source": [
    "# Fine-tune the hyperparameters using RandomizedSearchCV\n",
    "from sklearn.model_selection import RandomizedSearchCV\n",
    "def randomized_search_reg(params, runs=16, reg=RandomForestRegressor(random_state=2, n_jobs=-1)):\n",
    "    rand_reg = RandomizedSearchCV(reg, params, n_iter=runs, scoring='neg_mean_squared_error', n_jobs=-1, random_state=2, cv=10)\n",
    "    rand_reg.fit(X_train, y_train)\n",
    "    best_model = rand_reg.best_estimator_\n",
    "    best_params = rand_reg.best_params_\n",
    "    print('Best Parameters:', best_params)\n",
    "    best_score = np.sqrt(-rand_reg.best_score_)\n",
    "    print('Best Score:', np.round(best_score, 3))\n",
    "    y_pred = best_model.predict(X_test)\n",
    "    from sklearn.metrics import mean_squared_error as MSE\n",
    "    rmse_test = MSE(y_test, y_pred) ** 0.5\n",
    "    print('Test set score: {:.3f}'.format(rmse_test))"
   ]
  },
  {
   "cell_type": "code",
   "execution_count": 52,
   "metadata": {},
   "outputs": [
    {
     "name": "stdout",
     "output_type": "stream",
     "text": [
      "Best Parameters: {'min_weight_fraction_leaf': 0.0, 'min_samples_split': 0.03, 'min_samples_leaf': 6, 'min_impurity_decrease': 0.05, 'max_leaf_nodes': 25, 'max_features': 0.7, 'max_depth': None}\n",
      "Best Score: 767.55\n",
      "Test set score: 680.956\n"
     ]
    }
   ],
   "source": [
    "randomized_search_reg(params={'min_weight_fraction_leaf':[0.0,\n",
    "0.0025, 0.005, 0.0075, 0.01, 0.05],'min_samples_split':[2,\n",
    "0.01, 0.02, 0.03, 0.04, 0.06, 0.08, 0.1],'min_samples_leaf':[1,2,4,6,8,10,20,30],'min_impurity_decrease':[0.0, 0.01,\n",
    "0.05, 0.10, 0.15, 0.2],'max_leaf_nodes':[10, 15, 20, 25, 30,\n",
    "35, 40, 45, 50, None], 'max_features':['auto', 0.8, 0.7, 0.6,\n",
    "0.5, 0.4],'max_depth':[None,2,4,6,8,10,20]})"
   ]
  },
  {
   "cell_type": "code",
   "execution_count": 53,
   "metadata": {},
   "outputs": [
    {
     "name": "stdout",
     "output_type": "stream",
     "text": [
      "Best Parameters: {'min_samples_leaf': 1, 'min_impurity_decrease': 0.1, 'max_features': 0.6, 'max_depth': 10}\n",
      "Best Score: 691.015\n",
      "Test set score: 627.700\n"
     ]
    }
   ],
   "source": [
    "# Major improvement. Let's try again by narrowing the range.\n",
    "randomized_search_reg(\n",
    "    params={\n",
    "        \"min_samples_leaf\": [1, 2, 4, 6, 8, 10, 20, 30],\n",
    "        \"min_impurity_decrease\": [0.0, 0.01, 0.05, 0.10, 0.15, 0.2],\n",
    "        \"max_features\": [\"auto\", 0.8, 0.7, 0.6, 0.5, 0.4],\n",
    "        \"max_depth\": [None, 2, 4, 6, 8, 10, 20],\n",
    "    }\n",
    ")"
   ]
  },
  {
   "cell_type": "code",
   "execution_count": 54,
   "metadata": {},
   "outputs": [
    {
     "name": "stdout",
     "output_type": "stream",
     "text": [
      "Best Parameters: {'min_samples_leaf': 1, 'min_impurity_decrease': 0.1, 'max_features': 0.6, 'max_depth': 12}\n",
      "Best Score: 691.427\n",
      "Test set score: 609.638\n"
     ]
    }
   ],
   "source": [
    "# Increase the number of runs and give more options for max_depth\n",
    "randomized_search_reg(\n",
    "    params={\n",
    "        \"min_samples_leaf\": [1, 2, 4, 6, 8, 10, 20, 30],\n",
    "        \"min_impurity_decrease\": [0.0, 0.01, 0.05, 0.10, 0.15, 0.2],\n",
    "        \"max_features\": [\"auto\", 0.8, 0.7, 0.6, 0.5, 0.4],\n",
    "        \"max_depth\": [None, 4, 6, 8, 10, 12, 15, 20]\n",
    "    },\n",
    "    runs=20,\n",
    ")"
   ]
  },
  {
   "cell_type": "code",
   "execution_count": 55,
   "metadata": {},
   "outputs": [
    {
     "name": "stdout",
     "output_type": "stream",
     "text": [
      "Best Parameters: {'min_samples_leaf': 1, 'min_impurity_decrease': 0.05, 'max_features': 0.7, 'max_depth': 18}\n",
      "Best Score: 694.695\n",
      "Test set score: 626.058\n"
     ]
    }
   ],
   "source": [
    "# The score keeps improving. Narrow the ranges further.\n",
    "randomized_search_reg(\n",
    "    params={\n",
    "        'min_samples_leaf':[1, 2, 3, 4, 5, 6],\n",
    "        'min_impurity_decrease':[0.0, 0.01, 0.05, 0.08, 0.10, 0.12, 0.15], \n",
    "        'max_features':['auto', 0.8, 0.7, 0.6, 0.5, 0.4],\n",
    "        'max_depth':[None,8,10,12,14,16,18,20]})"
   ]
  },
  {
   "cell_type": "code",
   "execution_count": 56,
   "metadata": {},
   "outputs": [
    {
     "name": "stdout",
     "output_type": "stream",
     "text": [
      "Best Parameters: {'n_estimators': 100, 'min_samples_leaf': 1, 'min_impurity_decrease': 0.05, 'max_features': 0.7, 'max_depth': 18}\n",
      "Best Score: 694.695\n",
      "Test set score: 626.058\n"
     ]
    }
   ],
   "source": [
    "# Increase the number of runs and estimators\n",
    "randomized_search_reg(\n",
    "    params={\n",
    "        'min_samples_leaf':[1,2,3,4,5,6],\n",
    "        'min_impurity_decrease':[0.0, 0.01, 0.05, 0.08, 0.10, 0.12,0.15], \n",
    "        'max_features':['auto', 0.8, 0.7, 0.6, 0.5, 0.4],\n",
    "        'max_depth':[None,8,10,12,14,16,18,20],\n",
    "        'n_estimators':[100]},\n",
    "    runs=20)"
   ]
  },
  {
   "cell_type": "code",
   "execution_count": 57,
   "metadata": {},
   "outputs": [
    {
     "name": "stdout",
     "output_type": "stream",
     "text": [
      "RMSE: [ 818.354  514.173  547.392  814.059  769.54   730.025  831.376  794.634\n",
      "  756.83  1595.237]\n",
      "RMSE mean: 817.162\n"
     ]
    }
   ],
   "source": [
    "# Put the best model in cross_val_score to see how the result compares with the original\n",
    "rf = RandomForestRegressor(\n",
    "    min_samples_leaf=1,\n",
    "    min_impurity_decrease=0.1,\n",
    "    max_features=0.6,\n",
    "    max_depth=12,\n",
    "    n_estimators=100,\n",
    "    random_state=2,\n",
    "    n_jobs=-1,\n",
    ")\n",
    "\n",
    "scores = cross_val_score(rf, X_bikes, y_bikes, scoring='neg_mean_squared_error', cv=10)\n",
    "rmse = np.sqrt(-scores)\n",
    "print('RMSE:', np.round(rmse, 3))\n",
    "print('RMSE mean: %0.3f' % (rmse.mean()))"
   ]
  },
  {
   "cell_type": "code",
   "execution_count": 63,
   "metadata": {},
   "outputs": [
    {
     "data": {
      "text/html": [
       "<div>\n",
       "<style scoped>\n",
       "    .dataframe tbody tr th:only-of-type {\n",
       "        vertical-align: middle;\n",
       "    }\n",
       "\n",
       "    .dataframe tbody tr th {\n",
       "        vertical-align: top;\n",
       "    }\n",
       "\n",
       "    .dataframe thead th {\n",
       "        text-align: right;\n",
       "    }\n",
       "</style>\n",
       "<table border=\"1\" class=\"dataframe\">\n",
       "  <thead>\n",
       "    <tr style=\"text-align: right;\">\n",
       "      <th></th>\n",
       "      <th>instant</th>\n",
       "      <th>season</th>\n",
       "      <th>yr</th>\n",
       "      <th>mnth</th>\n",
       "      <th>holiday</th>\n",
       "      <th>weekday</th>\n",
       "      <th>workingday</th>\n",
       "      <th>weathersit</th>\n",
       "      <th>temp</th>\n",
       "      <th>atemp</th>\n",
       "      <th>hum</th>\n",
       "      <th>windspeed</th>\n",
       "      <th>cnt</th>\n",
       "    </tr>\n",
       "  </thead>\n",
       "  <tbody>\n",
       "    <tr>\n",
       "      <th>0</th>\n",
       "      <td>1</td>\n",
       "      <td>1.0</td>\n",
       "      <td>0.0</td>\n",
       "      <td>1.0</td>\n",
       "      <td>0.0</td>\n",
       "      <td>6.0</td>\n",
       "      <td>0.0</td>\n",
       "      <td>2</td>\n",
       "      <td>0.344167</td>\n",
       "      <td>0.363625</td>\n",
       "      <td>0.805833</td>\n",
       "      <td>0.160446</td>\n",
       "      <td>985</td>\n",
       "    </tr>\n",
       "    <tr>\n",
       "      <th>1</th>\n",
       "      <td>2</td>\n",
       "      <td>1.0</td>\n",
       "      <td>0.0</td>\n",
       "      <td>1.0</td>\n",
       "      <td>0.0</td>\n",
       "      <td>0.0</td>\n",
       "      <td>0.0</td>\n",
       "      <td>2</td>\n",
       "      <td>0.363478</td>\n",
       "      <td>0.353739</td>\n",
       "      <td>0.696087</td>\n",
       "      <td>0.248539</td>\n",
       "      <td>801</td>\n",
       "    </tr>\n",
       "    <tr>\n",
       "      <th>2</th>\n",
       "      <td>3</td>\n",
       "      <td>1.0</td>\n",
       "      <td>0.0</td>\n",
       "      <td>1.0</td>\n",
       "      <td>0.0</td>\n",
       "      <td>1.0</td>\n",
       "      <td>1.0</td>\n",
       "      <td>1</td>\n",
       "      <td>0.196364</td>\n",
       "      <td>0.189405</td>\n",
       "      <td>0.437273</td>\n",
       "      <td>0.248309</td>\n",
       "      <td>1349</td>\n",
       "    </tr>\n",
       "    <tr>\n",
       "      <th>3</th>\n",
       "      <td>4</td>\n",
       "      <td>1.0</td>\n",
       "      <td>0.0</td>\n",
       "      <td>1.0</td>\n",
       "      <td>0.0</td>\n",
       "      <td>2.0</td>\n",
       "      <td>1.0</td>\n",
       "      <td>1</td>\n",
       "      <td>0.200000</td>\n",
       "      <td>0.212122</td>\n",
       "      <td>0.590435</td>\n",
       "      <td>0.160296</td>\n",
       "      <td>1562</td>\n",
       "    </tr>\n",
       "    <tr>\n",
       "      <th>4</th>\n",
       "      <td>5</td>\n",
       "      <td>1.0</td>\n",
       "      <td>0.0</td>\n",
       "      <td>1.0</td>\n",
       "      <td>0.0</td>\n",
       "      <td>3.0</td>\n",
       "      <td>1.0</td>\n",
       "      <td>1</td>\n",
       "      <td>0.226957</td>\n",
       "      <td>0.229270</td>\n",
       "      <td>0.436957</td>\n",
       "      <td>0.186900</td>\n",
       "      <td>1600</td>\n",
       "    </tr>\n",
       "  </tbody>\n",
       "</table>\n",
       "</div>"
      ],
      "text/plain": [
       "   instant  season   yr  mnth  holiday  weekday  workingday  weathersit  \\\n",
       "0        1     1.0  0.0   1.0      0.0      6.0         0.0           2   \n",
       "1        2     1.0  0.0   1.0      0.0      0.0         0.0           2   \n",
       "2        3     1.0  0.0   1.0      0.0      1.0         1.0           1   \n",
       "3        4     1.0  0.0   1.0      0.0      2.0         1.0           1   \n",
       "4        5     1.0  0.0   1.0      0.0      3.0         1.0           1   \n",
       "\n",
       "       temp     atemp       hum  windspeed   cnt  \n",
       "0  0.344167  0.363625  0.805833   0.160446   985  \n",
       "1  0.363478  0.353739  0.696087   0.248539   801  \n",
       "2  0.196364  0.189405  0.437273   0.248309  1349  \n",
       "3  0.200000  0.212122  0.590435   0.160296  1562  \n",
       "4  0.226957  0.229270  0.436957   0.186900  1600  "
      ]
     },
     "execution_count": 63,
     "metadata": {},
     "output_type": "execute_result"
    }
   ],
   "source": [
    "df_bikes.head()"
   ]
  },
  {
   "cell_type": "code",
   "execution_count": 64,
   "metadata": {},
   "outputs": [
    {
     "data": {
      "text/html": [
       "<div>\n",
       "<style scoped>\n",
       "    .dataframe tbody tr th:only-of-type {\n",
       "        vertical-align: middle;\n",
       "    }\n",
       "\n",
       "    .dataframe tbody tr th {\n",
       "        vertical-align: top;\n",
       "    }\n",
       "\n",
       "    .dataframe thead th {\n",
       "        text-align: right;\n",
       "    }\n",
       "</style>\n",
       "<table border=\"1\" class=\"dataframe\">\n",
       "  <thead>\n",
       "    <tr style=\"text-align: right;\">\n",
       "      <th></th>\n",
       "      <th>instant</th>\n",
       "      <th>season</th>\n",
       "      <th>yr</th>\n",
       "      <th>mnth</th>\n",
       "      <th>holiday</th>\n",
       "      <th>weekday</th>\n",
       "      <th>workingday</th>\n",
       "      <th>weathersit</th>\n",
       "      <th>temp</th>\n",
       "      <th>atemp</th>\n",
       "      <th>hum</th>\n",
       "      <th>windspeed</th>\n",
       "      <th>cnt</th>\n",
       "    </tr>\n",
       "  </thead>\n",
       "  <tbody>\n",
       "    <tr>\n",
       "      <th>671</th>\n",
       "      <td>672</td>\n",
       "      <td>4.0</td>\n",
       "      <td>1.0</td>\n",
       "      <td>11.0</td>\n",
       "      <td>0.0</td>\n",
       "      <td>5.0</td>\n",
       "      <td>1.0</td>\n",
       "      <td>1</td>\n",
       "      <td>0.355000</td>\n",
       "      <td>0.356042</td>\n",
       "      <td>0.522083</td>\n",
       "      <td>0.266175</td>\n",
       "      <td>5847</td>\n",
       "    </tr>\n",
       "    <tr>\n",
       "      <th>199</th>\n",
       "      <td>200</td>\n",
       "      <td>3.0</td>\n",
       "      <td>0.0</td>\n",
       "      <td>7.0</td>\n",
       "      <td>0.0</td>\n",
       "      <td>2.0</td>\n",
       "      <td>1.0</td>\n",
       "      <td>1</td>\n",
       "      <td>0.776667</td>\n",
       "      <td>0.747479</td>\n",
       "      <td>0.650417</td>\n",
       "      <td>0.130600</td>\n",
       "      <td>4541</td>\n",
       "    </tr>\n",
       "    <tr>\n",
       "      <th>77</th>\n",
       "      <td>78</td>\n",
       "      <td>1.0</td>\n",
       "      <td>0.0</td>\n",
       "      <td>3.0</td>\n",
       "      <td>0.0</td>\n",
       "      <td>6.0</td>\n",
       "      <td>0.0</td>\n",
       "      <td>1</td>\n",
       "      <td>0.472500</td>\n",
       "      <td>0.466525</td>\n",
       "      <td>0.379167</td>\n",
       "      <td>0.368167</td>\n",
       "      <td>3117</td>\n",
       "    </tr>\n",
       "    <tr>\n",
       "      <th>225</th>\n",
       "      <td>226</td>\n",
       "      <td>3.0</td>\n",
       "      <td>0.0</td>\n",
       "      <td>8.0</td>\n",
       "      <td>0.0</td>\n",
       "      <td>0.0</td>\n",
       "      <td>0.0</td>\n",
       "      <td>2</td>\n",
       "      <td>0.676667</td>\n",
       "      <td>0.624388</td>\n",
       "      <td>0.817500</td>\n",
       "      <td>0.222633</td>\n",
       "      <td>3820</td>\n",
       "    </tr>\n",
       "    <tr>\n",
       "      <th>37</th>\n",
       "      <td>38</td>\n",
       "      <td>1.0</td>\n",
       "      <td>0.0</td>\n",
       "      <td>2.0</td>\n",
       "      <td>0.0</td>\n",
       "      <td>1.0</td>\n",
       "      <td>1.0</td>\n",
       "      <td>1</td>\n",
       "      <td>0.271667</td>\n",
       "      <td>0.303658</td>\n",
       "      <td>0.738333</td>\n",
       "      <td>0.045408</td>\n",
       "      <td>1712</td>\n",
       "    </tr>\n",
       "  </tbody>\n",
       "</table>\n",
       "</div>"
      ],
      "text/plain": [
       "     instant  season   yr  mnth  holiday  weekday  workingday  weathersit  \\\n",
       "671      672     4.0  1.0  11.0      0.0      5.0         1.0           1   \n",
       "199      200     3.0  0.0   7.0      0.0      2.0         1.0           1   \n",
       "77        78     1.0  0.0   3.0      0.0      6.0         0.0           1   \n",
       "225      226     3.0  0.0   8.0      0.0      0.0         0.0           2   \n",
       "37        38     1.0  0.0   2.0      0.0      1.0         1.0           1   \n",
       "\n",
       "         temp     atemp       hum  windspeed   cnt  \n",
       "671  0.355000  0.356042  0.522083   0.266175  5847  \n",
       "199  0.776667  0.747479  0.650417   0.130600  4541  \n",
       "77   0.472500  0.466525  0.379167   0.368167  3117  \n",
       "225  0.676667  0.624388  0.817500   0.222633  3820  \n",
       "37   0.271667  0.303658  0.738333   0.045408  1712  "
      ]
     },
     "execution_count": 64,
     "metadata": {},
     "output_type": "execute_result"
    }
   ],
   "source": [
    "# The score is better than 903, but much worse than 609. What's wrong?\n",
    "# The last split in cross_val_score is particularly bad. Maybe shuffling the data will work.\n",
    "from sklearn.utils import shuffle\n",
    "df_shuffle_bikes = shuffle(df_bikes, random_state=2)\n",
    "df_shuffle_bikes.head()"
   ]
  },
  {
   "cell_type": "code",
   "execution_count": 65,
   "metadata": {},
   "outputs": [],
   "source": [
    "X_shuffle_bikes = df_shuffle_bikes.iloc[:, :-1]\n",
    "y_shuffle_bikes = df_shuffle_bikes.iloc[:, -1]"
   ]
  },
  {
   "cell_type": "code",
   "execution_count": 67,
   "metadata": {},
   "outputs": [
    {
     "name": "stdout",
     "output_type": "stream",
     "text": [
      "RMSE: [630.093 686.673 468.159 526.676 593.033 724.575 774.402 672.63  760.253\n",
      " 616.797]\n",
      "RMSE mean: 645.329\n"
     ]
    }
   ],
   "source": [
    "rf = RandomForestRegressor(\n",
    "    n_estimators=100,\n",
    "    min_impurity_decrease=0.1,\n",
    "    max_features=0.6,\n",
    "    max_depth=12,\n",
    "    n_jobs=-1,\n",
    "    random_state=2,\n",
    ")\n",
    "\n",
    "cross_val_score(\n",
    "    rf, X_shuffle_bikes, y_shuffle_bikes, scoring=\"neg_mean_squared_error\", cv=10\n",
    ")\n",
    "rmse = np.sqrt(-scores)\n",
    "print(\"RMSE:\", np.round(rmse, 3))\n",
    "print(\"RMSE mean: %0.3f\" % (rmse.mean()))"
   ]
  }
 ],
 "metadata": {
  "kernelspec": {
   "display_name": "Python 3",
   "language": "python",
   "name": "python3"
  },
  "language_info": {
   "codemirror_mode": {
    "name": "ipython",
    "version": 3
   },
   "file_extension": ".py",
   "mimetype": "text/x-python",
   "name": "python",
   "nbconvert_exporter": "python",
   "pygments_lexer": "ipython3",
   "version": "3.10.9"
  }
 },
 "nbformat": 4,
 "nbformat_minor": 2
}
