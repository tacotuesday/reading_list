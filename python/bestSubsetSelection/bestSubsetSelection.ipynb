{
 "cells": [
  {
   "cell_type": "markdown",
   "metadata": {},
   "source": [
    "# Best Subset Selection"
   ]
  },
  {
   "cell_type": "code",
   "execution_count": null,
   "metadata": {
    "pycharm": {
     "is_executing": true
    }
   },
   "outputs": [],
   "source": [
    "%matplotlib inline\n",
    "import pandas as pd\n",
    "import numpy as np\n",
    "import itertools\n",
    "import time\n",
    "import statsmodels.api as sm\n",
    "import matplotlib.pyplot as plt"
   ]
  },
  {
   "cell_type": "markdown",
   "metadata": {},
   "source": [
    "We wish to predict `salary` on the basis of various performance statistics from the previous year."
   ]
  },
  {
   "cell_type": "code",
   "execution_count": null,
   "metadata": {
    "pycharm": {
     "is_executing": true
    }
   },
   "outputs": [],
   "source": [
    "hitters_df = pd.read_csv('Hitters.csv')\n",
    "print(hitters_df.shape)\n",
    "print(hitters_df.head())\n",
    "print(\"Number of null salary values:\", hitters_df[\"Salary\"].isnull().sum())"
   ]
  },
  {
   "cell_type": "markdown",
   "metadata": {},
   "source": [
    "Remove observations with null `salary` values. The riginal code read `hitters_df_clean = hitters_df.dropna().drop('Player', axis=1)`. I didn't have a 'Player' along axis 1, but I could probably try using that method to strip things from future code. "
   ]
  },
  {
   "cell_type": "code",
   "execution_count": null,
   "metadata": {
    "pycharm": {
     "is_executing": true
    }
   },
   "outputs": [],
   "source": [
    "hitters_df_clean = hitters_df.dropna()    \n",
    "print(\"Cleaned data shape:\", hitters_df_clean.shape)\n",
    "print(\"Remaining null values:\", hitters_df_clean[\"Salary\"].isnull().sum())"
   ]
  },
  {
   "cell_type": "markdown",
   "metadata": {},
   "source": [
    "Clean up categorical predictors using dummy variables. `pandas` can generate dummy variables, separate out the response variable, and glue it back together."
   ]
  },
  {
   "cell_type": "code",
   "execution_count": null,
   "metadata": {
    "pycharm": {
     "is_executing": true
    }
   },
   "outputs": [],
   "source": [
    "dummies = pd.get_dummies(hitters_df_clean[['League', 'Division', 'NewLeague']])\n",
    "# print(dummies)\n",
    "y = hitters_df_clean.Salary\n",
    "X_ = hitters_df_clean.drop(['Salary', 'League', 'Division', 'NewLeague'], axis=1).astype('float')\n",
    "# print(X_)\n",
    "X = pd.concat([X_, dummies[['League_N', \"Division_W\", \"NewLeague_N\"]]], axis=1)\n",
    "# print(X)"
   ]
  },
  {
   "cell_type": "markdown",
   "metadata": {},
   "source": [
    "Perform best subset selection by identifying the best model containing a given number of predictors. **Best** is quantified using RSS. Create a function to output the best set of variables for each model size."
   ]
  },
  {
   "cell_type": "code",
   "execution_count": null,
   "metadata": {
    "pycharm": {
     "is_executing": true
    }
   },
   "outputs": [],
   "source": [
    "def processSubset(feature_set):\n",
    "    # Fit model on feature_set and calculate RSS. OLS = ordinary least squares.\n",
    "    model = sm.OLS(y,X[list(feature_set)])\n",
    "    regr = model.fit()\n",
    "    RSS = ((regr.predict(X[list(feature_set)]) - y) ** 2).sum()\n",
    "    return {\"model\":regr, \"RSS\":RSS}"
   ]
  },
  {
   "cell_type": "code",
   "execution_count": 20,
   "metadata": {},
   "outputs": [],
   "source": [
    "def getBest(k):\n",
    "    \n",
    "    tic = time.time()\n",
    "    \n",
    "    results = []\n",
    "    \n",
    "    for combo in itertools.combinations(X.columns, k):\n",
    "        results.append(processSubset(combo))\n",
    "        \n",
    "    # Wrap everything up in a dataframe\n",
    "    models = pd.DataFrame(results)\n",
    "    \n",
    "    # Choose the model with the highest (?) RSS\n",
    "    best_model = models.loc[models['RSS'].argmin()]\n",
    "    \n",
    "    toc = time.time()\n",
    "    print(\"Processed\", models.shape[0], \"models on\", k, \"predictors in\", (toc-tic), \"seconds.\")\n",
    "    \n",
    "    # Return a `DataFrame` of the best model, along with some other useful information about it.\n",
    "    return best_model"
   ]
  },
  {
   "cell_type": "markdown",
   "metadata": {},
   "source": [
    "Call `getBest()` for each number of predictors `k`:"
   ]
  },
  {
   "cell_type": "code",
   "execution_count": 22,
   "metadata": {},
   "outputs": [
    {
     "name": "stdout",
     "output_type": "stream",
     "text": [
      "Processed 19 models on 1 predictors in 0.014461994171142578 seconds.\n",
      "Processed 171 models on 2 predictors in 0.09994697570800781 seconds.\n",
      "Processed 969 models on 3 predictors in 0.5257110595703125 seconds.\n",
      "Processed 3876 models on 4 predictors in 2.3355278968811035 seconds.\n",
      "Processed 11628 models on 5 predictors in 6.781804084777832 seconds.\n",
      "Processed 27132 models on 6 predictors in 16.67234492301941 seconds.\n",
      "Processed 50388 models on 7 predictors in 31.255784034729004 seconds.\n",
      "Total elapsed time: 58.00414299964905 seconds.\n"
     ]
    }
   ],
   "source": [
    "models_best = pd.DataFrame(columns=[\"RSS\", \"model\"])\n",
    "\n",
    "tic = time.time()\n",
    "for i in range(1,8):\n",
    "    models_best.loc[i] = getBest(i)\n",
    "    \n",
    "toc = time.time()\n",
    "print(\"Total elapsed time:\", (toc-tic), \"seconds.\")"
   ]
  },
  {
   "cell_type": "code",
   "execution_count": 23,
   "metadata": {},
   "outputs": [
    {
     "data": {
      "text/html": [
       "<div>\n",
       "<style scoped>\n",
       "    .dataframe tbody tr th:only-of-type {\n",
       "        vertical-align: middle;\n",
       "    }\n",
       "\n",
       "    .dataframe tbody tr th {\n",
       "        vertical-align: top;\n",
       "    }\n",
       "\n",
       "    .dataframe thead th {\n",
       "        text-align: right;\n",
       "    }\n",
       "</style>\n",
       "<table border=\"1\" class=\"dataframe\">\n",
       "  <thead>\n",
       "    <tr style=\"text-align: right;\">\n",
       "      <th></th>\n",
       "      <th>RSS</th>\n",
       "      <th>model</th>\n",
       "    </tr>\n",
       "  </thead>\n",
       "  <tbody>\n",
       "    <tr>\n",
       "      <th>1</th>\n",
       "      <td>43213925.909868</td>\n",
       "      <td>&lt;statsmodels.regression.linear_model.Regressio...</td>\n",
       "    </tr>\n",
       "    <tr>\n",
       "      <th>2</th>\n",
       "      <td>30733054.433644</td>\n",
       "      <td>&lt;statsmodels.regression.linear_model.Regressio...</td>\n",
       "    </tr>\n",
       "    <tr>\n",
       "      <th>3</th>\n",
       "      <td>29410713.176731</td>\n",
       "      <td>&lt;statsmodels.regression.linear_model.Regressio...</td>\n",
       "    </tr>\n",
       "    <tr>\n",
       "      <th>4</th>\n",
       "      <td>27976782.522603</td>\n",
       "      <td>&lt;statsmodels.regression.linear_model.Regressio...</td>\n",
       "    </tr>\n",
       "    <tr>\n",
       "      <th>5</th>\n",
       "      <td>27187795.009508</td>\n",
       "      <td>&lt;statsmodels.regression.linear_model.Regressio...</td>\n",
       "    </tr>\n",
       "    <tr>\n",
       "      <th>6</th>\n",
       "      <td>26397720.512772</td>\n",
       "      <td>&lt;statsmodels.regression.linear_model.Regressio...</td>\n",
       "    </tr>\n",
       "    <tr>\n",
       "      <th>7</th>\n",
       "      <td>26064130.610341</td>\n",
       "      <td>&lt;statsmodels.regression.linear_model.Regressio...</td>\n",
       "    </tr>\n",
       "  </tbody>\n",
       "</table>\n",
       "</div>"
      ],
      "text/plain": [
       "               RSS                                              model\n",
       "1  43213925.909868  <statsmodels.regression.linear_model.Regressio...\n",
       "2  30733054.433644  <statsmodels.regression.linear_model.Regressio...\n",
       "3  29410713.176731  <statsmodels.regression.linear_model.Regressio...\n",
       "4  27976782.522603  <statsmodels.regression.linear_model.Regressio...\n",
       "5  27187795.009508  <statsmodels.regression.linear_model.Regressio...\n",
       "6  26397720.512772  <statsmodels.regression.linear_model.Regressio...\n",
       "7  26064130.610341  <statsmodels.regression.linear_model.Regressio..."
      ]
     },
     "execution_count": 23,
     "metadata": {},
     "output_type": "execute_result"
    }
   ],
   "source": [
    "models_best"
   ]
  },
  {
   "cell_type": "code",
   "execution_count": 24,
   "metadata": {},
   "outputs": [
    {
     "name": "stdout",
     "output_type": "stream",
     "text": [
      "                                 OLS Regression Results                                \n",
      "=======================================================================================\n",
      "Dep. Variable:                 Salary   R-squared (uncentered):                   0.761\n",
      "Model:                            OLS   Adj. R-squared (uncentered):              0.760\n",
      "Method:                 Least Squares   F-statistic:                              416.7\n",
      "Date:                Mon, 04 Jul 2022   Prob (F-statistic):                    5.80e-82\n",
      "Time:                        21:12:54   Log-Likelihood:                         -1907.6\n",
      "No. Observations:                 263   AIC:                                      3819.\n",
      "Df Residuals:                     261   BIC:                                      3826.\n",
      "Df Model:                           2                                                  \n",
      "Covariance Type:            nonrobust                                                  \n",
      "==============================================================================\n",
      "                 coef    std err          t      P>|t|      [0.025      0.975]\n",
      "------------------------------------------------------------------------------\n",
      "Hits           2.9538      0.261     11.335      0.000       2.441       3.467\n",
      "CRBI           0.6788      0.066     10.295      0.000       0.549       0.809\n",
      "==============================================================================\n",
      "Omnibus:                      117.551   Durbin-Watson:                   1.933\n",
      "Prob(Omnibus):                  0.000   Jarque-Bera (JB):              654.612\n",
      "Skew:                           1.729   Prob(JB):                    7.12e-143\n",
      "Kurtosis:                       9.912   Cond. No.                         5.88\n",
      "==============================================================================\n",
      "\n",
      "Notes:\n",
      "[1] R² is computed without centering (uncentered) since the model does not contain a constant.\n",
      "[2] Standard Errors assume that the covariance matrix of the errors is correctly specified.\n"
     ]
    }
   ],
   "source": [
    "print(models_best.loc[2, \"model\"].summary()) # Print the best two-variable model"
   ]
  },
  {
   "cell_type": "code",
   "execution_count": 25,
   "metadata": {},
   "outputs": [
    {
     "name": "stdout",
     "output_type": "stream",
     "text": [
      "Processed 1 models on 19 predictors in 0.0027570724487304688 seconds.\n",
      "                                 OLS Regression Results                                \n",
      "=======================================================================================\n",
      "Dep. Variable:                 Salary   R-squared (uncentered):                   0.810\n",
      "Model:                            OLS   Adj. R-squared (uncentered):              0.795\n",
      "Method:                 Least Squares   F-statistic:                              54.64\n",
      "Date:                Mon, 04 Jul 2022   Prob (F-statistic):                    1.31e-76\n",
      "Time:                        21:15:18   Log-Likelihood:                         -1877.9\n",
      "No. Observations:                 263   AIC:                                      3794.\n",
      "Df Residuals:                     244   BIC:                                      3862.\n",
      "Df Model:                          19                                                  \n",
      "Covariance Type:            nonrobust                                                  \n",
      "===============================================================================\n",
      "                  coef    std err          t      P>|t|      [0.025      0.975]\n",
      "-------------------------------------------------------------------------------\n",
      "AtBat          -1.5975      0.600     -2.663      0.008      -2.779      -0.416\n",
      "Hits            7.0330      2.374      2.963      0.003       2.357      11.709\n",
      "HmRun           4.1210      6.229      0.662      0.509      -8.148      16.390\n",
      "Runs           -2.3776      2.994     -0.794      0.428      -8.276       3.520\n",
      "RBI            -1.0873      2.613     -0.416      0.678      -6.234       4.059\n",
      "Walks           6.1560      1.836      3.352      0.001       2.539       9.773\n",
      "Years           9.5196     10.128      0.940      0.348     -10.429      29.468\n",
      "CAtBat         -0.2018      0.135     -1.497      0.136      -0.467       0.064\n",
      "CHits           0.1380      0.678      0.204      0.839      -1.197       1.473\n",
      "CHmRun         -0.1669      1.625     -0.103      0.918      -3.367       3.033\n",
      "CRuns           1.5070      0.753      2.001      0.047       0.023       2.991\n",
      "CRBI            0.7742      0.696      1.113      0.267      -0.596       2.144\n",
      "CWalks         -0.7851      0.329     -2.384      0.018      -1.434      -0.137\n",
      "PutOuts         0.2856      0.078      3.673      0.000       0.132       0.439\n",
      "Assists         0.3137      0.220      1.427      0.155      -0.119       0.747\n",
      "Errors         -2.0463      4.350     -0.470      0.638     -10.615       6.522\n",
      "League_N       86.8139     78.463      1.106      0.270     -67.737     241.365\n",
      "Division_W    -97.5160     39.084     -2.495      0.013    -174.500     -20.532\n",
      "NewLeague_N   -23.9133     79.361     -0.301      0.763    -180.234     132.407\n",
      "==============================================================================\n",
      "Omnibus:                       97.217   Durbin-Watson:                   2.024\n",
      "Prob(Omnibus):                  0.000   Jarque-Bera (JB):              626.205\n",
      "Skew:                           1.320   Prob(JB):                    1.05e-136\n",
      "Kurtosis:                      10.083   Cond. No.                     2.06e+04\n",
      "==============================================================================\n",
      "\n",
      "Notes:\n",
      "[1] R² is computed without centering (uncentered) since the model does not contain a constant.\n",
      "[2] Standard Errors assume that the covariance matrix of the errors is correctly specified.\n",
      "[3] The condition number is large, 2.06e+04. This might indicate that there are\n",
      "strong multicollinearity or other numerical problems.\n"
     ]
    }
   ],
   "source": [
    "# Show the best 19-variable model (there's actually only one)\n",
    "print(getBest(19)[\"model\"].summary())"
   ]
  },
  {
   "cell_type": "markdown",
   "metadata": {},
   "source": [
    "We can access just the parts we need using the model's attributes. For example, if we want the $R^2$ value:"
   ]
  },
  {
   "cell_type": "code",
   "execution_count": 26,
   "metadata": {},
   "outputs": [
    {
     "data": {
      "text/plain": [
       "0.7614950002332873"
      ]
     },
     "execution_count": 26,
     "metadata": {},
     "output_type": "execute_result"
    }
   ],
   "source": [
    "models_best.loc[2, \"model\"].rsquared"
   ]
  },
  {
   "cell_type": "markdown",
   "metadata": {},
   "source": [
    "Fitting the `OLM` also produced some other useful statistics, such as adjusted $R^2$, Akaike Information Criteria (AIC), and Bayesian Information Criteria (BIC). Start by looking at $R^2$ across all models:"
   ]
  },
  {
   "cell_type": "code",
   "execution_count": 29,
   "metadata": {},
   "outputs": [
    {
     "data": {
      "text/plain": [
       "1    0.664637\n",
       "2    0.761495\n",
       "3    0.771757\n",
       "4    0.782885\n",
       "5    0.789008\n",
       "6    0.795140\n",
       "7    0.797728\n",
       "dtype: float64"
      ]
     },
     "execution_count": 29,
     "metadata": {},
     "output_type": "execute_result"
    }
   ],
   "source": [
    "# Gets the second element from each row ('model') and pulls out its rsquared attribute\n",
    "models_best.apply(lambda row: row[1].rsquared, axis=1)"
   ]
  },
  {
   "cell_type": "markdown",
   "metadata": {},
   "source": [
    "Plotting RSS, adjusted $R^2$, AIC, and BIC for all models at once will help decide which model to select. Note the `type=\"1\"` option tells python to connect the plotted points with lines."
   ]
  },
  {
   "cell_type": "code",
   "execution_count": 42,
   "metadata": {},
   "outputs": [
    {
     "data": {
      "text/plain": [
       "Text(0, 0.5, 'BIC')"
      ]
     },
     "execution_count": 42,
     "metadata": {},
     "output_type": "execute_result"
    },
    {
     "data": {
      "image/png": "[encoded data removed]",
      "text/plain": [
       "<Figure size 1440x720 with 4 Axes>"
      ]
     },
     "metadata": {
      "needs_background": "light"
     },
     "output_type": "display_data"
    }
   ],
   "source": [
    "plt.figure(figsize=(20,10))\n",
    "plt.rcParams.update({'font.size': 18, 'lines.markersize': 10})\n",
    "\n",
    "# Set up 2x2 grid to look at four plots at once\n",
    "plt.subplot(2, 2, 1)\n",
    " \n",
    "plt.plot(models_best[\"RSS\"])\n",
    "plt.xlabel('# of Predictors')\n",
    "plt.ylabel('RSS')\n",
    "\n",
    "# Plot a red dot to indicate the model with the largest adjusted R^2 statistic.\n",
    "# The argmax() function can be used to identify the location of the maximum point of a vector.\n",
    "rsquared_adj = models_best.apply(lambda row: row[1].rsquared_adj, axis=1)\n",
    "\n",
    "plt.subplot(2, 2, 2)\n",
    "plt.plot(rsquared_adj)\n",
    "plt.plot(rsquared_adj.argmax(), rsquared_adj.max(), \"or\")\n",
    "plt.xlabel('# of Predictors')\n",
    "plt.ylabel('adjusted rsquared')\n",
    "\n",
    "# Do the same for AIC and BIC, this time looking for the models with the SMALLEST statistic\n",
    "aic = models_best.apply(lambda row: row[1].aic, axis=1)\n",
    "\n",
    "plt.subplot(2, 2, 3)\n",
    "plt.plot(aic)\n",
    "plt.plot(aic.argmin(), aic.min(), \"or\")\n",
    "plt.xlabel('# of Predictors')\n",
    "plt.ylabel('AIC')\n",
    "\n",
    "\n",
    "bic = models_best.apply(lambda row: row[1].bic, axis=1)\n",
    "\n",
    "plt.subplot(2, 2, 4)\n",
    "plt.plot(bic)\n",
    "plt.plot(bic.argmin(), bic.min(), \"or\")\n",
    "plt.xlabel('# of Predictors')\n",
    "plt.ylabel('BIC')\n"
   ]
  },
  {
   "cell_type": "markdown",
   "metadata": {},
   "source": [
    "# Forward and Backward Stepwise Selection\n",
    "*Finish the tutorial located [here](https://www.science.smith.edu/~jcrouser/SDS293/labs/lab8-py.html).*"
   ]
  },
  {
   "cell_type": "code",
   "execution_count": null,
   "metadata": {},
   "outputs": [],
   "source": []
  }
 ],
 "metadata": {
  "kernelspec": {
   "display_name": "Python 3.9.12 64-bit",
   "language": "python",
   "name": "python3"
  },
  "language_info": {
   "codemirror_mode": {
    "name": "ipython",
    "version": 3
   },
   "file_extension": ".py",
   "mimetype": "text/x-python",
   "name": "python",
   "nbconvert_exporter": "python",
   "pygments_lexer": "ipython3",
   "version": "3.9.12"
  },
  "orig_nbformat": 4,
  "vscode": {
   "interpreter": {
    "hash": "b0fa6594d8f4cbf19f97940f81e996739fb7646882a419484c72d19e05852a7e"
   }
  }
 },
 "nbformat": 4,
 "nbformat_minor": 2
}
