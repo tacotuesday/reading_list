{
 "cells": [
  {
   "cell_type": "code",
   "execution_count": 31,
   "metadata": {
    "collapsed": true
   },
   "outputs": [],
   "source": [
    "from transformers import pipeline\n",
    "import os\n",
    "import torch"
   ]
  },
  {
   "cell_type": "code",
   "execution_count": 32,
   "outputs": [],
   "source": [
    "# Set GPU 0\n",
    "os.environ['CUDA_VISIBLE_DEVICES'] = '0'"
   ],
   "metadata": {
    "collapsed": false
   }
  },
  {
   "cell_type": "code",
   "execution_count": 34,
   "outputs": [
    {
     "data": {
      "text/plain": "Downloading:   0%|          | 0.00/1.12k [00:00<?, ?B/s]",
      "application/vnd.jupyter.widget-view+json": {
       "version_major": 2,
       "version_minor": 0,
       "model_id": "e6d48a324c594f309660cea3dd2a064d"
      }
     },
     "metadata": {},
     "output_type": "display_data"
    },
    {
     "data": {
      "text/plain": "Downloading:   0%|          | 0.00/990M [00:00<?, ?B/s]",
      "application/vnd.jupyter.widget-view+json": {
       "version_major": 2,
       "version_minor": 0,
       "model_id": "26ced9c1b18d4b29b009ac262d042ca2"
      }
     },
     "metadata": {},
     "output_type": "display_data"
    },
    {
     "data": {
      "text/plain": "Downloading:   0%|          | 0.00/2.36k [00:00<?, ?B/s]",
      "application/vnd.jupyter.widget-view+json": {
       "version_major": 2,
       "version_minor": 0,
       "model_id": "c9afa39c46c64fcfb611bd68ea200d32"
      }
     },
     "metadata": {},
     "output_type": "display_data"
    },
    {
     "data": {
      "text/plain": "Downloading:   0%|          | 0.00/792k [00:00<?, ?B/s]",
      "application/vnd.jupyter.widget-view+json": {
       "version_major": 2,
       "version_minor": 0,
       "model_id": "f38f68af9d994117a36fc6843ccb5317"
      }
     },
     "metadata": {},
     "output_type": "display_data"
    },
    {
     "data": {
      "text/plain": "Downloading:   0%|          | 0.00/2.42M [00:00<?, ?B/s]",
      "application/vnd.jupyter.widget-view+json": {
       "version_major": 2,
       "version_minor": 0,
       "model_id": "007751f54b2d467da005dc12e55c7e0f"
      }
     },
     "metadata": {},
     "output_type": "display_data"
    },
    {
     "data": {
      "text/plain": "Downloading:   0%|          | 0.00/2.20k [00:00<?, ?B/s]",
      "application/vnd.jupyter.widget-view+json": {
       "version_major": 2,
       "version_minor": 0,
       "model_id": "e6b0638e537b4943b615b490d74543b4"
      }
     },
     "metadata": {},
     "output_type": "display_data"
    }
   ],
   "source": [
    "# Use the pipeline module to import BART\n",
    "# summarizer = pipeline('summarization')\n",
    "\n",
    "# To use the t5 model:\n",
    "# Refer to Huggingface docs:\n",
    "# https://huggingface.co/docs/transformers/main_classes/pipelines#transformers.SummarizationPipeline\n",
    "summarizer = pipeline(\"summarization\", \"pszemraj/long-t5-tglobal-base-16384-book-summary\")"
   ],
   "metadata": {
    "collapsed": false
   }
  },
  {
   "cell_type": "code",
   "execution_count": 36,
   "outputs": [],
   "source": [
    "text = '''Where John Paul’s Polishness was refreshing, Joseph Ratzinger’s Germanness worried people. As a boy in deeply Catholic Bavaria he had been conscripted into the Hitlerjugend and briefly trained for the disintegrating Wehrmacht; after that his life had been the seminary, the professoriat, the faculty of theology at Regensburg, the College of Cardinals. He was surely so academic that he would not warm to the pastoral, crowd-pleasing side of the pontificate; he was surely so schooled in youth to heel-clicking obedience that any stirrings of liberalism in the church would be crushed beneath his elegant fist. Apologies he found harder. The world seemed to expect them of him, though: an apology to the Jews for the Vatican’s apparent indifference to the Holocaust, and another to the thousands of victims of paedophile priests in Europe and North America. He said sorry in his own way, in institutional words. A general prayer for peace in the Middle East was pushed between the blocks of the Wailing Wall in Jerusalem. In Malta he wept for abused children the sincere tears of an old man who felt that the activities of errant priests had 'left a stain' and 'filth' on the church. But in his prime at the cdf, where he had energetically persuaded John Paul II to let him deal with such cases, he had written letters recommending that offenders should be moved to other parishes, and any internal investigations kept quiet. Those minds were conservative. He had followed the reformers within the church for a time, and knew Hans Küng, the most famous liberal theologian, at Tübingen; but the tumult of the 1960s traumatised him. His post at the cdf required him to squash heresy and reassert doctrine, and he did so. A whirl of excitement erupted in 2010 when he let slip, in the course of a six-hour interview with Peter Seewald, a German journalist, that the use of condoms against aids might be “a step on the way to another, more humane sexuality”. It was a solitary blip in an unswerving message, that condoms made aids worse. This, after all, was the pope who two years earlier had issued a letter allowing a more general use of the old Tridentine rite (complete with anti-Semitism), in which priests turned their backs on the congregation and the faithful knew their place. Catholics had been wrong, he wrote, to assume that the Second Vatican Council of 1962-65 had authorised creativity, in liturgy or in anything else. During the pontificate of his passionately reformist successor, Francis, he kept largely out of sight in the convent where he lived, just up the hill. He seemed to adjust happily to his unprecedented emeritus role, though he would rather have been plain “Father Benedict”; he liked Francis’s company and never contradicted him, telling rare interviewers that they were in perfect agreement. The same was not true of the courtiers around him, a “Regensburg network” of conservatives and traditionalists, in close touch with right-wing American media, who saw him as the touchstone of their plotting and resistance. In Benedict, and in his past pronouncements, they saw a means to save the church from novelty and heresy. He was by then far too old and frail for such a role, even if he had wanted it. He almost certainly did not. But there was no doubt that this was a man for whom relativism was the greatest evil in the modern world, and doctrinal rectitude the surest guard against it. And no one should have been surprised at that.\n",
    "'''"
   ],
   "metadata": {
    "collapsed": false
   }
  },
  {
   "cell_type": "code",
   "execution_count": 37,
   "outputs": [
    {
     "data": {
      "text/plain": "3466"
     },
     "execution_count": 37,
     "metadata": {},
     "output_type": "execute_result"
    }
   ],
   "source": [
    "len(text)"
   ],
   "metadata": {
    "collapsed": false
   }
  },
  {
   "cell_type": "code",
   "execution_count": null,
   "outputs": [
    {
     "name": "stderr",
     "output_type": "stream",
     "text": [
      "\n",
      "KeyboardInterrupt\n",
      "\n"
     ]
    }
   ],
   "source": [
    "summary_text = summarizer(text, max_length=882, min_length=5, do_sample=False)[0]['summary_text']"
   ],
   "metadata": {
    "collapsed": false
   }
  },
  {
   "cell_type": "code",
   "execution_count": null,
   "outputs": [],
   "source": [
    "print(summary_text)"
   ],
   "metadata": {
    "collapsed": false
   }
  }
 ],
 "metadata": {
  "kernelspec": {
   "display_name": "Python 3",
   "language": "python",
   "name": "python3"
  },
  "language_info": {
   "codemirror_mode": {
    "name": "ipython",
    "version": 2
   },
   "file_extension": ".py",
   "mimetype": "text/x-python",
   "name": "python",
   "nbconvert_exporter": "python",
   "pygments_lexer": "ipython2",
   "version": "2.7.6"
  }
 },
 "nbformat": 4,
 "nbformat_minor": 0
}
