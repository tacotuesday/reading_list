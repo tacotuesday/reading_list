{
 "cells": [
  {
   "cell_type": "markdown",
   "metadata": {},
   "source": [
    "# Section 1: Computing probabilities using Python\n",
    "- A *sample space* is the set of all possible outcomes an action can produce\n",
    "- An *event* is a subset of the sample space containing just those outcomes that satisfy some *event condition*. An event condition is a Boolean function that takes as input an outcome and returns either `True` or `False`.\n",
    "- The *probability* of an event equals the fraction of event outcomes over all the possible outcomes in the entire sample space.\n",
    "- Probabilities can be computed over *numeric intervals*. An interval is defined as the set of all the numbers sandwiched between two boundary values.\n",
    "- Interval probabilities are useful for determining whether an observation appears extreme."
   ]
  },
  {
   "cell_type": "markdown",
   "metadata": {},
   "source": [
    "## Sample space analysis\n",
    "Sample space is the set of all possible outcomes of a particular experiment or trial.\n",
    "Event size refers to the number of outcomes in a specific event within that sample space.\n",
    "\n",
    "For example, if you roll a die, the sample space is the set of all possible outcomes: {1, 2, 3, 4, 5, 6}.\n",
    "\n",
    "The event size of rolling an even number is 3, because there are three possible outcomes: {2, 4, 6}. Therefore, the probability of rolling an even number is 3/6 = 1/2.\n",
    "\n",
    "The event size of rolling a number greater than 4 is 2, because there are two possible outcomes: {5, 6}. Therefore, the probability of rolling a number greater than 4 is 2/6 = 1/3."
   ]
  },
  {
   "cell_type": "code",
   "execution_count": 52,
   "metadata": {},
   "outputs": [
    {
     "name": "stdout",
     "output_type": "stream",
     "text": [
      "Probability of choosing heads is 0.5\n"
     ]
    }
   ],
   "source": [
    "sample_space = {'Heads', 'Tails'}\n",
    "probability_heads = 1 / len(sample_space)\n",
    "print(f'Probability of choosing heads is {probability_heads}')"
   ]
  },
  {
   "cell_type": "code",
   "execution_count": 58,
   "metadata": {},
   "outputs": [],
   "source": [
    "# An event is the subset of elements within the sample space that satisfy an event condition. \n",
    "# An event condition is a simple Boolean function whose input is a single sample_space element.\n",
    "# The function returns True only if the element satisfies our condition constraints.\n",
    "# The book's code originally defined is_neither(outcome) as a negation of is_heads_or_tails(outcome).\n",
    "# That resulted in an error because is_heads_or_tails(outcome) returned a Boolean value, not an element.\n",
    "\n",
    "def is_heads_or_tails(outcome): return outcome in {'Heads', 'Tails'}\n",
    "def is_neither(outcome): return outcome not in {'Heads', 'Tails'}"
   ]
  },
  {
   "cell_type": "code",
   "execution_count": 59,
   "metadata": {},
   "outputs": [
    {
     "name": "stdout",
     "output_type": "stream",
     "text": [
      "\"Grafton\" is a valid outcome: False\n",
      "\"Heads\" is a valid outcome: True\n"
     ]
    }
   ],
   "source": [
    "print(f'\"Grafton\" is a valid outcome: {is_heads_or_tails(\"Grafton\")}')\n",
    "print(f'\"Heads\" is a valid outcome: {is_heads_or_tails(\"Heads\")}')"
   ]
  },
  {
   "cell_type": "code",
   "execution_count": 60,
   "metadata": {},
   "outputs": [
    {
     "data": {
      "text/plain": [
       "True"
      ]
     },
     "execution_count": 60,
     "metadata": {},
     "output_type": "execute_result"
    }
   ],
   "source": [
    "is_neither(sample_space)"
   ]
  },
  {
   "cell_type": "code",
   "execution_count": 61,
   "metadata": {},
   "outputs": [],
   "source": [
    "# Define additional event conditions\n",
    "def is_heads(outcome): return outcome == 'Heads'\n",
    "def is_tails(outcome): return outcome == 'Tails'"
   ]
  },
  {
   "cell_type": "code",
   "execution_count": 62,
   "metadata": {},
   "outputs": [
    {
     "data": {
      "text/plain": [
       "False"
      ]
     },
     "execution_count": 62,
     "metadata": {},
     "output_type": "execute_result"
    }
   ],
   "source": [
    "is_heads('Tails')"
   ]
  },
  {
   "cell_type": "code",
   "execution_count": 63,
   "metadata": {},
   "outputs": [],
   "source": [
    "# Define a function that iterates through the generic sample space and returns the set of outcomes where event_condition(outcome)) is True.\n",
    "# Leonard has a less Pythonic way of doing this, but I think this is more elegant.\n",
    "\n",
    "def get_matching_event(event_condition, sample_space):\n",
    "    return {outcome for outcome in sample_space if event_condition(outcome)}"
   ]
  },
  {
   "cell_type": "code",
   "execution_count": 64,
   "metadata": {},
   "outputs": [
    {
     "name": "stdout",
     "output_type": "stream",
     "text": [
      "Event Condition: is_heads_or_tails\n",
      "Event: {'Tails', 'Heads'}\n",
      "\n",
      "Event Condition: is_heads\n",
      "Event: {'Heads'}\n",
      "\n",
      "Event Condition: is_tails\n",
      "Event: {'Tails'}\n",
      "\n",
      "Event Condition: is_neither\n",
      "Event: set()\n",
      "\n"
     ]
    }
   ],
   "source": [
    "event_conditions = [is_heads_or_tails, is_heads, is_tails, is_neither]\n",
    "\n",
    "for event_condition in event_conditions:\n",
    "    print(f'Event Condition: {event_condition.__name__}')\n",
    "    event = get_matching_event(event_condition, sample_space)\n",
    "    print(f'Event: {event}\\n')"
   ]
  },
  {
   "cell_type": "code",
   "execution_count": 65,
   "metadata": {},
   "outputs": [],
   "source": [
    "def compute_probability(event_condition, generic_sample_space):\n",
    "    event = get_matching_event(event_condition, generic_sample_space)\n",
    "    return len(event) / len(sample_space)"
   ]
  },
  {
   "cell_type": "code",
   "execution_count": 66,
   "metadata": {},
   "outputs": [
    {
     "name": "stdout",
     "output_type": "stream",
     "text": [
      "Probability of 'is_neither' is 1.0\n",
      "Probability of 'is_neither' is 0.5\n",
      "Probability of 'is_neither' is 0.5\n",
      "Probability of 'is_neither' is 0.0\n"
     ]
    }
   ],
   "source": [
    "for event in event_conditions:\n",
    "    prob = compute_probability(event, sample_space)\n",
    "    name = event_condition.__name__\n",
    "    print(f\"Probability of '{name}' is {prob}\")"
   ]
  },
  {
   "cell_type": "markdown",
   "metadata": {},
   "source": [
    "### Analyzing a biased coin"
   ]
  },
  {
   "cell_type": "code",
   "execution_count": 74,
   "metadata": {},
   "outputs": [],
   "source": [
    "weighted_sample_space = {'Heads': 4, 'Tails': 1}"
   ]
  },
  {
   "cell_type": "code",
   "execution_count": 75,
   "metadata": {},
   "outputs": [],
   "source": [
    "# Redefine the sample size space as the sum of all dictionary weights and check that it equals 5.\n",
    "sample_space_size = sum(weighted_sample_space.values())\n",
    "assert sample_space_size == 5"
   ]
  },
  {
   "cell_type": "code",
   "execution_count": 78,
   "metadata": {},
   "outputs": [],
   "source": [
    "# Checking the weighted event size\n",
    "event = get_matching_event(is_heads_or_tails, weighted_sample_space)\n",
    "event_size = sum(weighted_sample_space[outcome] for outcome in event) # Sums the weights of the event outcomes\n",
    "assert event_size == 5"
   ]
  },
  {
   "cell_type": "code",
   "execution_count": 89,
   "metadata": {},
   "outputs": [],
   "source": [
    "# Defining a generalized event probability function\n",
    "# Used for complex events that involve multiple conditions\n",
    "def compute_event_probability(event_condition, generic_sample_space) -> float:\n",
    "    event = get_matching_event(event_condition, generic_sample_space)\n",
    "    if type(generic_sample_space) == type(set()):\n",
    "        return len(event) / len(generic_sample_space)\n",
    "    \n",
    "    event_size = sum(generic_sample_space[outcome] for outcome in event) # Sums the weights of the event outcomes\n",
    "    return event_size / sum(generic_sample_space.values()) # Returns the probability of the event by dividing the size of the event by the total sample space"
   ]
  },
  {
   "cell_type": "code",
   "execution_count": 81,
   "metadata": {},
   "outputs": [
    {
     "name": "stdout",
     "output_type": "stream",
     "text": [
      "Probability of event arising from 'is_heads_or_tails' is 1.0\n",
      "Probability of event arising from 'is_heads' is 0.8\n",
      "Probability of event arising from 'is_tails' is 0.2\n",
      "Probability of event arising from 'is_neither' is 0.0\n"
     ]
    }
   ],
   "source": [
    "# Computing weighted event probabilities\n",
    "for event_condition in event_conditions:\n",
    "    prob = compute_event_probability(event_condition, weighted_sample_space)\n",
    "    name = event_condition.__name__\n",
    "    print(f\"Probability of event arising from '{name}' is {prob}\")"
   ]
  },
  {
   "cell_type": "markdown",
   "metadata": {},
   "source": [
    "## Computing nontrivial probabilities"
   ]
  },
  {
   "cell_type": "markdown",
   "metadata": {},
   "source": [
    "### Analyzing a family with four children\n",
    "What is the probability that exactly two of the children in a family of four are boys? Assume that each child is equally likely to be either a boy or a girl."
   ]
  },
  {
   "cell_type": "code",
   "execution_count": 83,
   "metadata": {},
   "outputs": [],
   "source": [
    "# Inefficiently computing the sample space of children\n",
    "possible_children = ['Boy', 'Girl']\n",
    "sample_space = set() # Initialize an empty set\n",
    "for child1 in possible_children:\n",
    "    for child2 in possible_children:\n",
    "        for child3 in possible_children:\n",
    "            for child4 in possible_children:\n",
    "                outcome = (child1, child2, child3, child4)\n",
    "                sample_space.add(outcome)"
   ]
  },
  {
   "cell_type": "code",
   "execution_count": 84,
   "metadata": {},
   "outputs": [],
   "source": [
    "# Computing the sample space using `product`\n",
    "from itertools import product\n",
    "all_combinations = product(*(4 * [possible_children])) # The * operator unpacks the list into 4 separate arguments\n",
    "assert set(all_combinations) == sample_space"
   ]
  },
  {
   "cell_type": "code",
   "execution_count": 85,
   "metadata": {},
   "outputs": [],
   "source": [
    "# Computing the sample space using `product` and `repeat`\n",
    "sample_space_efficient = set(product(possible_children, repeat=4)) # repeat=4 is equivalent to 4 * [possible_children]\n",
    "assert sample_space_efficient == sample_space # Check that the two sample spaces are equal"
   ]
  },
  {
   "cell_type": "code",
   "execution_count": 90,
   "metadata": {},
   "outputs": [
    {
     "name": "stdout",
     "output_type": "stream",
     "text": [
      "The probability of 2 boys is 0.375\n"
     ]
    }
   ],
   "source": [
    "# Computing the probability of two boys after defining a has_two_boys event condition\n",
    "def has_two_boys(outcome): return len([child for child in outcome if child == 'Boy']) == 2\n",
    "\n",
    "prob = compute_event_probability(has_two_boys, sample_space)\n",
    "print(f\"The probability of 2 boys is {prob}\")"
   ]
  },
  {
   "cell_type": "markdown",
   "metadata": {},
   "source": [
    "### Analyzing multiple die rolls\n",
    "What is the probability that a 6d6 roll will add up to 21?"
   ]
  },
  {
   "cell_type": "code",
   "execution_count": 91,
   "metadata": {},
   "outputs": [
    {
     "name": "stdout",
     "output_type": "stream",
     "text": [
      "[1, 2, 3, 4, 5, 6]\n"
     ]
    }
   ],
   "source": [
    "possible_rolls = list(range(1, 7))\n",
    "print(possible_rolls)"
   ]
  },
  {
   "cell_type": "code",
   "execution_count": 92,
   "metadata": {},
   "outputs": [],
   "source": [
    "# Create a sample space for six consecutive rolls using the product function\n",
    "sample_space = set(product(possible_rolls, repeat=6))"
   ]
  },
  {
   "cell_type": "code",
   "execution_count": 94,
   "metadata": {},
   "outputs": [
    {
     "name": "stdout",
     "output_type": "stream",
     "text": [
      "6 rolls sum to 21 with a probability of 0.09284979423868313\n"
     ]
    }
   ],
   "source": [
    "# Compute the probability of a die-roll sum by defining a has_sum_of_21 event condition\n",
    "def has_sum_of_21(outcome): return sum(outcome) == 21\n",
    "\n",
    "prob = compute_event_probability(has_sum_of_21, sample_space)\n",
    "print(f\"6 rolls sum to 21 with a probability of {prob}\")"
   ]
  },
  {
   "cell_type": "code",
   "execution_count": 95,
   "metadata": {},
   "outputs": [],
   "source": [
    "# Let's try it again, but with a lambda function.\n",
    "# For some reason, this makes more sense to me. The syntax is less awkward.\n",
    "prob = compute_event_probability(lambda x: sum(x) == 21, sample_space)\n",
    "assert prob == compute_event_probability(has_sum_of_21, sample_space)"
   ]
  },
  {
   "cell_type": "markdown",
   "metadata": {},
   "source": [
    "### Computing die-roll probabilities using weighted sample spaces\n",
    "We need to convert our unweighted sample space set into a weighted sample space dictionary, which requires us to identify all possible die-roll sums. Then we count the number of times each sum appears across all possible die-roll combinations. (Remember that the combinations are already stored in our computed `sample_space` set.)"
   ]
  },
  {
   "cell_type": "code",
   "execution_count": 96,
   "metadata": {},
   "outputs": [],
   "source": [
    "from collections import defaultdict\n",
    "weighted_sample_space = defaultdict(int) # Initialize a dictionary with default value of 0\n",
    "for outcome in sample_space:\n",
    "    total = sum(outcome) # Computes the summed value of six unique die rolls\n",
    "    weighted_sample_space[total] += 1 # Updates the occurrence count (weight) for a summed dice value"
   ]
  },
  {
   "cell_type": "code",
   "execution_count": 97,
   "metadata": {},
   "outputs": [],
   "source": [
    "# Check the rare die-roll combinations\n",
    "assert weighted_sample_space[6] == 1\n",
    "assert weighted_sample_space[36] == 1"
   ]
  },
  {
   "cell_type": "code",
   "execution_count": 98,
   "metadata": {},
   "outputs": [
    {
     "name": "stdout",
     "output_type": "stream",
     "text": [
      "There are 4332 combinations that sum to 21\n"
     ]
    }
   ],
   "source": [
    "# Check the more common die-roll combinations\n",
    "num_combinations = weighted_sample_space[21]\n",
    "print(f\"There are {num_combinations} combinations that sum to 21\")"
   ]
  },
  {
   "cell_type": "code",
   "execution_count": 99,
   "metadata": {},
   "outputs": [],
   "source": [
    "assert sum([4,4,4,4,3,2]) == 21\n",
    "assert sum([4,4,4,5,3,1]) == 21"
   ]
  },
  {
   "cell_type": "code",
   "execution_count": 100,
   "metadata": {},
   "outputs": [],
   "source": [
    "# The observed count of 4,332 is equal to the length of the unweighted event whose die rolls add up to 21.\n",
    "# Also, the sum of values in weighted_sample is equal to the length of sample_space.\n",
    "\n",
    "event = get_matching_event(lambda x: sum(x) == 21, sample_space)\n",
    "assert weighted_sample_space[21] == len(event)\n",
    "assert sum(weighted_sample_space.values()) == len(sample_space)"
   ]
  },
  {
   "cell_type": "code",
   "execution_count": 102,
   "metadata": {},
   "outputs": [
    {
     "name": "stdout",
     "output_type": "stream",
     "text": [
      "6 rolls sum to 21 with a probability of 0.09284979423868313\n"
     ]
    }
   ],
   "source": [
    "# Recompute the probability using the weighted_sample_space dictionary.\n",
    "# The final probability of rolling a 21 should remain unchanged.\n",
    "\n",
    "prob = compute_event_probability(lambda x: x == 21, weighted_sample_space) # The lambda function returns True if the input is 21\n",
    "assert prob == compute_event_probability(has_sum_of_21, sample_space)\n",
    "print(f\"6 rolls sum to 21 with a probability of {prob}\")"
   ]
  },
  {
   "cell_type": "code",
   "execution_count": 107,
   "metadata": {},
   "outputs": [
    {
     "name": "stdout",
     "output_type": "stream",
     "text": [
      "Number of Elements in Unweighted Sample Space: 46656\n",
      "Number of Elements in Weighted Sample Space: 31\n"
     ]
    }
   ],
   "source": [
    "# Let's check the memory usage of each method of computing the sample space.\n",
    "\n",
    "print(f'Number of Elements in Unweighted Sample Space: {len(sample_space)}')\n",
    "print(f'Number of Elements in Weighted Sample Space: {len(weighted_sample_space)}')"
   ]
  },
  {
   "cell_type": "markdown",
   "metadata": {},
   "source": [
    "## Computing probabilities that span interval value ranges\n",
    "An interval is the set of all the numbers between and including two boundary cutoffs. For example, the interval [1, 3] is the set {1, 2, 3}.\n",
    "\n",
    "This section introduces `is_in_interval()`, a function that determines whether a value is in a specified interval. The function takes three arguments: the value to be tested, the lower boundary of the interval, and the upper boundary of the interval. The function returns `True` if the value is in the interval and `False` otherwise."
   ]
  },
  {
   "cell_type": "code",
   "execution_count": 108,
   "metadata": {},
   "outputs": [],
   "source": [
    "# Dfine an interval function that checks whether a value is within a specified interval. \n",
    "def is_in_interval(number, minimum, maximum) -> bool: return minimum <= number <= maximum"
   ]
  },
  {
   "cell_type": "code",
   "execution_count": 111,
   "metadata": {},
   "outputs": [
    {
     "name": "stdout",
     "output_type": "stream",
     "text": [
      "The probability of a sum between 10 and 21 is 0.5446244855967078\n"
     ]
    }
   ],
   "source": [
    "# Compute the likelihood that six consecutive die rolls sum to a value between 10 and 21 (inclusive)\n",
    "# The lambda function returns True if the input is between 10 and 21. This is the event condition.\n",
    "prob = compute_event_probability(lambda x: is_in_interval(x, 10, 21), weighted_sample_space) \n",
    "print(f\"The probability of a sum between 10 and 21 is {prob}\")"
   ]
  },
  {
   "cell_type": "markdown",
   "metadata": {},
   "source": [
    "### Evaluating extremes using interval analysis\n",
    "One problem that interval analysis can solve is the evaluation of extremes: is observed data too extreme to be believable? If a fair coin flips heads eight out of 10 times, is this a believable outcome? This elicits the question: what is the probability of flipping eight to 10 heads out of 10 flips of a fair coin? We find the answer by computing an interval probability."
   ]
  },
  {
   "cell_type": "code",
   "execution_count": 124,
   "metadata": {},
   "outputs": [],
   "source": [
    "# Create a weighted sample space for the number of heads in 10 coin flips\n",
    "# We expect weighted_sample_space[10] to equal 1 because there is only one way to get 10 heads in 10 flips.\n",
    "# Meanwhile, weighted_sample_space[9] should equal 10, since there is just one possible way to flip a coin 10 times and get 9 heads.\n",
    "# Accordingly, weighted_sample_space[5] should equal 252 because there are 252 ways to get 5 heads in 10 flips.\n",
    "\n",
    "from collections import defaultdict\n",
    "from itertools import product\n",
    "\n",
    "def generate_coin_sample_space(num_flips=10):\n",
    "    sample_space = defaultdict(int)\n",
    "    for coin_flips in product(['Heads', 'Tails'], repeat=num_flips): # This is a new way to use the product function\n",
    "        heads_count = len([outcome for outcome in coin_flips if outcome == 'Heads'])\n",
    "        sample_space[heads_count] += 1\n",
    "    return sample_space\n",
    "\n",
    "weighted_sample_space = generate_coin_sample_space()\n",
    "assert weighted_sample_space[10] == 1\n",
    "assert weighted_sample_space[9] == 10"
   ]
  },
  {
   "cell_type": "code",
   "execution_count": 126,
   "metadata": {},
   "outputs": [
    {
     "name": "stdout",
     "output_type": "stream",
     "text": [
      "Probability of observing more than 7 yeads is 0.0546875\n"
     ]
    }
   ],
   "source": [
    "prob = compute_event_probability(lambda x: is_in_interval(x, 8, 10), weighted_sample_space)\n",
    "print(f'Probability of observing more than 7 yeads is {prob}')"
   ]
  },
  {
   "cell_type": "code",
   "execution_count": 129,
   "metadata": {},
   "outputs": [
    {
     "name": "stdout",
     "output_type": "stream",
     "text": [
      "The probability of observing more than 7 heads or 7 tails is 0.109375\n"
     ]
    }
   ],
   "source": [
    "# 10 fair coin flips produce more than seven heads about 5% of the time.\n",
    "# This doesn't necessarily mean the coin is biased.\n",
    "# We need to include the likeliness of observing eight tails or more to evaluate fairness. \n",
    "# Let's compute the probability that the coin flips do not produce from three to seven heads. \n",
    "\n",
    "prob = compute_event_probability(lambda x: not is_in_interval(x, 3, 7), weighted_sample_space)\n",
    "print(f'The probability of observing more than 7 heads or 7 tails is {prob}')"
   ]
  },
  {
   "cell_type": "code",
   "execution_count": 135,
   "metadata": {},
   "outputs": [
    {
     "name": "stdout",
     "output_type": "stream",
     "text": [
      "The probability of observing more than 15 heads or 15 tails is 0.01181793212890625\n"
     ]
    }
   ],
   "source": [
    "# Let's try more observations. If we double the flips, we should see a more even distribution of heads and tails.\n",
    "# To test for fairness, we should find the probability of 20 flips not producing between 5 and 15 heads.\n",
    "weighted_sample_space_20_flips = generate_coin_sample_space(num_flips=20)\n",
    "prob = compute_event_probability(lambda x: not is_in_interval(x, 5, 15), weighted_sample_space_20_flips)\n",
    "print(f'The probability of observing more than 15 heads or 15 tails is {prob}')\n",
    "\n",
    "# The probability dropped 10-fold, but the ratio of heads to tails remains constant at 4 to 1.\n",
    "# This should make sense as it's based on a biased coin. \n",
    "# Why does the probability of observing an extreme result decrease as the coin is flipped more times?"
   ]
  },
  {
   "cell_type": "markdown",
   "metadata": {},
   "source": [
    "# Section 2: Plotting probabilities using Matplotlib"
   ]
  },
  {
   "cell_type": "code",
   "execution_count": null,
   "metadata": {},
   "outputs": [],
   "source": []
  }
 ],
 "metadata": {
  "kernelspec": {
   "display_name": "Python 3",
   "language": "python",
   "name": "python3"
  },
  "language_info": {
   "codemirror_mode": {
    "name": "ipython",
    "version": 3
   },
   "file_extension": ".py",
   "mimetype": "text/x-python",
   "name": "python",
   "nbconvert_exporter": "python",
   "pygments_lexer": "ipython3",
   "version": "3.10.9"
  }
 },
 "nbformat": 4,
 "nbformat_minor": 0
}
