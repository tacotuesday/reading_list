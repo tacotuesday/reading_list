{
 "cells": [
  {
   "cell_type": "markdown",
   "metadata": {},
   "source": [
    "# Chapter 6: Advanced Optimization\n",
    "## The Traveling Salesman Problem"
   ]
  },
  {
   "cell_type": "code",
   "execution_count": 116,
   "metadata": {},
   "outputs": [],
   "source": [
    "import numpy as np\n",
    "random_seed = 1729\n",
    "np.random.seed(random_seed)\n",
    "N = 40\n",
    "x = np.random.rand(N)\n",
    "y = np.random.rand(N)\n",
    "points = zip(x,y)\n",
    "cities = list(points)"
   ]
  },
  {
   "cell_type": "code",
   "execution_count": 117,
   "metadata": {},
   "outputs": [
    {
     "name": "stdout",
     "output_type": "stream",
     "text": [
      "[(0.21215859519373315, 0.1421890509660515), (0.25901824052776146, 0.4415438502354807), (0.42352187994602863, 0.6384708617951832), (0.7196610137879806, 0.4541115917001236), (0.6922509256107934, 0.9795099465634718), (0.7281748161649396, 0.497003900057289), (0.2875498733527475, 0.987892114481641), (0.25408333020469553, 0.9438765028592432), (0.9609289991025697, 0.31254425748246295), (0.5652066087690863, 0.527268363065508), (0.0669470282293596, 0.743806143933605), (0.7333909009768429, 0.9080655744313583), (0.5097899289931794, 0.9438536218932465), (0.2275735994122996, 0.8300476280141759), (0.34145108286419, 0.2560140784278434), (0.5119931773955035, 0.04764567825851673), (0.9607228565214858, 0.3459590815475251), (0.6140544248143194, 0.22568954246099482), (0.7524005962652125, 0.5691469284846282), (0.9003957980585882, 0.6872708115099813), (0.3471312754415167, 0.3122221374834556), (0.6550253186247254, 0.6860405486796042), (0.39706771454841694, 0.6586237030125843), (0.12686022007415232, 0.7679194161737204), (0.4578220316492094, 0.41653878964485913), (0.13562144183107572, 0.9665324171417488), (0.1981645009837686, 0.6316255864165528), (0.31146770849702, 0.17270521416205642), (0.48521018562429663, 0.5637236284567362), (0.44675217642800147, 0.7336804262090365), (0.7332888877374842, 0.8505188962506546), (0.4580515975172603, 0.9821904302629325), (0.5032532814320996, 0.408624058159607), (0.048023749212117384, 0.08481148903200542), (0.5447527699889883, 0.48221361520263173), (0.8580770876369965, 0.6255466523559297), (0.44192640794796945, 0.17265087258937772), (0.595681694551189, 0.13920557618927332), (0.488235675918294, 0.6520122154180897), (0.061422697881866495, 0.5830700825761637)]\n"
     ]
    }
   ],
   "source": [
    "print(cities)"
   ]
  },
  {
   "cell_type": "code",
   "execution_count": 118,
   "metadata": {},
   "outputs": [],
   "source": [
    "itinerary = list(range(0,N))\n",
    "initial_itinerary = list(range(0,N))"
   ]
  },
  {
   "cell_type": "code",
   "execution_count": 119,
   "metadata": {},
   "outputs": [
    {
     "name": "stdout",
     "output_type": "stream",
     "text": [
      "[0, 1, 2, 3, 4, 5, 6, 7, 8, 9, 10, 11, 12, 13, 14, 15, 16, 17, 18, 19, 20, 21, 22, 23, 24, 25, 26, 27, 28, 29, 30, 31, 32, 33, 34, 35, 36, 37, 38, 39]\n"
     ]
    }
   ],
   "source": [
    "print(itinerary)"
   ]
  },
  {
   "cell_type": "code",
   "execution_count": 120,
   "metadata": {},
   "outputs": [],
   "source": [
    "lines=[]\n",
    "for j in range(0,len(itinerary) - 1):\n",
    "    lines.append([cities[itinerary[j]],cities[itinerary[j + 1]]])"
   ]
  },
  {
   "cell_type": "code",
   "execution_count": 121,
   "metadata": {},
   "outputs": [
    {
     "name": "stdout",
     "output_type": "stream",
     "text": [
      "[[(0.21215859519373315, 0.1421890509660515), (0.25901824052776146, 0.4415438502354807)], [(0.25901824052776146, 0.4415438502354807), (0.42352187994602863, 0.6384708617951832)], [(0.42352187994602863, 0.6384708617951832), (0.7196610137879806, 0.4541115917001236)], [(0.7196610137879806, 0.4541115917001236), (0.6922509256107934, 0.9795099465634718)], [(0.6922509256107934, 0.9795099465634718), (0.7281748161649396, 0.497003900057289)], [(0.7281748161649396, 0.497003900057289), (0.2875498733527475, 0.987892114481641)], [(0.2875498733527475, 0.987892114481641), (0.25408333020469553, 0.9438765028592432)], [(0.25408333020469553, 0.9438765028592432), (0.9609289991025697, 0.31254425748246295)], [(0.9609289991025697, 0.31254425748246295), (0.5652066087690863, 0.527268363065508)], [(0.5652066087690863, 0.527268363065508), (0.0669470282293596, 0.743806143933605)], [(0.0669470282293596, 0.743806143933605), (0.7333909009768429, 0.9080655744313583)], [(0.7333909009768429, 0.9080655744313583), (0.5097899289931794, 0.9438536218932465)], [(0.5097899289931794, 0.9438536218932465), (0.2275735994122996, 0.8300476280141759)], [(0.2275735994122996, 0.8300476280141759), (0.34145108286419, 0.2560140784278434)], [(0.34145108286419, 0.2560140784278434), (0.5119931773955035, 0.04764567825851673)], [(0.5119931773955035, 0.04764567825851673), (0.9607228565214858, 0.3459590815475251)], [(0.9607228565214858, 0.3459590815475251), (0.6140544248143194, 0.22568954246099482)], [(0.6140544248143194, 0.22568954246099482), (0.7524005962652125, 0.5691469284846282)], [(0.7524005962652125, 0.5691469284846282), (0.9003957980585882, 0.6872708115099813)], [(0.9003957980585882, 0.6872708115099813), (0.3471312754415167, 0.3122221374834556)], [(0.3471312754415167, 0.3122221374834556), (0.6550253186247254, 0.6860405486796042)], [(0.6550253186247254, 0.6860405486796042), (0.39706771454841694, 0.6586237030125843)], [(0.39706771454841694, 0.6586237030125843), (0.12686022007415232, 0.7679194161737204)], [(0.12686022007415232, 0.7679194161737204), (0.4578220316492094, 0.41653878964485913)], [(0.4578220316492094, 0.41653878964485913), (0.13562144183107572, 0.9665324171417488)], [(0.13562144183107572, 0.9665324171417488), (0.1981645009837686, 0.6316255864165528)], [(0.1981645009837686, 0.6316255864165528), (0.31146770849702, 0.17270521416205642)], [(0.31146770849702, 0.17270521416205642), (0.48521018562429663, 0.5637236284567362)], [(0.48521018562429663, 0.5637236284567362), (0.44675217642800147, 0.7336804262090365)], [(0.44675217642800147, 0.7336804262090365), (0.7332888877374842, 0.8505188962506546)], [(0.7332888877374842, 0.8505188962506546), (0.4580515975172603, 0.9821904302629325)], [(0.4580515975172603, 0.9821904302629325), (0.5032532814320996, 0.408624058159607)], [(0.5032532814320996, 0.408624058159607), (0.048023749212117384, 0.08481148903200542)], [(0.048023749212117384, 0.08481148903200542), (0.5447527699889883, 0.48221361520263173)], [(0.5447527699889883, 0.48221361520263173), (0.8580770876369965, 0.6255466523559297)], [(0.8580770876369965, 0.6255466523559297), (0.44192640794796945, 0.17265087258937772)], [(0.44192640794796945, 0.17265087258937772), (0.595681694551189, 0.13920557618927332)], [(0.595681694551189, 0.13920557618927332), (0.488235675918294, 0.6520122154180897)], [(0.488235675918294, 0.6520122154180897), (0.061422697881866495, 0.5830700825761637)]]\n"
     ]
    }
   ],
   "source": [
    "print(lines)"
   ]
  },
  {
   "cell_type": "code",
   "execution_count": 122,
   "metadata": {},
   "outputs": [],
   "source": [
    "def genlines(cities,itinerary):\n",
    "    lines = []\n",
    "    for j in range(0, len(itinerary) - 1):\n",
    "        lines.append([cities[itinerary[j]],cities[itinerary[j + 1]]])\n",
    "    return(lines)\n",
    "\n",
    "import math\n",
    "def howfar(lines):\n",
    "    distance = 0\n",
    "    for j in range(0,len(lines)):\n",
    "        distance += math.sqrt(abs(lines[j][1][0] - lines[j][0][0])**2 + abs(lines[j][1][1] - lines[j][0][1])**2)\n",
    "    return(distance)\n",
    "\n",
    "totaldistance = howfar(genlines(cities,itinerary))"
   ]
  },
  {
   "cell_type": "code",
   "execution_count": 123,
   "metadata": {},
   "outputs": [
    {
     "name": "stdout",
     "output_type": "stream",
     "text": [
      "16.808756356994223\n"
     ]
    }
   ],
   "source": [
    "print(totaldistance)"
   ]
  },
  {
   "cell_type": "code",
   "execution_count": 124,
   "metadata": {},
   "outputs": [],
   "source": [
    "import matplotlib.collections as mc # I need to learn a lot more about Matplotlib.\n",
    "import matplotlib.pylab as pl\n",
    "def plotitinerary(cities, itin,plottitle,thename):\n",
    "    lc = mc.LineCollection(genlines(cities, itin), linewidths=2)\n",
    "    fig, ax = pl.subplots()\n",
    "    ax.add_collection(lc)\n",
    "    ax.autoscale()\n",
    "    ax.margins(0.1)\n",
    "    pl.scatter(x, y)\n",
    "    pl.title(plottitle)\n",
    "    pl.xlabel('X Coordinate')\n",
    "    pl.ylabel('Y Coordinate')\n",
    "    pl.savefig(str(thename) + '.png')\n",
    "    pl.close()"
   ]
  },
  {
   "cell_type": "code",
   "execution_count": 125,
   "metadata": {},
   "outputs": [],
   "source": [
    "plotitinerary(cities, itinerary, 'TSP - Random Itinerary', 'figure2')"
   ]
  },
  {
   "cell_type": "markdown",
   "metadata": {},
   "source": [
    "### The Nearest Neighbor Algorithm"
   ]
  },
  {
   "cell_type": "code",
   "execution_count": 126,
   "metadata": {},
   "outputs": [
    {
     "name": "stdout",
     "output_type": "stream",
     "text": [
      "(0.0669470282293596, 0.743806143933605)\n",
      "0.0669470282293596\n",
      "0.743806143933605\n",
      "0.49696711378033537\n"
     ]
    }
   ],
   "source": [
    "# The distance between point and the jth element of cities by Pythagoras. \n",
    "# Remember that this is not always the appropriate way to measure geometrical distance.\n",
    "# Consider the Pythagorean distance around the corner of a city block: not the right distance between points if you're a car.\n",
    "# Remember to use k-Nearest Neighbor to avoid this inaccuracy.\n",
    "\n",
    "point = [0.5,0.5]\n",
    "j = 10\n",
    "distance = math.sqrt((point[0] - cities[j][0])**2 + (point[1] - cities[j][1])**2)\n",
    "print(cities[j])\n",
    "print(cities[j][0])\n",
    "print(cities[j][1])\n",
    "print(distance)"
   ]
  },
  {
   "cell_type": "code",
   "execution_count": 127,
   "metadata": {},
   "outputs": [],
   "source": [
    "def findnearest(cities,idx,nnitinerary):\n",
    "    point = cities[idx]\n",
    "    mindistance = float('inf')\n",
    "    minidx = - 1\n",
    "    for j in range(0,len(cities)):\n",
    "        distance = math.sqrt((point[0] - cities[j][0])**2 + (point[1] - cities[j][1])**2)\n",
    "        if distance < mindistance and distance > 0 and j not in nnitinerary: # Cool, I didn't know you could use this many conditionals at one time.\n",
    "            mindistance = distance\n",
    "            minidx = j\n",
    "    return(minidx)\n",
    "\n",
    "def donn(cities,N): # \"do nearest neighbor\"\n",
    "    nnitinerary = [0]\n",
    "    for j in range(0,N - 1):\n",
    "        next = findnearest(cities,nnitinerary[len(nnitinerary) - 1],nnitinerary)\n",
    "        nnitinerary.append(next)\n",
    "    return(nnitinerary)"
   ]
  },
  {
   "cell_type": "code",
   "execution_count": 128,
   "metadata": {},
   "outputs": [
    {
     "name": "stdout",
     "output_type": "stream",
     "text": [
      "The salesman traveled 6.29 using Nearest Neighbor, versus 16.81 in a random itinerary.\n",
      "The Nearest Neighbor trip distance is 0.37 of the distance of a random itinerary.\n"
     ]
    }
   ],
   "source": [
    "plotitinerary(cities,donn(cities,N),'TSP - Nearest Neighbor', 'figure3')\n",
    "nnDist = howfar(genlines(cities,donn(cities,N)))\n",
    "print('The salesman traveled {:.2f} using Nearest Neighbor, versus {:.2f} in a random itinerary.'.format(nnDist,totaldistance))\n",
    "print('The Nearest Neighbor trip distance is {:.2f} of the distance of a random itinerary.'.format((nnDist/totaldistance)))"
   ]
  },
  {
   "cell_type": "markdown",
   "metadata": {},
   "source": [
    "Let's tweak the model. Suppose that you think you could improve the saleman's trip by switching the visits to city 6 and city 30."
   ]
  },
  {
   "cell_type": "code",
   "execution_count": 129,
   "metadata": {},
   "outputs": [],
   "source": [
    "new_itinerary = [0, 1, 2, 3, 4, 5, 30, 7, 8, 9, 10, 11, 12, 13, 14, 15, 16, 17, 18, 19, 20, 21, 22, 23, 24, 25, 26, 27, 28, 29, 6, 31, 32, 33, 34, 35, 36, 37, 38, 39]"
   ]
  },
  {
   "cell_type": "code",
   "execution_count": 130,
   "metadata": {},
   "outputs": [
    {
     "name": "stdout",
     "output_type": "stream",
     "text": [
      "16.808756356994223\n",
      "16.791583620116665\n"
     ]
    }
   ],
   "source": [
    "print(howfar(genlines(cities,initial_itinerary)))\n",
    "print(howfar(genlines(cities,new_itinerary)))"
   ]
  },
  {
   "cell_type": "code",
   "execution_count": 136,
   "metadata": {},
   "outputs": [],
   "source": [
    "# Why iterate through brute force when we can use an algorithm?\n",
    "# This function makes a small change to an itinerary, compares it to the original itinerary, and returns whichever itinerary is shorter.\n",
    "\n",
    "def perturb(cities,itinerary):\n",
    "    neighborids1 = math.floor(np.random.rand() * (len(itinerary))) # Floor is necessary because this expression returns a float.\n",
    "    neighborids2 = math.floor(np.random.rand() * (len(itinerary)))\n",
    "\n",
    "    itinerary2 = itinerary.copy()\n",
    "\n",
    "    itinerary2[neighborids1] = itinerary[neighborids2]\n",
    "    itinerary2[neighborids2] = itinerary[neighborids1]\n",
    "\n",
    "    distance1 = howfar(genlines(cities,itinerary))\n",
    "    distance2 = howfar(genlines(cities,itinerary2))\n",
    "\n",
    "    itinerarytoreturn = itinerary.copy()\n",
    "\n",
    "    if(distance1 > distance2):\n",
    "        itinerarytoreturn = itinerary2.copy()\n",
    "\n",
    "    return(itinerarytoreturn.copy())\n"
   ]
  },
  {
   "cell_type": "code",
   "execution_count": 137,
   "metadata": {},
   "outputs": [
    {
     "name": "stdout",
     "output_type": "stream",
     "text": [
      "7.37962855396978\n"
     ]
    }
   ],
   "source": [
    "# Perturb search algorithm. \n",
    "# Guided search through many possible monotonically-decreasing itineraries.\n",
    "itinerary = list(range(0,N))\n",
    "\n",
    "np.random.seed(random_seed)\n",
    "itinerary_ps = itinerary.copy()\n",
    "for n in range(0,len(itinerary) * 50000): # Increasing the itinerary multiplier by 10 increases the solution time by a factor of 10.\n",
    "    itinerary_ps = perturb(cities, itinerary_ps)\n",
    "\n",
    "print(howfar(genlines(cities,itinerary_ps)))"
   ]
  },
  {
   "cell_type": "code",
   "execution_count": 138,
   "metadata": {},
   "outputs": [
    {
     "name": "stdout",
     "output_type": "stream",
     "text": [
      "[8, 16, 30, 11, 4, 7, 25, 10, 23, 13, 29, 38, 24, 20, 14, 36, 17, 9, 28, 34, 32, 27, 0, 1, 2, 22, 6, 31, 12, 21, 19, 35, 18, 5, 3, 37, 15, 33, 39, 26]\n"
     ]
    }
   ],
   "source": [
    "print(itinerary_ps)"
   ]
  },
  {
   "cell_type": "markdown",
   "metadata": {},
   "source": [
    "The nearest neighbor and `perturb` search algorithms are *greedy*. The fact that they make locally-optimal choices at each step means they are myopic to globally-optimal choices. The TSP may need to perturb to locally-worse choices to result in a globally-optimal route.\n",
    "\n",
    "We use a forcing function to provide feedback about finding the global optimum. The book uses the analogy of time-limiting a for the highest hill in an area knowing that it will be colder when the time is up. The temperature function is `temperature = lambda t: 1/(t+1)`. \n",
    "> This temperature is used as a schedule that will govern our optimization: our willingness to go down is porportional to the temperature at any given time."
   ]
  },
  {
   "cell_type": "code",
   "execution_count": 133,
   "metadata": {},
   "outputs": [
    {
     "data": {
      "image/png": "[encoded data removed]",
      "text/plain": [
       "<Figure size 432x288 with 1 Axes>"
      ]
     },
     "metadata": {
      "needs_background": "light"
     },
     "output_type": "display_data"
    }
   ],
   "source": [
    "temperature = lambda t: 1/(t+1)\n",
    "import matplotlib.pyplot as plt\n",
    "ts = list(range(0,100))\n",
    "plt.plot(ts, [temperature(t) for t in ts])\n",
    "plt.title('The Temperature Function')\n",
    "plt.xlabel('Time')\n",
    "plt.ylabel('Temperature')\n",
    "plt.show()"
   ]
  },
  {
   "cell_type": "markdown",
   "metadata": {},
   "source": [
    "## Simulated Annealing\n",
    "Consider the TSP solution space. Bringing the problem together with the temperature function, the search for a global peak among local peaks, and the `perturb` search algorithm, we can find an optimal itinerary. (What other forcing functions are commonly used in optimization?) Simulated annealing is a modified form of the `perturb` search algorithm. The difference is that simulated annealing will accept itinerary changes that increase the distance traveled in order to avoid local optimization, depending on the current temperature.\n",
    "\n",
    "Why does this algorithm share a name with a metallurgical process? During annealing, bonds in the metal are broken under high heat. As the metal cools, new bonds form, leading the metal to have different, more desirable properties. This algorithm \"breaks\" things by accepting worse solutions in the hope that as the temperature cools, we can fix them in a way that makes them better than before. This is a *metaphor-based metaheuristic*: it takes an existing process in nature or human society and finds a way to adapt it to solve an optimization problem."
   ]
  },
  {
   "cell_type": "code",
   "execution_count": 134,
   "metadata": {},
   "outputs": [],
   "source": [
    "# Modified perturb algorithm\n",
    "\n",
    "def perturb_sa1(cities,itinerary,time):\n",
    "    neighborids1 = math.floor(np.random.rand() * (len(itinerary))) # Floor is necessary because this expression returns a float.\n",
    "    neighborids2 = math.floor(np.random.rand() * (len(itinerary)))\n",
    "\n",
    "    itinerary2 = itinerary.copy()\n",
    "\n",
    "    itinerary2[neighborids1] = itinerary[neighborids2]\n",
    "    itinerary2[neighborids2] = itinerary[neighborids1]\n",
    "\n",
    "    distance1 = howfar(genlines(cities,itinerary))\n",
    "    distance2 = howfar(genlines(cities,itinerary2))\n",
    "\n",
    "    itinerarytoreturn = itinerary.copy()\n",
    "\n",
    "    randomdraw = np.random.rand()\n",
    "    temperature = 1/((time/1000) + 1)\n",
    "\n",
    "    if((distance2 > distance1 and (randomdraw) < (temperature)) or (distance1 > distance2)):\n",
    "        itinerarytoreturn = itinerary2.copy()\n",
    "\n",
    "    return(itinerarytoreturn.copy())"
   ]
  },
  {
   "cell_type": "code",
   "execution_count": 139,
   "metadata": {},
   "outputs": [
    {
     "name": "stdout",
     "output_type": "stream",
     "text": [
      "16.808756356994223\n",
      "7.37962855396978\n",
      "16.808756356994223\n",
      "6.29000579854535\n"
     ]
    }
   ],
   "source": [
    "itinerary = list(range(0,N))\n",
    "np.random.seed(random_seed)\n",
    "\n",
    "itinerary_sa = itinerary.copy()\n",
    "for n in range(0,len(itinerary) * 50000):\n",
    "    itinerary_sa = perturb_sa1(cities,itinerary_sa,n)\n",
    "\n",
    "print(howfar(genlines(cities,itinerary))) # random itinerary\n",
    "print(howfar(genlines(cities,itinerary_ps))) # perturb search\n",
    "print(howfar(genlines(cities,itinerary_sa))) # simulated annealing\n",
    "print(howfar(genlines(cities,donn(cities, N)))) # nearest neighbor"
   ]
  },
  {
   "cell_type": "markdown",
   "metadata": {},
   "source": [
    "Let's tune the algorithm! `perturb()` switches the place of two cities, but another method is to reverse some portion of the itinerary, or move an entire section from one spot in the itinerary to another."
   ]
  },
  {
   "cell_type": "code",
   "execution_count": 140,
   "metadata": {},
   "outputs": [
    {
     "name": "stdout",
     "output_type": "stream",
     "text": [
      "[0, 1, 2, 3, 4, 5, 6, 7, 8, 9, 19, 18, 17, 16, 15, 14, 13, 12, 11, 10, 20, 21, 22, 23, 24, 25, 26, 27, 28, 29, 30, 31, 32, 33, 34, 35, 36, 37, 38, 39]\n"
     ]
    }
   ],
   "source": [
    "# Example one: reversing part of the itinerary\n",
    "small = 10\n",
    "big = 20\n",
    "itinerary = list(range(0,N))\n",
    "itinerary[small:big] = itinerary[small:big][::-1] # Reverses the order of elements in itinerary from index `small` to index `big`\n",
    "print(itinerary)"
   ]
  },
  {
   "cell_type": "code",
   "execution_count": 145,
   "metadata": {},
   "outputs": [
    {
     "name": "stdout",
     "output_type": "stream",
     "text": [
      "5\n",
      "[0, 5, 6, 7, 8, 1, 2, 3, 4, 9]\n"
     ]
    }
   ],
   "source": [
    "# Example two: moving a part of the itinerary\n",
    "small = 1\n",
    "big = 5\n",
    "itinerary = list(range(0,10))\n",
    "tempitin = itinerary[small:big]\n",
    "del(itinerary[small:big])\n",
    "np.random.seed(random_seed + 1)\n",
    "neighborids3 = math.floor(np.random.rand() * (len(itinerary)))\n",
    "for j in range(0,len(tempitin)):\n",
    "    itinerary.insert(neighborids3 + j,tempitin[j])\n",
    "\n",
    "print(neighborids3)\n",
    "print(itinerary)"
   ]
  },
  {
   "cell_type": "code",
   "execution_count": 149,
   "metadata": {},
   "outputs": [],
   "source": [
    "# Modified simulated annealing algorithm\n",
    "# Includes tuning methods listed above\n",
    "\n",
    "def perturb_sa2(cities,itinerary,time):\n",
    "    neighborids1 = math.floor(np.random.rand() * (len(itinerary))) # Floor is necessary because this expression returns a float.\n",
    "    neighborids2 = math.floor(np.random.rand() * (len(itinerary)))\n",
    "\n",
    "    itinerary2 = itinerary.copy()\n",
    "\n",
    "    randomdraw2 = np.random.rand()\n",
    "    small = min(neighborids1, neighborids2)\n",
    "    big = max(neighborids1,neighborids2)\n",
    "    if(randomdraw2 >= 0.55):\n",
    "        itinerary2[small:big] = itinerary2[small:big][:: - 1]\n",
    "    elif(randomdraw2 < 0.45):\n",
    "        tempitin = itinerary[small:big]\n",
    "        del(itinerary2[small:big])\n",
    "        neighborids3 = math.floor(np.random.rand() * (len(itinerary)))\n",
    "        for j in range(0,len(tempitin)):\n",
    "            itinerary2.insert(neighborids3 + j,tempitin[j])\n",
    "    else:\n",
    "        itinerary2[neighborids1] = itinerary[neighborids2]\n",
    "        itinerary2[neighborids2] = itinerary[neighborids1]\n",
    "\n",
    "    distance1 = howfar(genlines(cities,itinerary))\n",
    "    distance2 = howfar(genlines(cities,itinerary2))\n",
    "\n",
    "    itinerarytoreturn = itinerary.copy()\n",
    "\n",
    "    randomdraw = np.random.rand()\n",
    "    temperature = 1/((time/1000) + 1)\n",
    "\n",
    "    scale = 3.5\n",
    "    if((distance2 > distance1 and (randomdraw) < (math.exp(scale*(distance1-distance2)) * temperature)) or (distance1 > distance2)): # Willingness to accept worse itinerary depends not only on temperature but also the effect on the itinerary distance.\n",
    "        itinerarytoreturn = itinerary2.copy()\n",
    "\n",
    "    return(itinerarytoreturn.copy())"
   ]
  },
  {
   "cell_type": "code",
   "execution_count": 151,
   "metadata": {},
   "outputs": [],
   "source": [
    "# Modified simulated annealing algorithm, v2\n",
    "# Includes storing the best itinerary and allowing resets\n",
    "\n",
    "def perturb_sa3(cities,itinerary,time,maxitin): # maxitin = number of times one intends to call the function\n",
    "    neighborids1 = math.floor(np.random.rand() * (len(itinerary))) # Floor is necessary because this expression returns a float.\n",
    "    neighborids2 = math.floor(np.random.rand() * (len(itinerary)))\n",
    "    global mindistance # Define the minimum distance achieved so far\n",
    "    global minitinerary # Define the itinerary that achieved the minimum distance\n",
    "    global minidx # Define the time at which the itinerary was achieved\n",
    "\n",
    "    itinerary2 = itinerary.copy()\n",
    "\n",
    "    randomdraw2 = np.random.rand()\n",
    "    small = min(neighborids1, neighborids2)\n",
    "    big = max(neighborids1,neighborids2)\n",
    "    if(randomdraw2 >= 0.55):\n",
    "        itinerary2[small:big] = itinerary2[small:big][:: - 1]\n",
    "    elif(randomdraw2 < 0.45):\n",
    "        tempitin = itinerary[small:big]\n",
    "        del(itinerary2[small:big])\n",
    "        neighborids3 = math.floor(np.random.rand() * (len(itinerary)))\n",
    "        for j in range(0,len(tempitin)):\n",
    "            itinerary2.insert(neighborids3 + j,tempitin[j])\n",
    "    else:\n",
    "        itinerary2[neighborids1] = itinerary[neighborids2]\n",
    "        itinerary2[neighborids2] = itinerary[neighborids1]\n",
    "\n",
    "    distance1 = howfar(genlines(cities,itinerary))\n",
    "    distance2 = howfar(genlines(cities,itinerary2))\n",
    "\n",
    "    itinerarytoreturn = itinerary.copy()\n",
    "\n",
    "    randomdraw = np.random.rand()\n",
    "    temperature = 1/((time/1000) + 1)\n",
    "\n",
    "    scale = 3.5\n",
    "    if((distance2 > distance1 and (randomdraw) < (math.exp(scale*(distance1-distance2)) * temperature)) or (distance1 > distance2)): # Willingness to accept worse itinerary depends not only on temperature but also the effect on the itinerary distance.\n",
    "        itinerarytoreturn = itinerary2.copy()\n",
    "\n",
    "    reset = True\n",
    "    resetthresh = 0.04 # How long we should wait before resetting. What are the units of this threshold?\n",
    "    if (reset and (time - minidx) > (maxitin * resetthresh)): # If the time progresses very far without finding anything better than minitinerary, we can conclude that the changes we made after that point were mistakes and we reset to the best itinerary\n",
    "        itinerarytoreturn = minitinerary # Reset to the last known minimum itinerary\n",
    "        minidx = time\n",
    "\n",
    "    if(howfar(genlines(cities,itinerarytoreturn)) < mindistance):\n",
    "        mindistance = howfar(genlines(cities,itinerary2))\n",
    "        minitinerary = itinerarytoreturn\n",
    "        minidx = time\n",
    "\n",
    "    return(itinerarytoreturn.copy())"
   ]
  },
  {
   "cell_type": "code",
   "execution_count": 152,
   "metadata": {},
   "outputs": [],
   "source": [
    "# Performs the full simulated annealing process and returns an optimized itinerary\n",
    "\n",
    "def siman(itinerary,cities):\n",
    "    newitinerary = itinerary.copy()\n",
    "    global mindistance\n",
    "    global minitinerary\n",
    "    global minidx\n",
    "    mindistance = howfar(genlines(cities,itinerary))\n",
    "    minitinerary = itinerary\n",
    "    minidx = 0\n",
    "\n",
    "    maxitin = len(itinerary) * 50000\n",
    "    for t in range(0,maxitin):\n",
    "        newitinerary = perturb_sa3(cities, newitinerary,t,maxitin)\n",
    "\n",
    "    return(newitinerary.copy())"
   ]
  },
  {
   "cell_type": "code",
   "execution_count": 153,
   "metadata": {},
   "outputs": [
    {
     "name": "stdout",
     "output_type": "stream",
     "text": [
      "6.29000579854535\n",
      "4.8465836404472995\n",
      "0.7705213310881428\n"
     ]
    }
   ],
   "source": [
    "np.random.seed(random_seed)\n",
    "itinerary = list(range(N))\n",
    "nnitin = donn(cities,N)\n",
    "nnresult = howfar(genlines(cities,nnitin))\n",
    "simanitinerary = siman(itinerary,cities)\n",
    "simanresult = howfar(genlines(cities,simanitinerary))\n",
    "print(nnresult)\n",
    "print(simanresult)\n",
    "print(simanresult/nnresult)"
   ]
  },
  {
   "cell_type": "code",
   "execution_count": 155,
   "metadata": {},
   "outputs": [],
   "source": [
    "plotitinerary(cities,simanitinerary,'Traveling Salesman Itinerary - Simulated Annealing','figure5')"
   ]
  }
 ],
 "metadata": {
  "interpreter": {
   "hash": "b0fa6594d8f4cbf19f97940f81e996739fb7646882a419484c72d19e05852a7e"
  },
  "kernelspec": {
   "display_name": "Python 3.9.12 64-bit",
   "language": "python",
   "name": "python3"
  },
  "language_info": {
   "codemirror_mode": {
    "name": "ipython",
    "version": 3
   },
   "file_extension": ".py",
   "mimetype": "text/x-python",
   "name": "python",
   "nbconvert_exporter": "python",
   "pygments_lexer": "ipython3",
   "version": "3.9.12"
  },
  "orig_nbformat": 4
 },
 "nbformat": 4,
 "nbformat_minor": 2
}
