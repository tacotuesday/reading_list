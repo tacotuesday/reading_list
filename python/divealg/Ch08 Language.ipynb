{
 "cells": [
  {
   "cell_type": "markdown",
   "metadata": {},
   "source": [
    "# Language\n",
    "## Space Insertion"
   ]
  },
  {
   "cell_type": "code",
   "execution_count": 3,
   "metadata": {},
   "outputs": [],
   "source": [
    "text = \"The oneperfectly divine thing, the oneglimpse of God's paradisegiven on earth, is to fight a losingbattle - and notlose it.\"\n",
    "word_list = ['The', 'one', 'perfectly', 'divine']\n",
    "word_list_copy = [word for word in word_list]\n",
    "has_n = [word for word in word_list if 'n' in word]"
   ]
  },
  {
   "cell_type": "code",
   "execution_count": 4,
   "metadata": {},
   "outputs": [
    {
     "name": "stdout",
     "output_type": "stream",
     "text": [
      "['The', 'one', 'perfectly', 'divine']\n",
      "['one', 'divine']\n"
     ]
    }
   ],
   "source": [
    "print(word_list_copy)\n",
    "print(has_n)"
   ]
  },
  {
   "cell_type": "code",
   "execution_count": 6,
   "metadata": {},
   "outputs": [
    {
     "name": "stdout",
     "output_type": "stream",
     "text": [
      "[(17, 23), (7, 16), (0, 3), (35, 38), (4, 7)]\n"
     ]
    },
    {
     "data": {
      "text/plain": [
       "'divine'"
      ]
     },
     "execution_count": 6,
     "metadata": {},
     "output_type": "execute_result"
    }
   ],
   "source": [
    "import re\n",
    "locs = list(set([(m.start(),m.end()) for word in word_list for m in re.finditer(word,text)]))\n",
    "print(locs)\n",
    "text[17:23]"
   ]
  }
 ],
 "metadata": {
  "interpreter": {
   "hash": "b0fa6594d8f4cbf19f97940f81e996739fb7646882a419484c72d19e05852a7e"
  },
  "kernelspec": {
   "display_name": "Python 3.9.12 64-bit",
   "language": "python",
   "name": "python3"
  },
  "language_info": {
   "codemirror_mode": {
    "name": "ipython",
    "version": 3
   },
   "file_extension": ".py",
   "mimetype": "text/x-python",
   "name": "python",
   "nbconvert_exporter": "python",
   "pygments_lexer": "ipython3",
   "version": "3.9.12"
  },
  "orig_nbformat": 4
 },
 "nbformat": 4,
 "nbformat_minor": 2
}
